{
 "cells": [
  {
   "cell_type": "markdown",
   "id": "61f1ff32",
   "metadata": {},
   "source": [
    "# Tensors\n",
    "\n",
    "- Specialized data structures similar to arrays and matrices.\n",
    "- These Encode inputs, outputs, and model parameters in PyTorch.\n",
    "- They Resemble NumPy's ndarrays but with additional GPU and hardware acceleration support.\n",
    "- Can share memory with NumPy arrays, reducing data duplication.\n",
    "- Optimized for automatic differentiation, essential for gradient-based learning in deep learning algorithms."
   ]
  },
  {
   "cell_type": "code",
   "execution_count": 2,
   "id": "03b6fef5",
   "metadata": {},
   "outputs": [],
   "source": [
    "import torch\n",
    "import numpy as np"
   ]
  },
  {
   "cell_type": "markdown",
   "id": "7d61efb0",
   "metadata": {},
   "source": [
    "# Initializing a Tensor\n",
    "### 1. From Data "
   ]
  },
  {
   "cell_type": "code",
   "execution_count": 9,
   "id": "9e968eb9",
   "metadata": {},
   "outputs": [
    {
     "data": {
      "text/plain": [
       "[[1, 2], [3, 4]]"
      ]
     },
     "execution_count": 9,
     "metadata": {},
     "output_type": "execute_result"
    }
   ],
   "source": [
    "data = [[1,2], [3,4]]\n",
    "data"
   ]
  },
  {
   "cell_type": "code",
   "execution_count": 10,
   "id": "d0adecab",
   "metadata": {},
   "outputs": [
    {
     "data": {
      "text/plain": [
       "tensor([[1, 2],\n",
       "        [3, 4]])"
      ]
     },
     "execution_count": 10,
     "metadata": {},
     "output_type": "execute_result"
    }
   ],
   "source": [
    "tensor_data = torch.tensor(data)\n",
    "tensor_data"
   ]
  },
  {
   "cell_type": "markdown",
   "id": "3887e7d5",
   "metadata": {},
   "source": [
    "### 2. From a NumPy array"
   ]
  },
  {
   "cell_type": "code",
   "execution_count": 8,
   "id": "aedc002b",
   "metadata": {},
   "outputs": [
    {
     "data": {
      "text/plain": [
       "array([[1, 2],\n",
       "       [3, 4]])"
      ]
     },
     "execution_count": 8,
     "metadata": {},
     "output_type": "execute_result"
    }
   ],
   "source": [
    "np_array = np.array(data)\n",
    "np_array"
   ]
  },
  {
   "cell_type": "code",
   "execution_count": 13,
   "id": "1689480e",
   "metadata": {},
   "outputs": [
    {
     "data": {
      "text/plain": [
       "tensor([[1, 2],\n",
       "        [3, 4]], dtype=torch.int32)"
      ]
     },
     "execution_count": 13,
     "metadata": {},
     "output_type": "execute_result"
    }
   ],
   "source": [
    "tensor_array = torch.tensor(np_array)\n",
    "tensor_array"
   ]
  },
  {
   "cell_type": "code",
   "execution_count": 14,
   "id": "784a21ff",
   "metadata": {},
   "outputs": [
    {
     "data": {
      "text/plain": [
       "tensor([[1, 2],\n",
       "        [3, 4]], dtype=torch.int32)"
      ]
     },
     "execution_count": 14,
     "metadata": {},
     "output_type": "execute_result"
    }
   ],
   "source": [
    "tensor_array2 = torch.from_numpy(np_array)\n",
    "tensor_array2"
   ]
  },
  {
   "cell_type": "markdown",
   "id": "3d6c6e91",
   "metadata": {},
   "source": [
    "**Note: tensor from numpy has has data type of element as well.**"
   ]
  },
  {
   "cell_type": "markdown",
   "id": "04abd3d7",
   "metadata": {},
   "source": [
    "### 3. From another tensor\n",
    "- **ones_like**\n",
    "- **rand_like**"
   ]
  },
  {
   "cell_type": "code",
   "execution_count": 15,
   "id": "e2f32f4a",
   "metadata": {},
   "outputs": [
    {
     "data": {
      "text/plain": [
       "tensor([[1, 1],\n",
       "        [1, 1]], dtype=torch.int32)"
      ]
     },
     "execution_count": 15,
     "metadata": {},
     "output_type": "execute_result"
    }
   ],
   "source": [
    "x_ones = torch.ones_like(tensor_data)\n",
    "x_ones"
   ]
  },
  {
   "cell_type": "code",
   "execution_count": 20,
   "id": "65470678",
   "metadata": {},
   "outputs": [
    {
     "data": {
      "text/plain": [
       "tensor([[0.0950, 0.9127],\n",
       "        [0.7641, 0.9433]])"
      ]
     },
     "execution_count": 20,
     "metadata": {},
     "output_type": "execute_result"
    }
   ],
   "source": [
    "x_rand = torch.rand_like(tensor_data, dtype=torch.float32)\n",
    "x_rand"
   ]
  },
  {
   "cell_type": "markdown",
   "id": "a4d1502f",
   "metadata": {},
   "source": [
    "### 4. With Shape"
   ]
  },
  {
   "cell_type": "code",
   "execution_count": 24,
   "id": "14526f61",
   "metadata": {},
   "outputs": [
    {
     "name": "stdout",
     "output_type": "stream",
     "text": [
      "Random Tensor: \n",
      " tensor([[0.5986, 0.8283, 0.5263],\n",
      "        [0.5656, 0.4118, 0.6181]]) \n",
      "\n",
      "Ones Tensor: \n",
      " tensor([[1., 1., 1.],\n",
      "        [1., 1., 1.]]) \n",
      "\n",
      "Zeros Tensor: \n",
      " tensor([[0., 0., 0.],\n",
      "        [0., 0., 0.]])\n"
     ]
    }
   ],
   "source": [
    "shape = (2,3,)\n",
    "rand_tensor = torch.rand(shape)\n",
    "ones_tensor = torch.ones(shape)\n",
    "zeros_tensor = torch.zeros(shape)\n",
    "\n",
    "print(f\"Random Tensor: \\n {rand_tensor} \\n\")\n",
    "print(f\"Ones Tensor: \\n {ones_tensor} \\n\")\n",
    "print(f\"Zeros Tensor: \\n {zeros_tensor}\")"
   ]
  },
  {
   "cell_type": "markdown",
   "id": "acea2cdf",
   "metadata": {},
   "source": [
    "# Attributes of a Tensor"
   ]
  },
  {
   "cell_type": "code",
   "execution_count": 26,
   "id": "b0660ff9",
   "metadata": {},
   "outputs": [
    {
     "name": "stdout",
     "output_type": "stream",
     "text": [
      "Shape of tensor: torch.Size([2, 3])\n",
      "Datatype of tensor: torch.float32\n",
      "Device tensor is stored on: cpu\n"
     ]
    }
   ],
   "source": [
    "tensor = torch.rand((2,3))\n",
    "print(f\"Shape of tensor: {tensor.shape}\")\n",
    "print(f\"Datatype of tensor: {tensor.dtype}\")\n",
    "print(f\"Device tensor is stored on: {tensor.device}\")"
   ]
  },
  {
   "cell_type": "markdown",
   "id": "ab5b5cc1",
   "metadata": {},
   "source": [
    "# Operation in tensors"
   ]
  },
  {
   "cell_type": "code",
   "execution_count": 29,
   "id": "81b61390",
   "metadata": {},
   "outputs": [],
   "source": [
    "# We move our tensor to the GPU if available\n",
    "if torch.cuda.is_available():\n",
    "    tensor = tensor.to(\"cuda\")"
   ]
  },
  {
   "cell_type": "markdown",
   "id": "b8d7fc6e",
   "metadata": {},
   "source": [
    "The line **tensor = tensor.to(\"cuda\")** in PyTorch moves the PyTorch tensor named **tensor** onto a CUDA-enabled GPU for faster computations if a compatible GPU is available."
   ]
  },
  {
   "cell_type": "markdown",
   "id": "0979568d",
   "metadata": {},
   "source": [
    "### 1. indexing and slicing"
   ]
  },
  {
   "cell_type": "code",
   "execution_count": 49,
   "id": "0a749598",
   "metadata": {},
   "outputs": [
    {
     "name": "stdout",
     "output_type": "stream",
     "text": [
      "First row: tensor([1., 1., 1., 1.])\n",
      "First column: tensor([1., 1., 1., 1.])\n",
      "Last column: tensor([1., 1., 1., 1.])\n",
      "tensor([[1., 0., 1., 1.],\n",
      "        [1., 0., 1., 1.],\n",
      "        [1., 0., 1., 1.],\n",
      "        [1., 0., 1., 1.]])\n"
     ]
    }
   ],
   "source": [
    "tensor = torch.ones(4,4)\n",
    "print(f\"First row: {tensor[1]}\")\n",
    "print(f\"First column: {tensor[:, 0]}\")\n",
    "print(f\"Last column: {tensor[:, -1]}\")\n",
    "tensor[:,1] = 0\n",
    "print(tensor)"
   ]
  },
  {
   "cell_type": "markdown",
   "id": "31a67c88",
   "metadata": {},
   "source": [
    "### 2. joining tensors"
   ]
  },
  {
   "cell_type": "code",
   "execution_count": 87,
   "id": "f8bab7ac",
   "metadata": {},
   "outputs": [
    {
     "name": "stdout",
     "output_type": "stream",
     "text": [
      "tensor([[6., 5., 6., 6., 6., 5., 6., 6., 6., 5., 6., 6.],\n",
      "        [6., 5., 6., 6., 6., 5., 6., 6., 6., 5., 6., 6.],\n",
      "        [6., 5., 6., 6., 6., 5., 6., 6., 6., 5., 6., 6.],\n",
      "        [6., 5., 6., 6., 6., 5., 6., 6., 6., 5., 6., 6.]])\n"
     ]
    }
   ],
   "source": [
    "join_tensor = torch.cat([tensor, tensor, tensor], dim=1) # dim=1 -> along col; dim=2 -> along row\n",
    "print(join_tensor)"
   ]
  },
  {
   "cell_type": "markdown",
   "id": "b6b08dfe",
   "metadata": {},
   "source": [
    "### 3. Arithmetic Operation "
   ]
  },
  {
   "cell_type": "code",
   "execution_count": 84,
   "id": "cc8eb84a",
   "metadata": {},
   "outputs": [],
   "source": [
    "data_1 = [[1,2,3],[4,5,6]]\n",
    "data_2 = [[10,11],[12,13],[5,6]]\n",
    "tensor_1 = torch.tensor(data_1)\n",
    "tensor_2 = torch.tensor(data_2)\n",
    "\n",
    "pre_mul = tensor_1 @ tensor_2\n",
    "post_mul = tensor_2 @ tensor_1"
   ]
  },
  {
   "cell_type": "code",
   "execution_count": 59,
   "id": "05f535b0",
   "metadata": {},
   "outputs": [
    {
     "data": {
      "text/plain": [
       "tensor([[ 49,  55],\n",
       "        [130, 145]])"
      ]
     },
     "execution_count": 59,
     "metadata": {},
     "output_type": "execute_result"
    }
   ],
   "source": [
    "pre_mul"
   ]
  },
  {
   "cell_type": "code",
   "execution_count": 60,
   "id": "f791232b",
   "metadata": {},
   "outputs": [
    {
     "data": {
      "text/plain": [
       "tensor([[ 54,  75,  96],\n",
       "        [ 64,  89, 114],\n",
       "        [ 29,  40,  51]])"
      ]
     },
     "execution_count": 60,
     "metadata": {},
     "output_type": "execute_result"
    }
   ],
   "source": [
    "post_mul"
   ]
  },
  {
   "cell_type": "code",
   "execution_count": 64,
   "id": "8ba4c50c",
   "metadata": {},
   "outputs": [
    {
     "data": {
      "text/plain": [
       "tensor([[ 49,  55],\n",
       "        [130, 145]])"
      ]
     },
     "execution_count": 64,
     "metadata": {},
     "output_type": "execute_result"
    }
   ],
   "source": [
    "post_mult = torch.matmul(tensor_1, tensor_2)\n",
    "post_mult"
   ]
  },
  {
   "cell_type": "code",
   "execution_count": 69,
   "id": "a9cc7acb",
   "metadata": {},
   "outputs": [
    {
     "data": {
      "text/plain": [
       "tensor([[ 1,  4,  9],\n",
       "        [16, 25, 36]])"
      ]
     },
     "execution_count": 69,
     "metadata": {},
     "output_type": "execute_result"
    }
   ],
   "source": [
    "z1 = tensor_1*tensor_1\n",
    "z1"
   ]
  },
  {
   "cell_type": "code",
   "execution_count": 71,
   "id": "7e2706b5",
   "metadata": {},
   "outputs": [
    {
     "data": {
      "text/plain": [
       "tensor([[ 1,  4,  9],\n",
       "        [16, 25, 36]])"
      ]
     },
     "execution_count": 71,
     "metadata": {},
     "output_type": "execute_result"
    }
   ],
   "source": [
    "z2 = torch.mul(tensor_1, tensor_1)\n",
    "z2"
   ]
  },
  {
   "cell_type": "markdown",
   "id": "3898e79b",
   "metadata": {},
   "source": [
    "### 4. Single-element tensors\n",
    "If you have a one-element tensor, for example by aggregating all values of a tensor into one value, you can convert it to a Python numerical value using **.item():**"
   ]
  },
  {
   "cell_type": "code",
   "execution_count": 86,
   "id": "50adc9aa",
   "metadata": {},
   "outputs": [
    {
     "data": {
      "text/plain": [
       "tensor([[ 6,  7,  8],\n",
       "        [ 9, 10, 11]])"
      ]
     },
     "execution_count": 86,
     "metadata": {},
     "output_type": "execute_result"
    }
   ],
   "source": [
    "tensor_1"
   ]
  },
  {
   "cell_type": "code",
   "execution_count": 74,
   "id": "c26a1ee1",
   "metadata": {},
   "outputs": [
    {
     "data": {
      "text/plain": [
       "tensor(21)"
      ]
     },
     "execution_count": 74,
     "metadata": {},
     "output_type": "execute_result"
    }
   ],
   "source": [
    "agg = tensor_1.sum()\n",
    "agg"
   ]
  },
  {
   "cell_type": "code",
   "execution_count": 75,
   "id": "9ff0f80c",
   "metadata": {},
   "outputs": [
    {
     "name": "stdout",
     "output_type": "stream",
     "text": [
      "21 <class 'int'>\n"
     ]
    }
   ],
   "source": [
    "agg_item = agg.item()\n",
    "print(agg_item, type(agg_item))"
   ]
  },
  {
   "cell_type": "markdown",
   "id": "2cd0f6c1",
   "metadata": {},
   "source": [
    "###  5. Inplace operation"
   ]
  },
  {
   "cell_type": "markdown",
   "id": "596baffd",
   "metadata": {},
   "source": [
    "In PyTorch, certain operations modify the original variable directly, storing the result within the same variable. These are referred to as in-place operations and are indicated by a suffix `_`.\n",
    "\n",
    "For example:\n",
    "\n",
    "- `x.copy_(y)`: This function copies the contents of tensor `y` into tensor `x`, altering `x` directly.\n",
    "- `x.t_()`: Transposes tensor `x` and saves the transposed result back into the original variable `x`.\n",
    "\n",
    "These in-place operations directly change the original tensor without creating a new one or requiring reassignment. While they can save memory by avoiding unnecessary tensor copies, they might make code harder to debug as they modify tensors destructively.\n"
   ]
  },
  {
   "cell_type": "code",
   "execution_count": 85,
   "id": "61a1ee2c",
   "metadata": {},
   "outputs": [
    {
     "name": "stdout",
     "output_type": "stream",
     "text": [
      "tensor([[1, 2, 3],\n",
      "        [4, 5, 6]]) \n",
      "\n",
      "tensor([[ 6,  7,  8],\n",
      "        [ 9, 10, 11]])\n"
     ]
    }
   ],
   "source": [
    "print(tensor_1, '\\n')\n",
    "tensor_1.add_(5)\n",
    "print(tensor_1)"
   ]
  },
  {
   "cell_type": "markdown",
   "id": "7267ae7a",
   "metadata": {},
   "source": [
    "**NOTE:**\n",
    "    In-place operations save some memory, but can be problematic when computing derivatives because of an immediate loss of history. Hence, their use is discouraged."
   ]
  },
  {
   "cell_type": "markdown",
   "id": "2b104286",
   "metadata": {},
   "source": [
    "### 6. Bridge with NumPy"
   ]
  },
  {
   "cell_type": "markdown",
   "id": "6a557494",
   "metadata": {},
   "source": [
    "#### tensor to Numpy array"
   ]
  },
  {
   "cell_type": "code",
   "execution_count": 94,
   "id": "9a314c8b",
   "metadata": {},
   "outputs": [
    {
     "data": {
      "text/plain": [
       "tensor([1., 1., 1., 1., 1.])"
      ]
     },
     "execution_count": 94,
     "metadata": {},
     "output_type": "execute_result"
    }
   ],
   "source": [
    "t = torch.ones(5)\n",
    "t"
   ]
  },
  {
   "cell_type": "code",
   "execution_count": 95,
   "id": "fa15e534",
   "metadata": {},
   "outputs": [
    {
     "data": {
      "text/plain": [
       "array([1., 1., 1., 1., 1.], dtype=float32)"
      ]
     },
     "execution_count": 95,
     "metadata": {},
     "output_type": "execute_result"
    }
   ],
   "source": [
    "n = t.numpy()\n",
    "n"
   ]
  },
  {
   "cell_type": "code",
   "execution_count": 96,
   "id": "f5b1a00a",
   "metadata": {},
   "outputs": [
    {
     "name": "stdout",
     "output_type": "stream",
     "text": [
      "Tensor: tensor([11., 11., 11., 11., 11.])\n",
      "numpy: [11. 11. 11. 11. 11.]\n"
     ]
    }
   ],
   "source": [
    "t.add_(10)\n",
    "print(\"Tensor:\", t)\n",
    "print(\"numpy:\", n)"
   ]
  },
  {
   "cell_type": "markdown",
   "id": "12b56b66",
   "metadata": {},
   "source": [
    "#### Numpy array to tensor"
   ]
  },
  {
   "cell_type": "code",
   "execution_count": 105,
   "id": "a9c3c049",
   "metadata": {},
   "outputs": [
    {
     "data": {
      "text/plain": [
       "array([1., 1., 1., 1., 1.])"
      ]
     },
     "execution_count": 105,
     "metadata": {},
     "output_type": "execute_result"
    }
   ],
   "source": [
    "n = np.ones(5)\n",
    "n"
   ]
  },
  {
   "cell_type": "code",
   "execution_count": 106,
   "id": "a5888a72",
   "metadata": {},
   "outputs": [
    {
     "data": {
      "text/plain": [
       "tensor([1., 1., 1., 1., 1.], dtype=torch.float64)"
      ]
     },
     "execution_count": 106,
     "metadata": {},
     "output_type": "execute_result"
    }
   ],
   "source": [
    "t = torch.from_numpy(n)\n",
    "t"
   ]
  },
  {
   "cell_type": "code",
   "execution_count": 111,
   "id": "79e75e04",
   "metadata": {},
   "outputs": [
    {
     "name": "stdout",
     "output_type": "stream",
     "text": [
      "[32. 32. 32. 32. 32.]\n",
      "tensor([1., 1., 1., 1., 1.], dtype=torch.float64)\n"
     ]
    }
   ],
   "source": [
    "np.add(n, 10, out = n)\n",
    "print(n)\n",
    "print(t)"
   ]
  }
 ],
 "metadata": {
  "kernelspec": {
   "display_name": "pytorch",
   "language": "python",
   "name": "pytorch"
  },
  "language_info": {
   "codemirror_mode": {
    "name": "ipython",
    "version": 3
   },
   "file_extension": ".py",
   "mimetype": "text/x-python",
   "name": "python",
   "nbconvert_exporter": "python",
   "pygments_lexer": "ipython3",
   "version": "3.9.12"
  }
 },
 "nbformat": 4,
 "nbformat_minor": 5
}
