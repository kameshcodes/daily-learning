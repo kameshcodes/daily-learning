{
  "nbformat": 4,
  "nbformat_minor": 0,
  "metadata": {
    "colab": {
      "provenance": []
    },
    "kernelspec": {
      "name": "python3",
      "display_name": "Python 3"
    },
    "language_info": {
      "name": "python"
    }
  },
  "cells": [
    {
      "cell_type": "markdown",
      "source": [
        "# $\\textbf{Regex}$\n",
        "\n",
        "---\n",
        "\n",
        "\n",
        " **Regular Expression (Regex)**: A sequence of characters defining a search pattern used for matching text in strings, such as searching, extracting, or manipulating data.\n",
        "\n",
        "<br>\n",
        "<br>\n",
        "\n",
        "### $\\textbf{Why We Need Regex}$\n",
        "\n",
        "---\n",
        "\n",
        "- **Text Matching**: Allows efficient pattern matching in large texts (e.g., finding email addresses or phone numbers).\n",
        "- **Data Validation**: Ensures that data formats (e.g., dates, email, or phone numbers) follow a specified pattern.\n",
        "- **String Manipulation**: Enables replacing, splitting, or extracting portions of strings based on a pattern.\n",
        "- **Automation**: Reduces manual efforts by automating repetitive text processing tasks.\n",
        "- **Flexibility**: Provides powerful and flexible ways to handle complex text search requirements.\n",
        "\n"
      ],
      "metadata": {
        "id": "hE7Z2ws7Pxa4"
      }
    },
    {
      "cell_type": "markdown",
      "source": [
        "## $\\textbf{Raw String in Python}$\n",
        "---\n",
        "\n",
        "\n",
        "- A raw string treats backslashes **\\** as literal characters, rather than escape characters.\n",
        "\n",
        "- Defined by prefixing the string with an $r$ or $R$.\n"
      ],
      "metadata": {
        "id": "Ng2UvKxBRKBW"
      }
    },
    {
      "cell_type": "code",
      "source": [
        "import re"
      ],
      "metadata": {
        "id": "89aKkaiGPyVp"
      },
      "execution_count": 1,
      "outputs": []
    },
    {
      "cell_type": "code",
      "source": [
        "print(\"Hello\\nWorld\")"
      ],
      "metadata": {
        "colab": {
          "base_uri": "https://localhost:8080/"
        },
        "id": "Eul0vXKXQi5k",
        "outputId": "67a80849-d169-4ee0-f057-af26b78ad879"
      },
      "execution_count": 2,
      "outputs": [
        {
          "output_type": "stream",
          "name": "stdout",
          "text": [
            "Hello\n",
            "World\n"
          ]
        }
      ]
    },
    {
      "cell_type": "markdown",
      "source": [
        "Here, **\\n** is being treated as new line."
      ],
      "metadata": {
        "id": "4ZO-vFQoQ0R2"
      }
    },
    {
      "cell_type": "code",
      "source": [
        "print(r\"Hello \\n World\" )"
      ],
      "metadata": {
        "colab": {
          "base_uri": "https://localhost:8080/"
        },
        "id": "G4b6-lHUQnvN",
        "outputId": "17975585-91ad-40ab-ed0b-0c07bd96608a"
      },
      "execution_count": 3,
      "outputs": [
        {
          "output_type": "stream",
          "name": "stdout",
          "text": [
            "Hello \\n World\n"
          ]
        }
      ]
    },
    {
      "cell_type": "markdown",
      "source": [
        "Now, **\\n** is being treated is treated as literal character."
      ],
      "metadata": {
        "id": "72cksy8URaQO"
      }
    },
    {
      "cell_type": "markdown",
      "source": [
        "# $\\textbf{Most Common Re Module Function}$\n",
        "\n",
        "- **`compile()`**: Converts a regex pattern into a regex object for faster repeated\n",
        "matches.\n",
        "\n",
        "<br>\n",
        "\n",
        "$\\textbf{Searching Functions}$\n",
        "\n",
        "---\n",
        "\n",
        "- **`match()`**: Determines if the regex pattern matches at the beginning of a string, return a $match$ $object$ only if found\n",
        "\n",
        "- **`search()`**: Scans through a string and returns the first match of the regex pattern\n",
        "\n",
        "- **`finditer()`**: Returns an iterator yielding $match$ $objects$ for all non-overlapping matches of the regex pattern in a string.\n",
        "\n",
        "- **`findall()`**: Returns a list of all non-overlapping matches of the regex pattern in a string, without returning $match$ $objects$.\n",
        "\n",
        "\n",
        "- **`sub()`**: Replaces occurrences of the regex pattern in a string with a specified replacement string.\n",
        "\n",
        "- **`split()`**: Splits a string by occurrences of the regex pattern, returning a list of substrings.\n"
      ],
      "metadata": {
        "id": "mwsbaNSNRjcz"
      }
    },
    {
      "cell_type": "markdown",
      "source": [
        "### $\\textbf{Searching Functions}$\n",
        "\n",
        "---\n",
        "---"
      ],
      "metadata": {
        "id": "cmIGVRBXTW4S"
      }
    },
    {
      "cell_type": "markdown",
      "source": [
        "#### $\\textbf{match() method}$"
      ],
      "metadata": {
        "id": "LIgj_yHFWN1J"
      }
    },
    {
      "cell_type": "code",
      "source": [
        "test_string =  \"123abc456789abc123ABC\"\n",
        "\n",
        "test_string"
      ],
      "metadata": {
        "colab": {
          "base_uri": "https://localhost:8080/",
          "height": 36
        },
        "id": "gzvw7wOcRYSk",
        "outputId": "c67d84d9-7a9c-456d-d2ee-7be325287df2"
      },
      "execution_count": 4,
      "outputs": [
        {
          "output_type": "execute_result",
          "data": {
            "text/plain": [
              "'123abc456789abc123ABC'"
            ],
            "application/vnd.google.colaboratory.intrinsic+json": {
              "type": "string"
            }
          },
          "metadata": {},
          "execution_count": 4
        }
      ]
    },
    {
      "cell_type": "code",
      "source": [
        "# pattern = r\"abc\"\n",
        "pattern = re.compile(r\"abc\")\n",
        "\n",
        "match = re.match(pattern, test_string)  # what pattern to look for in which string\n",
        "print(match)"
      ],
      "metadata": {
        "colab": {
          "base_uri": "https://localhost:8080/"
        },
        "id": "GizGp3aoUfw5",
        "outputId": "09f74a1c-4436-4cc7-9c33-02e6e907df17"
      },
      "execution_count": 5,
      "outputs": [
        {
          "output_type": "stream",
          "name": "stdout",
          "text": [
            "None\n"
          ]
        }
      ]
    },
    {
      "cell_type": "code",
      "source": [
        "pattern = re.compile(r\"123\")\n",
        "\n",
        "match = re.match(pattern, test_string)  # what pattern to look for in which string\n",
        "print(match)"
      ],
      "metadata": {
        "colab": {
          "base_uri": "https://localhost:8080/"
        },
        "id": "mVa8xyC1UnoX",
        "outputId": "b1d712c5-5245-47dd-92d9-60413c142444"
      },
      "execution_count": 6,
      "outputs": [
        {
          "output_type": "stream",
          "name": "stdout",
          "text": [
            "<re.Match object; span=(0, 3), match='123'>\n"
          ]
        }
      ]
    },
    {
      "cell_type": "code",
      "source": [
        "match.span()"
      ],
      "metadata": {
        "colab": {
          "base_uri": "https://localhost:8080/"
        },
        "id": "W97e981YVUcC",
        "outputId": "785198dd-c552-4e10-9ef9-5211e96e9c64"
      },
      "execution_count": 7,
      "outputs": [
        {
          "output_type": "execute_result",
          "data": {
            "text/plain": [
              "(0, 3)"
            ]
          },
          "metadata": {},
          "execution_count": 7
        }
      ]
    },
    {
      "cell_type": "code",
      "source": [
        "strt_idx, end_idx = match.span()\n",
        "\n",
        "print(test_string[strt_idx:end_idx])"
      ],
      "metadata": {
        "colab": {
          "base_uri": "https://localhost:8080/"
        },
        "id": "_vxRklyaVrbY",
        "outputId": "fe335cd1-6cac-424f-c418-95180545d2f8"
      },
      "execution_count": 8,
      "outputs": [
        {
          "output_type": "stream",
          "name": "stdout",
          "text": [
            "123\n"
          ]
        }
      ]
    },
    {
      "cell_type": "markdown",
      "source": [
        "#### $\\textbf{search() method}$"
      ],
      "metadata": {
        "id": "i6fGmg28WYPN"
      }
    },
    {
      "cell_type": "markdown",
      "source": [
        "This searches in entire sentence but it gives you first occurance."
      ],
      "metadata": {
        "id": "Bf-8GVJKXde5"
      }
    },
    {
      "cell_type": "code",
      "source": [
        "test_string =  \"123abc456789abc123ABC\"\n",
        "\n",
        "test_string"
      ],
      "metadata": {
        "colab": {
          "base_uri": "https://localhost:8080/",
          "height": 36
        },
        "id": "ZHWa2ztPXcte",
        "outputId": "1969a1f4-a1d0-492e-80b7-332e6305589b"
      },
      "execution_count": 9,
      "outputs": [
        {
          "output_type": "execute_result",
          "data": {
            "text/plain": [
              "'123abc456789abc123ABC'"
            ],
            "application/vnd.google.colaboratory.intrinsic+json": {
              "type": "string"
            }
          },
          "metadata": {},
          "execution_count": 9
        }
      ]
    },
    {
      "cell_type": "code",
      "source": [
        "pattern = re.compile(r\"abc\")\n",
        "\n",
        "match = re.search(pattern, test_string)\n",
        "\n",
        "print(match)"
      ],
      "metadata": {
        "colab": {
          "base_uri": "https://localhost:8080/"
        },
        "id": "e5ED76V3WW4x",
        "outputId": "13e0a430-1ac7-4fab-dbc2-393e11b17fbf"
      },
      "execution_count": 10,
      "outputs": [
        {
          "output_type": "stream",
          "name": "stdout",
          "text": [
            "<re.Match object; span=(3, 6), match='abc'>\n"
          ]
        }
      ]
    },
    {
      "cell_type": "markdown",
      "source": [
        "**search method** is able to find $abc$, even if it not appearing start but return only first match\n"
      ],
      "metadata": {
        "id": "SQxPATT_Xnig"
      }
    },
    {
      "cell_type": "code",
      "source": [
        "pattern = re.compile(r\"123\")\n",
        "\n",
        "match = re.search(pattern, test_string)\n",
        "\n",
        "print(match)"
      ],
      "metadata": {
        "colab": {
          "base_uri": "https://localhost:8080/"
        },
        "id": "HfDSKjiwV89f",
        "outputId": "0efda113-6f14-4a8c-9f37-67c99a6b2285"
      },
      "execution_count": 11,
      "outputs": [
        {
          "output_type": "stream",
          "name": "stdout",
          "text": [
            "<re.Match object; span=(0, 3), match='123'>\n"
          ]
        }
      ]
    },
    {
      "cell_type": "markdown",
      "source": [
        "#### $\\textbf{findall() method}$\n",
        "\n",
        "Search for all the occurance and return iterator of all match and not not match string"
      ],
      "metadata": {
        "id": "_LLRpZavX_YL"
      }
    },
    {
      "cell_type": "code",
      "source": [
        "pattern = re.compile(r'abc')"
      ],
      "metadata": {
        "id": "pVxdoCGhWA2s"
      },
      "execution_count": 12,
      "outputs": []
    },
    {
      "cell_type": "code",
      "source": [
        "matches = re.findall(pattern, test_string)\n",
        "\n",
        "matches"
      ],
      "metadata": {
        "colab": {
          "base_uri": "https://localhost:8080/"
        },
        "id": "iS08v1EAYqZi",
        "outputId": "7be9cee7-7227-41af-f000-e54b694ded6c"
      },
      "execution_count": 13,
      "outputs": [
        {
          "output_type": "execute_result",
          "data": {
            "text/plain": [
              "['abc', 'abc']"
            ]
          },
          "metadata": {},
          "execution_count": 13
        }
      ]
    },
    {
      "cell_type": "markdown",
      "source": [
        "#### $\\textbf{finditer() method}$\n",
        "\n",
        "\n",
        "Returns an $iterator$ yielding $match$ $objects$ for all non-overlapping matches of the regex pattern in a string.\n",
        "\n",
        "![image.png](data:image/png;base64,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)"
      ],
      "metadata": {
        "id": "eu7kOprTZBL3"
      }
    },
    {
      "cell_type": "code",
      "source": [
        "pattern = re.compile(r'abc')\n",
        "\n",
        "matches = re.finditer(pattern, test_string)\n",
        "\n",
        "matches"
      ],
      "metadata": {
        "colab": {
          "base_uri": "https://localhost:8080/"
        },
        "id": "zDH9lBI9H7Kq",
        "outputId": "46339fe7-8391-4aec-cd59-a5752fb0dacc"
      },
      "execution_count": 14,
      "outputs": [
        {
          "output_type": "execute_result",
          "data": {
            "text/plain": [
              "<callable_iterator at 0x7d60acb14e50>"
            ]
          },
          "metadata": {},
          "execution_count": 14
        }
      ]
    },
    {
      "cell_type": "code",
      "source": [
        "for match in matches:\n",
        "  print(match)"
      ],
      "metadata": {
        "colab": {
          "base_uri": "https://localhost:8080/"
        },
        "id": "ueu2qT5vIBxa",
        "outputId": "fb9795ff-6816-4b49-ff5a-26f6c81cf7df"
      },
      "execution_count": 15,
      "outputs": [
        {
          "output_type": "stream",
          "name": "stdout",
          "text": [
            "<re.Match object; span=(3, 6), match='abc'>\n",
            "<re.Match object; span=(12, 15), match='abc'>\n"
          ]
        }
      ]
    },
    {
      "cell_type": "markdown",
      "source": [
        "### $\\textbf{Meta Character}$\n",
        "\n",
        "---\n",
        "---\n",
        "\n",
        "- These are $special$ $characters$, with each one $\\text{having a unique meaning}$ in the context of $string$ $matching$\n",
        "\n",
        "- Help in creating complex patterns conveniently with less code\n",
        "\n",
        "---"
      ],
      "metadata": {
        "id": "Gj2xh470Hp2T"
      }
    },
    {
      "cell_type": "code",
      "source": [
        "test_string_1 = \"123abc.456789abc123defGHI.ABC \\n xyz345WXYZ\"\n",
        "\n",
        "test_string_2 = \"The cat sat on the mat with a bat and a hat.\"\n",
        "\n",
        "test_string_3 = \"The cat sat on the mat with a bat and a hat. $at, 8at, at.\"\n",
        "\n",
        "text = \"\"\"Hello World!\n",
        "This is a test.\n",
        "Hello again!\n",
        "Python is fun.\n",
        "Hello Python\"\"\""
      ],
      "metadata": {
        "id": "7PzmFcNZJyEl"
      },
      "execution_count": 16,
      "outputs": []
    },
    {
      "cell_type": "markdown",
      "source": [
        "### $\\textbf{dot Character (.)}$"
      ],
      "metadata": {
        "id": "PFdBrhoEJyZa"
      }
    },
    {
      "cell_type": "code",
      "source": [
        "pattern = re.compile(r\".\")\n",
        "pattern"
      ],
      "metadata": {
        "colab": {
          "base_uri": "https://localhost:8080/"
        },
        "id": "TDxF40xoHpMK",
        "outputId": "e1b9d6f3-b160-4824-9b7e-7541f07e08e1"
      },
      "execution_count": 17,
      "outputs": [
        {
          "output_type": "execute_result",
          "data": {
            "text/plain": [
              "re.compile(r'.', re.UNICODE)"
            ]
          },
          "metadata": {},
          "execution_count": 17
        }
      ]
    },
    {
      "cell_type": "code",
      "source": [
        "matches = re.finditer(pattern, test_string_1)\n",
        "\n",
        "for m in matches:\n",
        "  print(m)"
      ],
      "metadata": {
        "colab": {
          "base_uri": "https://localhost:8080/"
        },
        "id": "-Aj0VtwbY1QB",
        "outputId": "43061eaa-8184-43c5-895e-7ec66b9de743"
      },
      "execution_count": 18,
      "outputs": [
        {
          "output_type": "stream",
          "name": "stdout",
          "text": [
            "<re.Match object; span=(0, 1), match='1'>\n",
            "<re.Match object; span=(1, 2), match='2'>\n",
            "<re.Match object; span=(2, 3), match='3'>\n",
            "<re.Match object; span=(3, 4), match='a'>\n",
            "<re.Match object; span=(4, 5), match='b'>\n",
            "<re.Match object; span=(5, 6), match='c'>\n",
            "<re.Match object; span=(6, 7), match='.'>\n",
            "<re.Match object; span=(7, 8), match='4'>\n",
            "<re.Match object; span=(8, 9), match='5'>\n",
            "<re.Match object; span=(9, 10), match='6'>\n",
            "<re.Match object; span=(10, 11), match='7'>\n",
            "<re.Match object; span=(11, 12), match='8'>\n",
            "<re.Match object; span=(12, 13), match='9'>\n",
            "<re.Match object; span=(13, 14), match='a'>\n",
            "<re.Match object; span=(14, 15), match='b'>\n",
            "<re.Match object; span=(15, 16), match='c'>\n",
            "<re.Match object; span=(16, 17), match='1'>\n",
            "<re.Match object; span=(17, 18), match='2'>\n",
            "<re.Match object; span=(18, 19), match='3'>\n",
            "<re.Match object; span=(19, 20), match='d'>\n",
            "<re.Match object; span=(20, 21), match='e'>\n",
            "<re.Match object; span=(21, 22), match='f'>\n",
            "<re.Match object; span=(22, 23), match='G'>\n",
            "<re.Match object; span=(23, 24), match='H'>\n",
            "<re.Match object; span=(24, 25), match='I'>\n",
            "<re.Match object; span=(25, 26), match='.'>\n",
            "<re.Match object; span=(26, 27), match='A'>\n",
            "<re.Match object; span=(27, 28), match='B'>\n",
            "<re.Match object; span=(28, 29), match='C'>\n",
            "<re.Match object; span=(29, 30), match=' '>\n",
            "<re.Match object; span=(31, 32), match=' '>\n",
            "<re.Match object; span=(32, 33), match='x'>\n",
            "<re.Match object; span=(33, 34), match='y'>\n",
            "<re.Match object; span=(34, 35), match='z'>\n",
            "<re.Match object; span=(35, 36), match='3'>\n",
            "<re.Match object; span=(36, 37), match='4'>\n",
            "<re.Match object; span=(37, 38), match='5'>\n",
            "<re.Match object; span=(38, 39), match='W'>\n",
            "<re.Match object; span=(39, 40), match='X'>\n",
            "<re.Match object; span=(40, 41), match='Y'>\n",
            "<re.Match object; span=(41, 42), match='Z'>\n"
          ]
        }
      ]
    },
    {
      "cell_type": "code",
      "source": [
        "test_string_1"
      ],
      "metadata": {
        "colab": {
          "base_uri": "https://localhost:8080/",
          "height": 36
        },
        "id": "eCQqPxBBL3hd",
        "outputId": "184889f8-a145-48a0-bc88-8f4d7dcef630"
      },
      "execution_count": 19,
      "outputs": [
        {
          "output_type": "execute_result",
          "data": {
            "text/plain": [
              "'123abc.456789abc123defGHI.ABC \\n xyz345WXYZ'"
            ],
            "application/vnd.google.colaboratory.intrinsic+json": {
              "type": "string"
            }
          },
          "metadata": {},
          "execution_count": 19
        }
      ]
    },
    {
      "cell_type": "markdown",
      "source": [
        "$Example-2$"
      ],
      "metadata": {
        "id": "vFRAF0ZaMg6M"
      }
    },
    {
      "cell_type": "code",
      "source": [
        "pattern = re.compile('.')\n",
        "\n",
        "matches = re.finditer(pattern, test_string_2)\n",
        "\n",
        "for m in matches:\n",
        "  print(m)"
      ],
      "metadata": {
        "colab": {
          "base_uri": "https://localhost:8080/"
        },
        "id": "gyF2w72cLXAj",
        "outputId": "e0417a92-e772-46a2-ead8-815a66f2a6f0"
      },
      "execution_count": 20,
      "outputs": [
        {
          "output_type": "stream",
          "name": "stdout",
          "text": [
            "<re.Match object; span=(0, 1), match='T'>\n",
            "<re.Match object; span=(1, 2), match='h'>\n",
            "<re.Match object; span=(2, 3), match='e'>\n",
            "<re.Match object; span=(3, 4), match=' '>\n",
            "<re.Match object; span=(4, 5), match='c'>\n",
            "<re.Match object; span=(5, 6), match='a'>\n",
            "<re.Match object; span=(6, 7), match='t'>\n",
            "<re.Match object; span=(7, 8), match=' '>\n",
            "<re.Match object; span=(8, 9), match='s'>\n",
            "<re.Match object; span=(9, 10), match='a'>\n",
            "<re.Match object; span=(10, 11), match='t'>\n",
            "<re.Match object; span=(11, 12), match=' '>\n",
            "<re.Match object; span=(12, 13), match='o'>\n",
            "<re.Match object; span=(13, 14), match='n'>\n",
            "<re.Match object; span=(14, 15), match=' '>\n",
            "<re.Match object; span=(15, 16), match='t'>\n",
            "<re.Match object; span=(16, 17), match='h'>\n",
            "<re.Match object; span=(17, 18), match='e'>\n",
            "<re.Match object; span=(18, 19), match=' '>\n",
            "<re.Match object; span=(19, 20), match='m'>\n",
            "<re.Match object; span=(20, 21), match='a'>\n",
            "<re.Match object; span=(21, 22), match='t'>\n",
            "<re.Match object; span=(22, 23), match=' '>\n",
            "<re.Match object; span=(23, 24), match='w'>\n",
            "<re.Match object; span=(24, 25), match='i'>\n",
            "<re.Match object; span=(25, 26), match='t'>\n",
            "<re.Match object; span=(26, 27), match='h'>\n",
            "<re.Match object; span=(27, 28), match=' '>\n",
            "<re.Match object; span=(28, 29), match='a'>\n",
            "<re.Match object; span=(29, 30), match=' '>\n",
            "<re.Match object; span=(30, 31), match='b'>\n",
            "<re.Match object; span=(31, 32), match='a'>\n",
            "<re.Match object; span=(32, 33), match='t'>\n",
            "<re.Match object; span=(33, 34), match=' '>\n",
            "<re.Match object; span=(34, 35), match='a'>\n",
            "<re.Match object; span=(35, 36), match='n'>\n",
            "<re.Match object; span=(36, 37), match='d'>\n",
            "<re.Match object; span=(37, 38), match=' '>\n",
            "<re.Match object; span=(38, 39), match='a'>\n",
            "<re.Match object; span=(39, 40), match=' '>\n",
            "<re.Match object; span=(40, 41), match='h'>\n",
            "<re.Match object; span=(41, 42), match='a'>\n",
            "<re.Match object; span=(42, 43), match='t'>\n",
            "<re.Match object; span=(43, 44), match='.'>\n"
          ]
        }
      ]
    },
    {
      "cell_type": "markdown",
      "source": [
        "$Example-3$"
      ],
      "metadata": {
        "id": "ZKhQ4zmIMl-F"
      }
    },
    {
      "cell_type": "code",
      "source": [
        "pattern = re.compile('x.z')\n",
        "\n",
        "matches = re.finditer(pattern, test_string_1)\n",
        "\n",
        "for m in matches:\n",
        "  print(m)"
      ],
      "metadata": {
        "colab": {
          "base_uri": "https://localhost:8080/"
        },
        "id": "rKNd122GMolT",
        "outputId": "b37c7b9c-639a-4773-fe32-e979b17c236f"
      },
      "execution_count": 21,
      "outputs": [
        {
          "output_type": "stream",
          "name": "stdout",
          "text": [
            "<re.Match object; span=(32, 35), match='xyz'>\n"
          ]
        }
      ]
    },
    {
      "cell_type": "code",
      "source": [
        "pattern = re.compile('x.y')\n",
        "\n",
        "matches = re.finditer(pattern, test_string_1)\n",
        "\n",
        "for m in matches:\n",
        "  print(m)"
      ],
      "metadata": {
        "id": "AIrDC-JSMvRR"
      },
      "execution_count": 22,
      "outputs": []
    },
    {
      "cell_type": "markdown",
      "source": [
        "- No match"
      ],
      "metadata": {
        "id": "OT3q4-53Mybv"
      }
    },
    {
      "cell_type": "markdown",
      "source": [
        "can I used this to match email from the text ?"
      ],
      "metadata": {
        "id": "F5osc0wJMM7Q"
      }
    },
    {
      "cell_type": "markdown",
      "source": [
        "### $\\textbf{Carat Character (^)}$\n",
        "\n",
        "\n",
        "#### Start of String/Line Anchor:\n",
        "- Matches the beginning of a string.\n",
        "- **Example**: `^Hello` matches \"Hello\" at the start of a string.\n"
      ],
      "metadata": {
        "id": "skpVn8RDNVhm"
      }
    },
    {
      "cell_type": "code",
      "source": [
        "print(text, end=\"\\n\\n\")\n",
        "\n",
        "pattern = re.compile(r'Hello')\n",
        "\n",
        "matches = re.finditer(pattern, text)\n",
        "\n",
        "for m in matches:\n",
        "  print(m)"
      ],
      "metadata": {
        "colab": {
          "base_uri": "https://localhost:8080/"
        },
        "id": "c6kXMeqkMMhg",
        "outputId": "59da0d3c-7d3a-44b3-d040-645024af5900"
      },
      "execution_count": 23,
      "outputs": [
        {
          "output_type": "stream",
          "name": "stdout",
          "text": [
            "Hello World!\n",
            "This is a test.\n",
            "Hello again!\n",
            "Python is fun.\n",
            "Hello Python\n",
            "\n",
            "<re.Match object; span=(0, 5), match='Hello'>\n",
            "<re.Match object; span=(29, 34), match='Hello'>\n",
            "<re.Match object; span=(57, 62), match='Hello'>\n"
          ]
        }
      ]
    },
    {
      "cell_type": "code",
      "source": [
        "print(text, end=\"\\n\\n\")\n",
        "\n",
        "pattern = re.compile(r'^Hello')\n",
        "\n",
        "matches = re.finditer(pattern, text)\n",
        "\n",
        "for m in matches:\n",
        "  print(m)"
      ],
      "metadata": {
        "colab": {
          "base_uri": "https://localhost:8080/"
        },
        "id": "8EoUeODvL-gz",
        "outputId": "feae9805-e6af-43d6-c159-e19421d91cc5"
      },
      "execution_count": 24,
      "outputs": [
        {
          "output_type": "stream",
          "name": "stdout",
          "text": [
            "Hello World!\n",
            "This is a test.\n",
            "Hello again!\n",
            "Python is fun.\n",
            "Hello Python\n",
            "\n",
            "<re.Match object; span=(0, 5), match='Hello'>\n"
          ]
        }
      ]
    },
    {
      "cell_type": "markdown",
      "source": [
        "#### Negation in Character Class:\n",
        "- When used inside square brackets `[ ]`, it negates the characters.\n",
        "- **Example**: `[^0-9]` matches any character except digits."
      ],
      "metadata": {
        "id": "Im1f8hrfOYUT"
      }
    },
    {
      "cell_type": "code",
      "source": [
        "print(test_string_1, end=\"\\n\\n\")\n",
        "\n",
        "pattern = re.compile(r'[^0-9]')\n",
        "\n",
        "matches = re.finditer(pattern, test_string_1)\n",
        "\n",
        "for m in matches:\n",
        "  print(m)"
      ],
      "metadata": {
        "colab": {
          "base_uri": "https://localhost:8080/"
        },
        "id": "F-3bpMqgOX8e",
        "outputId": "e5157698-9851-48e1-99e7-1be8232adbf8"
      },
      "execution_count": 25,
      "outputs": [
        {
          "output_type": "stream",
          "name": "stdout",
          "text": [
            "123abc.456789abc123defGHI.ABC \n",
            " xyz345WXYZ\n",
            "\n",
            "<re.Match object; span=(3, 4), match='a'>\n",
            "<re.Match object; span=(4, 5), match='b'>\n",
            "<re.Match object; span=(5, 6), match='c'>\n",
            "<re.Match object; span=(6, 7), match='.'>\n",
            "<re.Match object; span=(13, 14), match='a'>\n",
            "<re.Match object; span=(14, 15), match='b'>\n",
            "<re.Match object; span=(15, 16), match='c'>\n",
            "<re.Match object; span=(19, 20), match='d'>\n",
            "<re.Match object; span=(20, 21), match='e'>\n",
            "<re.Match object; span=(21, 22), match='f'>\n",
            "<re.Match object; span=(22, 23), match='G'>\n",
            "<re.Match object; span=(23, 24), match='H'>\n",
            "<re.Match object; span=(24, 25), match='I'>\n",
            "<re.Match object; span=(25, 26), match='.'>\n",
            "<re.Match object; span=(26, 27), match='A'>\n",
            "<re.Match object; span=(27, 28), match='B'>\n",
            "<re.Match object; span=(28, 29), match='C'>\n",
            "<re.Match object; span=(29, 30), match=' '>\n",
            "<re.Match object; span=(30, 31), match='\\n'>\n",
            "<re.Match object; span=(31, 32), match=' '>\n",
            "<re.Match object; span=(32, 33), match='x'>\n",
            "<re.Match object; span=(33, 34), match='y'>\n",
            "<re.Match object; span=(34, 35), match='z'>\n",
            "<re.Match object; span=(38, 39), match='W'>\n",
            "<re.Match object; span=(39, 40), match='X'>\n",
            "<re.Match object; span=(40, 41), match='Y'>\n",
            "<re.Match object; span=(41, 42), match='Z'>\n"
          ]
        }
      ]
    },
    {
      "cell_type": "markdown",
      "source": [
        "### $\\textbf{Dollar Character (\\$)}$\n",
        "\n",
        "The $\\$$ metacharacter in regular expressions is used to anchor the match to the end of a string or line.\n",
        "\n",
        "Key Uses:\n",
        "End of String/Line Anchor:\n",
        "Matches if the specified pattern is at the end of the string\n"
      ],
      "metadata": {
        "id": "adq0hmKoPKXg"
      }
    },
    {
      "cell_type": "code",
      "source": [
        "print(text)"
      ],
      "metadata": {
        "colab": {
          "base_uri": "https://localhost:8080/"
        },
        "id": "YnO6JxFmPKH6",
        "outputId": "bb54cdbf-ede6-4ed5-cc8a-1f9e0aa771e3"
      },
      "execution_count": 26,
      "outputs": [
        {
          "output_type": "stream",
          "name": "stdout",
          "text": [
            "Hello World!\n",
            "This is a test.\n",
            "Hello again!\n",
            "Python is fun.\n",
            "Hello Python\n"
          ]
        }
      ]
    },
    {
      "cell_type": "code",
      "source": [
        "pattern = re.compile(r\"Python\")\n",
        "\n",
        "matches = re.finditer(pattern, text)\n",
        "\n",
        "for m in matches:\n",
        "  print(m)"
      ],
      "metadata": {
        "colab": {
          "base_uri": "https://localhost:8080/"
        },
        "id": "CK1-cVOxPKEb",
        "outputId": "ea4af186-34ed-4d6d-f88e-1b5f874ae355"
      },
      "execution_count": 27,
      "outputs": [
        {
          "output_type": "stream",
          "name": "stdout",
          "text": [
            "<re.Match object; span=(42, 48), match='Python'>\n",
            "<re.Match object; span=(63, 69), match='Python'>\n"
          ]
        }
      ]
    },
    {
      "cell_type": "code",
      "source": [
        "pattern = re.compile(r\"Python$\")\n",
        "\n",
        "matches = re.finditer(pattern, text)\n",
        "\n",
        "for m in matches:\n",
        "  print(m)"
      ],
      "metadata": {
        "colab": {
          "base_uri": "https://localhost:8080/"
        },
        "id": "Q3mcMpBHOOK8",
        "outputId": "f9548636-f2c2-4047-e5c0-8d5650c7206c"
      },
      "execution_count": 28,
      "outputs": [
        {
          "output_type": "stream",
          "name": "stdout",
          "text": [
            "<re.Match object; span=(63, 69), match='Python'>\n"
          ]
        }
      ]
    },
    {
      "cell_type": "markdown",
      "source": [
        "## $\\textbf{Character Sets}$\n",
        "\n",
        "- refers to $\\text{combination of characters}$ that can be used to complete the pattern matching\n",
        "\n",
        "- defined using **square brackets** ($[$ $]$)\n",
        "\n",
        "- can be **user-defined** or **pre-defined**"
      ],
      "metadata": {
        "id": "KPWoAS2nQLgF"
      }
    },
    {
      "cell_type": "markdown",
      "source": [
        "#### Custom Character Set: $\\text{user-defined}$"
      ],
      "metadata": {
        "id": "HTyZONTvVs5L"
      }
    },
    {
      "cell_type": "code",
      "source": [
        "test_string = \"123abc.456789abc123defGHI.ABC \\n xyz345WXYZ\""
      ],
      "metadata": {
        "id": "EuiHaXJiVsg7"
      },
      "execution_count": 29,
      "outputs": []
    },
    {
      "cell_type": "markdown",
      "source": [
        "From `test_string` take out all the vowels"
      ],
      "metadata": {
        "id": "7oe0BNluWB_V"
      }
    },
    {
      "cell_type": "code",
      "source": [
        "print(test_string, end='\\n\\n')\n",
        "print(\"_____________________________________________________\") # printing seperator to show no match\n",
        "pattern = re.compile(r'aeiou')\n",
        "\n",
        "matches = re.finditer(pattern, test_string)\n",
        "\n",
        "for match in matches:\n",
        "  print(match)"
      ],
      "metadata": {
        "colab": {
          "base_uri": "https://localhost:8080/"
        },
        "id": "vg3k6QDBQB0W",
        "outputId": "0adafb0a-cfbd-40d1-d50e-8ba22d6523aa"
      },
      "execution_count": 30,
      "outputs": [
        {
          "output_type": "stream",
          "name": "stdout",
          "text": [
            "123abc.456789abc123defGHI.ABC \n",
            " xyz345WXYZ\n",
            "\n",
            "_____________________________________________________\n"
          ]
        }
      ]
    },
    {
      "cell_type": "markdown",
      "source": [
        "- **No matches**\n",
        "\n",
        "- But Why ? becuase `finditer()` is searching the substring `aieou` and not the vowels in `aeiou`. Then, What to do?\n",
        "- Here, comes the character sets, Write aeiou as character set, simply wrap it with square bracket.\n",
        "\n",
        "<center>\n",
        "\n",
        "`pattern = re.compile(r'[aeiou]')`\n",
        "\n",
        "<center>"
      ],
      "metadata": {
        "id": "Cq4hwlW9WjUp"
      }
    },
    {
      "cell_type": "code",
      "source": [
        "print(test_string, end='\\n\\n')\n",
        "print(\"_____________________________________________________\") # printing seperator to show no match\n",
        "pattern = re.compile(r'[aeiou]')\n",
        "\n",
        "matches = re.finditer(pattern, test_string)\n",
        "\n",
        "for match in matches:\n",
        "  print(match)"
      ],
      "metadata": {
        "colab": {
          "base_uri": "https://localhost:8080/"
        },
        "id": "Hzke46mWWjDI",
        "outputId": "33084d35-8b2b-4b0c-af3a-a6ae11861157"
      },
      "execution_count": 31,
      "outputs": [
        {
          "output_type": "stream",
          "name": "stdout",
          "text": [
            "123abc.456789abc123defGHI.ABC \n",
            " xyz345WXYZ\n",
            "\n",
            "_____________________________________________________\n",
            "<re.Match object; span=(3, 4), match='a'>\n",
            "<re.Match object; span=(13, 14), match='a'>\n",
            "<re.Match object; span=(20, 21), match='e'>\n"
          ]
        }
      ]
    },
    {
      "cell_type": "markdown",
      "source": [
        "$\\text{Example 2: Let's try picking upper and lower case vowels both.}$\n",
        "\n",
        "---"
      ],
      "metadata": {
        "id": "1D3h2ovgYXE-"
      }
    },
    {
      "cell_type": "code",
      "source": [
        "print(test_string, end='\\n\\n')\n",
        "print(\"_____________________________________________________\") # printing seperator to show no match\n",
        "pattern = re.compile(r'[aeiouAEIOU]')\n",
        "\n",
        "matches = re.finditer(pattern, test_string)\n",
        "\n",
        "for match in matches:\n",
        "  print(match)"
      ],
      "metadata": {
        "colab": {
          "base_uri": "https://localhost:8080/"
        },
        "id": "CGeYz-z3Wh1s",
        "outputId": "895c8c1c-740c-4811-8ef0-431f59151f8b"
      },
      "execution_count": 32,
      "outputs": [
        {
          "output_type": "stream",
          "name": "stdout",
          "text": [
            "123abc.456789abc123defGHI.ABC \n",
            " xyz345WXYZ\n",
            "\n",
            "_____________________________________________________\n",
            "<re.Match object; span=(3, 4), match='a'>\n",
            "<re.Match object; span=(13, 14), match='a'>\n",
            "<re.Match object; span=(20, 21), match='e'>\n",
            "<re.Match object; span=(24, 25), match='I'>\n",
            "<re.Match object; span=(26, 27), match='A'>\n"
          ]
        }
      ]
    },
    {
      "cell_type": "markdown",
      "source": [
        "$\\text{Example 2: Let's try on numbers.}$\n",
        "\n",
        "---"
      ],
      "metadata": {
        "id": "hJqn56F4Zpsc"
      }
    },
    {
      "cell_type": "code",
      "source": [
        "print(test_string, end='\\n\\n')\n",
        "print(\"_____________________________________________________\") # printing seperator to show no match\n",
        "pattern = re.compile(r'[246]')\n",
        "\n",
        "matches = re.finditer(pattern, test_string)\n",
        "\n",
        "for match in matches:\n",
        "  print(match)"
      ],
      "metadata": {
        "colab": {
          "base_uri": "https://localhost:8080/"
        },
        "id": "uTDoJ5piYvh3",
        "outputId": "05466a99-4890-4bc3-e245-0c69b03cd55b"
      },
      "execution_count": 33,
      "outputs": [
        {
          "output_type": "stream",
          "name": "stdout",
          "text": [
            "123abc.456789abc123defGHI.ABC \n",
            " xyz345WXYZ\n",
            "\n",
            "_____________________________________________________\n",
            "<re.Match object; span=(1, 2), match='2'>\n",
            "<re.Match object; span=(7, 8), match='4'>\n",
            "<re.Match object; span=(9, 10), match='6'>\n",
            "<re.Match object; span=(17, 18), match='2'>\n",
            "<re.Match object; span=(36, 37), match='4'>\n"
          ]
        }
      ]
    },
    {
      "cell_type": "markdown",
      "source": [
        "$\\text{Example 3. Can I get all number using something like a range}$\n",
        "\n",
        "**Use:** `[0-9]`  \n",
        "\n",
        "---"
      ],
      "metadata": {
        "id": "zxLyP_hmZuKz"
      }
    },
    {
      "cell_type": "code",
      "source": [
        "print(test_string, end='\\n\\n')\n",
        "print(\"_____________________________________________________\") # printing seperator to show no match\n",
        "pattern = re.compile(r'[0-9]') # all numners\n",
        "\n",
        "matches = re.finditer(pattern, test_string)\n",
        "\n",
        "for match in matches:\n",
        "  print(match)"
      ],
      "metadata": {
        "colab": {
          "base_uri": "https://localhost:8080/"
        },
        "id": "bnMn9g8gY7Mz",
        "outputId": "f54c312c-b7f8-49c6-a649-10579f14c6c4"
      },
      "execution_count": 34,
      "outputs": [
        {
          "output_type": "stream",
          "name": "stdout",
          "text": [
            "123abc.456789abc123defGHI.ABC \n",
            " xyz345WXYZ\n",
            "\n",
            "_____________________________________________________\n",
            "<re.Match object; span=(0, 1), match='1'>\n",
            "<re.Match object; span=(1, 2), match='2'>\n",
            "<re.Match object; span=(2, 3), match='3'>\n",
            "<re.Match object; span=(7, 8), match='4'>\n",
            "<re.Match object; span=(8, 9), match='5'>\n",
            "<re.Match object; span=(9, 10), match='6'>\n",
            "<re.Match object; span=(10, 11), match='7'>\n",
            "<re.Match object; span=(11, 12), match='8'>\n",
            "<re.Match object; span=(12, 13), match='9'>\n",
            "<re.Match object; span=(16, 17), match='1'>\n",
            "<re.Match object; span=(17, 18), match='2'>\n",
            "<re.Match object; span=(18, 19), match='3'>\n",
            "<re.Match object; span=(35, 36), match='3'>\n",
            "<re.Match object; span=(36, 37), match='4'>\n",
            "<re.Match object; span=(37, 38), match='5'>\n"
          ]
        }
      ]
    },
    {
      "cell_type": "markdown",
      "source": [
        "$\\text{Example 3. Can I get all the letters also ? Yes.}$\n",
        "\n",
        "**Use:** `[a-z]` all the small letters\n",
        "\n",
        "**Use:** `[A-Z]` all the capital letters\n",
        "\n",
        "**Use:** `[a-zA-Z]` all the capital and small letters"
      ],
      "metadata": {
        "id": "LHj1LbMiaAfE"
      }
    },
    {
      "cell_type": "code",
      "source": [
        "print(test_string, end='\\n\\n')\n",
        "print(\"_____________________________________________________\") # printing seperator to show no match\n",
        "pattern = re.compile(r'[A-Za-z]') #lower and uparcase letter\n",
        "\n",
        "matches = re.finditer(pattern, test_string)\n",
        "\n",
        "for match in matches:\n",
        "  print(match)"
      ],
      "metadata": {
        "colab": {
          "base_uri": "https://localhost:8080/"
        },
        "id": "xVcT_CevZHbE",
        "outputId": "1f7665f6-d4ee-4026-d6c5-1315b64bbb69"
      },
      "execution_count": 35,
      "outputs": [
        {
          "output_type": "stream",
          "name": "stdout",
          "text": [
            "123abc.456789abc123defGHI.ABC \n",
            " xyz345WXYZ\n",
            "\n",
            "_____________________________________________________\n",
            "<re.Match object; span=(3, 4), match='a'>\n",
            "<re.Match object; span=(4, 5), match='b'>\n",
            "<re.Match object; span=(5, 6), match='c'>\n",
            "<re.Match object; span=(13, 14), match='a'>\n",
            "<re.Match object; span=(14, 15), match='b'>\n",
            "<re.Match object; span=(15, 16), match='c'>\n",
            "<re.Match object; span=(19, 20), match='d'>\n",
            "<re.Match object; span=(20, 21), match='e'>\n",
            "<re.Match object; span=(21, 22), match='f'>\n",
            "<re.Match object; span=(22, 23), match='G'>\n",
            "<re.Match object; span=(23, 24), match='H'>\n",
            "<re.Match object; span=(24, 25), match='I'>\n",
            "<re.Match object; span=(26, 27), match='A'>\n",
            "<re.Match object; span=(27, 28), match='B'>\n",
            "<re.Match object; span=(28, 29), match='C'>\n",
            "<re.Match object; span=(32, 33), match='x'>\n",
            "<re.Match object; span=(33, 34), match='y'>\n",
            "<re.Match object; span=(34, 35), match='z'>\n",
            "<re.Match object; span=(38, 39), match='W'>\n",
            "<re.Match object; span=(39, 40), match='X'>\n",
            "<re.Match object; span=(40, 41), match='Y'>\n",
            "<re.Match object; span=(41, 42), match='Z'>\n"
          ]
        }
      ]
    },
    {
      "cell_type": "markdown",
      "source": [
        "$\\text{Example 4. Can I get Consonants only? Yes, Use Character Negation (^).}$\n",
        "\n",
        "\n",
        "- **Use:** `[^a-e]`  \n",
        "  Matches all small and capital letters **except** small letters `a`, `b`, `c`, `d`, and `e` (includes `A`, `B`, `C`, `D`, and `E`, all the numbers, symbols, and whitespace).\n",
        "\n",
        "- **Use:** `[^A-E]`  \n",
        "  Matches all small and capital letters **except** capital letters `A`, `B`, `C`, `D`, and `E` (includes `a`, `b`, `c`, `d`, and `e`, all the numbers, symbols, and whitespace).\n",
        "\n",
        "- **Use:** `[^a-eA-E]`  \n",
        "  Matches all characters **except** small letters `a`, `b`, `c`, `d`, `e` and capital letters `A`, `B`, `C`, `D`, `E` (includes all other letters, numbers, symbols, and whitespace).\n",
        "\n",
        "- **Use:** `[^0-9]`  \n",
        "  Matches all characters **except numbers**, which includes all letters (small and capital), symbols, and whitespace.\n",
        "\n",
        "Lets try combining everything in the example\n",
        "\n"
      ],
      "metadata": {
        "id": "wRecSI-faglg"
      }
    },
    {
      "cell_type": "code",
      "source": [
        "print(test_string, end='\\n\\n')\n",
        "print(\"_____________________________________________________\") # printing seperator to show no match\n",
        "pattern = re.compile(r'[^aeiou0-9AEIOU$%.\\n ]') # use character negation inside the bracket\n",
        "\n",
        "matches = re.finditer(pattern, test_string)\n",
        "\n",
        "for match in matches:\n",
        "  print(match)"
      ],
      "metadata": {
        "colab": {
          "base_uri": "https://localhost:8080/"
        },
        "id": "TWvrLM35ZMRe",
        "outputId": "38b4e440-0078-4823-9040-fca3b814ee90"
      },
      "execution_count": 36,
      "outputs": [
        {
          "output_type": "stream",
          "name": "stdout",
          "text": [
            "123abc.456789abc123defGHI.ABC \n",
            " xyz345WXYZ\n",
            "\n",
            "_____________________________________________________\n",
            "<re.Match object; span=(4, 5), match='b'>\n",
            "<re.Match object; span=(5, 6), match='c'>\n",
            "<re.Match object; span=(14, 15), match='b'>\n",
            "<re.Match object; span=(15, 16), match='c'>\n",
            "<re.Match object; span=(19, 20), match='d'>\n",
            "<re.Match object; span=(21, 22), match='f'>\n",
            "<re.Match object; span=(22, 23), match='G'>\n",
            "<re.Match object; span=(23, 24), match='H'>\n",
            "<re.Match object; span=(27, 28), match='B'>\n",
            "<re.Match object; span=(28, 29), match='C'>\n",
            "<re.Match object; span=(32, 33), match='x'>\n",
            "<re.Match object; span=(33, 34), match='y'>\n",
            "<re.Match object; span=(34, 35), match='z'>\n",
            "<re.Match object; span=(38, 39), match='W'>\n",
            "<re.Match object; span=(39, 40), match='X'>\n",
            "<re.Match object; span=(40, 41), match='Y'>\n",
            "<re.Match object; span=(41, 42), match='Z'>\n"
          ]
        }
      ]
    },
    {
      "cell_type": "markdown",
      "source": [
        "$\\text{Example 5. Find all special Characters .}$\n",
        "\n",
        "----"
      ],
      "metadata": {
        "id": "tl-tPBiJdDde"
      }
    },
    {
      "cell_type": "code",
      "source": [
        "print(test_string, end='\\n\\n')\n",
        "print(\"_____________________________________________________\") # printing seperator to show no match\n",
        "pattern = re.compile(r'[^A-Za-z0-9. ]') # use character negation inside the bracket\n",
        "\n",
        "matches = re.finditer(pattern, test_string)\n",
        "\n",
        "for match in matches:\n",
        "  print(match)"
      ],
      "metadata": {
        "colab": {
          "base_uri": "https://localhost:8080/"
        },
        "id": "em1PILVsdDKJ",
        "outputId": "d317bf65-9811-4d8c-9aa1-6612b8880e8a"
      },
      "execution_count": 37,
      "outputs": [
        {
          "output_type": "stream",
          "name": "stdout",
          "text": [
            "123abc.456789abc123defGHI.ABC \n",
            " xyz345WXYZ\n",
            "\n",
            "_____________________________________________________\n",
            "<re.Match object; span=(30, 31), match='\\n'>\n"
          ]
        }
      ]
    },
    {
      "cell_type": "markdown",
      "source": [
        "#### Predefined Character Set:\n",
        "Predefined character sets provide a convenient way to match common groups of characters without explicitly listing them.\n",
        "\n",
        "- speacial characters followed by ` \\ `\n",
        "\n",
        "  - **`\\d`**: Matches any **digit**. Equivalent to `[0-9]`.\n",
        "\n",
        "  - **`\\D`**: Matches any **non-digit** character. Equivalent to `[^0-9]`.\n",
        "\n",
        "  - **`\\w`**: Matches any **word character** (alphanumeric plus underscore). Equivalent to `[a-zA-Z0-9_]`.\n",
        "\n",
        "  - **`\\W`**: Matches any **non-word character**. Equivalent to `[^a-zA-Z0-9_]`.\n",
        "\n",
        "  - **`\\s`**: Matches any **whitespace character** (spaces, tabs, newlines).\n",
        "\n",
        "  - **`\\S`**: Matches any **non-whitespace character**.\n",
        "\n",
        "  - **`\\b`**: Matches a **word boundary** (position between a word character and a non-word character).\n",
        "\n",
        "  - **`\\B`**: Matches a position that is **not a word boundary** (between two word characters or two non-word characters).\n"
      ],
      "metadata": {
        "id": "Ch20muO9de6W"
      }
    },
    {
      "cell_type": "code",
      "source": [
        "test_string_1 = \"123abc.456789abc123defGHI.ABC \\n xyz345WXYZ\"\n",
        "\n",
        "test_string_2 = \"The cat sat on the mat with a bat and a hat.\"\n",
        "\n",
        "test_string_3 = \"The cat sat on the mat with a bat and a hat. $at, 8at, at.\""
      ],
      "metadata": {
        "id": "ApWsj4FIZafr"
      },
      "execution_count": 38,
      "outputs": []
    },
    {
      "cell_type": "code",
      "source": [
        "print(test_string, end='\\n\\n')\n",
        "print(\"_____________________________________________________\")\n",
        "pattern = re.compile(r'[\\d]')\n",
        "\n",
        "matches = re.finditer(pattern, test_string)\n",
        "\n",
        "for match in matches:\n",
        "  print(match)"
      ],
      "metadata": {
        "colab": {
          "base_uri": "https://localhost:8080/"
        },
        "id": "kk1gCijVfJzV",
        "outputId": "1727f19f-36b5-47a6-e7c4-d99eb81ddda4"
      },
      "execution_count": 39,
      "outputs": [
        {
          "output_type": "stream",
          "name": "stdout",
          "text": [
            "123abc.456789abc123defGHI.ABC \n",
            " xyz345WXYZ\n",
            "\n",
            "_____________________________________________________\n",
            "<re.Match object; span=(0, 1), match='1'>\n",
            "<re.Match object; span=(1, 2), match='2'>\n",
            "<re.Match object; span=(2, 3), match='3'>\n",
            "<re.Match object; span=(7, 8), match='4'>\n",
            "<re.Match object; span=(8, 9), match='5'>\n",
            "<re.Match object; span=(9, 10), match='6'>\n",
            "<re.Match object; span=(10, 11), match='7'>\n",
            "<re.Match object; span=(11, 12), match='8'>\n",
            "<re.Match object; span=(12, 13), match='9'>\n",
            "<re.Match object; span=(16, 17), match='1'>\n",
            "<re.Match object; span=(17, 18), match='2'>\n",
            "<re.Match object; span=(18, 19), match='3'>\n",
            "<re.Match object; span=(35, 36), match='3'>\n",
            "<re.Match object; span=(36, 37), match='4'>\n",
            "<re.Match object; span=(37, 38), match='5'>\n"
          ]
        }
      ]
    },
    {
      "cell_type": "code",
      "source": [
        "print(test_string, end='\\n\\n')\n",
        "print(\"_____________________________________________________\")\n",
        "pattern = re.compile(r'[\\D]')\n",
        "\n",
        "matches = re.finditer(pattern, test_string)\n",
        "\n",
        "for match in matches:\n",
        "  print(match)"
      ],
      "metadata": {
        "colab": {
          "base_uri": "https://localhost:8080/"
        },
        "id": "gw5RQHzmfSj7",
        "outputId": "f74eca8e-e7fc-4cc1-bfd3-13a3fd8adb38"
      },
      "execution_count": 40,
      "outputs": [
        {
          "output_type": "stream",
          "name": "stdout",
          "text": [
            "123abc.456789abc123defGHI.ABC \n",
            " xyz345WXYZ\n",
            "\n",
            "_____________________________________________________\n",
            "<re.Match object; span=(3, 4), match='a'>\n",
            "<re.Match object; span=(4, 5), match='b'>\n",
            "<re.Match object; span=(5, 6), match='c'>\n",
            "<re.Match object; span=(6, 7), match='.'>\n",
            "<re.Match object; span=(13, 14), match='a'>\n",
            "<re.Match object; span=(14, 15), match='b'>\n",
            "<re.Match object; span=(15, 16), match='c'>\n",
            "<re.Match object; span=(19, 20), match='d'>\n",
            "<re.Match object; span=(20, 21), match='e'>\n",
            "<re.Match object; span=(21, 22), match='f'>\n",
            "<re.Match object; span=(22, 23), match='G'>\n",
            "<re.Match object; span=(23, 24), match='H'>\n",
            "<re.Match object; span=(24, 25), match='I'>\n",
            "<re.Match object; span=(25, 26), match='.'>\n",
            "<re.Match object; span=(26, 27), match='A'>\n",
            "<re.Match object; span=(27, 28), match='B'>\n",
            "<re.Match object; span=(28, 29), match='C'>\n",
            "<re.Match object; span=(29, 30), match=' '>\n",
            "<re.Match object; span=(30, 31), match='\\n'>\n",
            "<re.Match object; span=(31, 32), match=' '>\n",
            "<re.Match object; span=(32, 33), match='x'>\n",
            "<re.Match object; span=(33, 34), match='y'>\n",
            "<re.Match object; span=(34, 35), match='z'>\n",
            "<re.Match object; span=(38, 39), match='W'>\n",
            "<re.Match object; span=(39, 40), match='X'>\n",
            "<re.Match object; span=(40, 41), match='Y'>\n",
            "<re.Match object; span=(41, 42), match='Z'>\n"
          ]
        }
      ]
    },
    {
      "cell_type": "code",
      "source": [
        "print(test_string, end='\\n\\n')\n",
        "print(\"_____________________________________________________\")\n",
        "pattern = re.compile(r'[\\s]')\n",
        "\n",
        "matches = re.finditer(pattern, test_string)\n",
        "\n",
        "for match in matches:\n",
        "  print(match)"
      ],
      "metadata": {
        "colab": {
          "base_uri": "https://localhost:8080/"
        },
        "id": "wUEX6GagfWV-",
        "outputId": "067fa4bd-db03-429c-ac0a-332081365b33"
      },
      "execution_count": 41,
      "outputs": [
        {
          "output_type": "stream",
          "name": "stdout",
          "text": [
            "123abc.456789abc123defGHI.ABC \n",
            " xyz345WXYZ\n",
            "\n",
            "_____________________________________________________\n",
            "<re.Match object; span=(29, 30), match=' '>\n",
            "<re.Match object; span=(30, 31), match='\\n'>\n",
            "<re.Match object; span=(31, 32), match=' '>\n"
          ]
        }
      ]
    },
    {
      "cell_type": "code",
      "source": [
        "print(test_string, end='\\n\\n')\n",
        "print(\"_____________________________________________________\")\n",
        "pattern = re.compile(r'[\\S]')\n",
        "\n",
        "matches = re.finditer(pattern, test_string)\n",
        "\n",
        "for match in matches:\n",
        "  print(match)"
      ],
      "metadata": {
        "colab": {
          "base_uri": "https://localhost:8080/"
        },
        "id": "SEstyS-1feKJ",
        "outputId": "450dfb15-eaad-4804-9559-8614ac416a3d"
      },
      "execution_count": 42,
      "outputs": [
        {
          "output_type": "stream",
          "name": "stdout",
          "text": [
            "123abc.456789abc123defGHI.ABC \n",
            " xyz345WXYZ\n",
            "\n",
            "_____________________________________________________\n",
            "<re.Match object; span=(0, 1), match='1'>\n",
            "<re.Match object; span=(1, 2), match='2'>\n",
            "<re.Match object; span=(2, 3), match='3'>\n",
            "<re.Match object; span=(3, 4), match='a'>\n",
            "<re.Match object; span=(4, 5), match='b'>\n",
            "<re.Match object; span=(5, 6), match='c'>\n",
            "<re.Match object; span=(6, 7), match='.'>\n",
            "<re.Match object; span=(7, 8), match='4'>\n",
            "<re.Match object; span=(8, 9), match='5'>\n",
            "<re.Match object; span=(9, 10), match='6'>\n",
            "<re.Match object; span=(10, 11), match='7'>\n",
            "<re.Match object; span=(11, 12), match='8'>\n",
            "<re.Match object; span=(12, 13), match='9'>\n",
            "<re.Match object; span=(13, 14), match='a'>\n",
            "<re.Match object; span=(14, 15), match='b'>\n",
            "<re.Match object; span=(15, 16), match='c'>\n",
            "<re.Match object; span=(16, 17), match='1'>\n",
            "<re.Match object; span=(17, 18), match='2'>\n",
            "<re.Match object; span=(18, 19), match='3'>\n",
            "<re.Match object; span=(19, 20), match='d'>\n",
            "<re.Match object; span=(20, 21), match='e'>\n",
            "<re.Match object; span=(21, 22), match='f'>\n",
            "<re.Match object; span=(22, 23), match='G'>\n",
            "<re.Match object; span=(23, 24), match='H'>\n",
            "<re.Match object; span=(24, 25), match='I'>\n",
            "<re.Match object; span=(25, 26), match='.'>\n",
            "<re.Match object; span=(26, 27), match='A'>\n",
            "<re.Match object; span=(27, 28), match='B'>\n",
            "<re.Match object; span=(28, 29), match='C'>\n",
            "<re.Match object; span=(32, 33), match='x'>\n",
            "<re.Match object; span=(33, 34), match='y'>\n",
            "<re.Match object; span=(34, 35), match='z'>\n",
            "<re.Match object; span=(35, 36), match='3'>\n",
            "<re.Match object; span=(36, 37), match='4'>\n",
            "<re.Match object; span=(37, 38), match='5'>\n",
            "<re.Match object; span=(38, 39), match='W'>\n",
            "<re.Match object; span=(39, 40), match='X'>\n",
            "<re.Match object; span=(40, 41), match='Y'>\n",
            "<re.Match object; span=(41, 42), match='Z'>\n"
          ]
        }
      ]
    },
    {
      "cell_type": "code",
      "source": [
        "print(test_string, end='\\n\\n')\n",
        "print(\"_____________________________________________________\")\n",
        "pattern = re.compile(r'[\\w]')\n",
        "\n",
        "matches = re.finditer(pattern, test_string)\n",
        "\n",
        "for match in matches:\n",
        "  print(match)"
      ],
      "metadata": {
        "colab": {
          "base_uri": "https://localhost:8080/"
        },
        "id": "5gplgXX_fgDR",
        "outputId": "2254c29e-c07c-40c7-be4c-cbcbc761698b"
      },
      "execution_count": 43,
      "outputs": [
        {
          "output_type": "stream",
          "name": "stdout",
          "text": [
            "123abc.456789abc123defGHI.ABC \n",
            " xyz345WXYZ\n",
            "\n",
            "_____________________________________________________\n",
            "<re.Match object; span=(0, 1), match='1'>\n",
            "<re.Match object; span=(1, 2), match='2'>\n",
            "<re.Match object; span=(2, 3), match='3'>\n",
            "<re.Match object; span=(3, 4), match='a'>\n",
            "<re.Match object; span=(4, 5), match='b'>\n",
            "<re.Match object; span=(5, 6), match='c'>\n",
            "<re.Match object; span=(7, 8), match='4'>\n",
            "<re.Match object; span=(8, 9), match='5'>\n",
            "<re.Match object; span=(9, 10), match='6'>\n",
            "<re.Match object; span=(10, 11), match='7'>\n",
            "<re.Match object; span=(11, 12), match='8'>\n",
            "<re.Match object; span=(12, 13), match='9'>\n",
            "<re.Match object; span=(13, 14), match='a'>\n",
            "<re.Match object; span=(14, 15), match='b'>\n",
            "<re.Match object; span=(15, 16), match='c'>\n",
            "<re.Match object; span=(16, 17), match='1'>\n",
            "<re.Match object; span=(17, 18), match='2'>\n",
            "<re.Match object; span=(18, 19), match='3'>\n",
            "<re.Match object; span=(19, 20), match='d'>\n",
            "<re.Match object; span=(20, 21), match='e'>\n",
            "<re.Match object; span=(21, 22), match='f'>\n",
            "<re.Match object; span=(22, 23), match='G'>\n",
            "<re.Match object; span=(23, 24), match='H'>\n",
            "<re.Match object; span=(24, 25), match='I'>\n",
            "<re.Match object; span=(26, 27), match='A'>\n",
            "<re.Match object; span=(27, 28), match='B'>\n",
            "<re.Match object; span=(28, 29), match='C'>\n",
            "<re.Match object; span=(32, 33), match='x'>\n",
            "<re.Match object; span=(33, 34), match='y'>\n",
            "<re.Match object; span=(34, 35), match='z'>\n",
            "<re.Match object; span=(35, 36), match='3'>\n",
            "<re.Match object; span=(36, 37), match='4'>\n",
            "<re.Match object; span=(37, 38), match='5'>\n",
            "<re.Match object; span=(38, 39), match='W'>\n",
            "<re.Match object; span=(39, 40), match='X'>\n",
            "<re.Match object; span=(40, 41), match='Y'>\n",
            "<re.Match object; span=(41, 42), match='Z'>\n"
          ]
        }
      ]
    },
    {
      "cell_type": "code",
      "source": [
        "print(test_string, end='\\n\\n')\n",
        "print(\"_____________________________________________________\")\n",
        "pattern = re.compile(r'[\\W]')\n",
        "\n",
        "matches = re.finditer(pattern, test_string)\n",
        "\n",
        "for match in matches:\n",
        "  print(match)"
      ],
      "metadata": {
        "colab": {
          "base_uri": "https://localhost:8080/"
        },
        "id": "YNCOjqCTfis2",
        "outputId": "bf957602-c816-4bbb-81cf-dbb3082f13ff"
      },
      "execution_count": 44,
      "outputs": [
        {
          "output_type": "stream",
          "name": "stdout",
          "text": [
            "123abc.456789abc123defGHI.ABC \n",
            " xyz345WXYZ\n",
            "\n",
            "_____________________________________________________\n",
            "<re.Match object; span=(6, 7), match='.'>\n",
            "<re.Match object; span=(25, 26), match='.'>\n",
            "<re.Match object; span=(29, 30), match=' '>\n",
            "<re.Match object; span=(30, 31), match='\\n'>\n",
            "<re.Match object; span=(31, 32), match=' '>\n"
          ]
        }
      ]
    },
    {
      "cell_type": "code",
      "source": [
        "test_string_4 = \"heyHello123 heyHoHo HEYheyHey HeyHellohey\"\n",
        "\n",
        "print(test_string_4, end='\\n\\n')\n"
      ],
      "metadata": {
        "colab": {
          "base_uri": "https://localhost:8080/"
        },
        "id": "9AG_VZDtfn-o",
        "outputId": "70c18def-a306-4e7e-ae04-f819778bec49"
      },
      "execution_count": 45,
      "outputs": [
        {
          "output_type": "stream",
          "name": "stdout",
          "text": [
            "heyHello123 heyHoHo HEYheyHey HeyHellohey\n",
            "\n"
          ]
        }
      ]
    },
    {
      "cell_type": "code",
      "source": [
        "pattern = re.compile(r'hey')\n",
        "\n",
        "matches = re.finditer(pattern, test_string_4)\n",
        "\n",
        "for match in matches:\n",
        "  print(match)"
      ],
      "metadata": {
        "colab": {
          "base_uri": "https://localhost:8080/"
        },
        "id": "eiL-1ccMgoJ5",
        "outputId": "61c6f555-276d-47cd-b13f-555e326ecf2a"
      },
      "execution_count": 46,
      "outputs": [
        {
          "output_type": "stream",
          "name": "stdout",
          "text": [
            "<re.Match object; span=(0, 3), match='hey'>\n",
            "<re.Match object; span=(12, 15), match='hey'>\n",
            "<re.Match object; span=(23, 26), match='hey'>\n",
            "<re.Match object; span=(38, 41), match='hey'>\n"
          ]
        }
      ]
    },
    {
      "cell_type": "code",
      "source": [
        "pattern = re.compile(r'\\bhey')\n",
        "\n",
        "matches = re.finditer(pattern, test_string_4)\n",
        "\n",
        "for match in matches:\n",
        "  print(match)"
      ],
      "metadata": {
        "colab": {
          "base_uri": "https://localhost:8080/"
        },
        "id": "tjVvaxAyg21o",
        "outputId": "d2415a44-b226-42ad-ad17-d43fef48e316"
      },
      "execution_count": 47,
      "outputs": [
        {
          "output_type": "stream",
          "name": "stdout",
          "text": [
            "<re.Match object; span=(0, 3), match='hey'>\n",
            "<re.Match object; span=(12, 15), match='hey'>\n"
          ]
        }
      ]
    },
    {
      "cell_type": "markdown",
      "source": [
        "## $\\textbf{Quantifiers}$\n",
        "\n",
        "---\n",
        "---\n",
        "\n",
        "- quantifiers specifies the number of times that a character, group, or character class must occur to match\n",
        "\n",
        "- permissible number of repetition\n",
        "\n",
        "- can be categorized as greed or non-greedy\n",
        "<br>\n",
        "\n",
        "#### **Greedy Quanifiers**\n",
        "---\n",
        "\n",
        "Greedy quantifiers are used in regular expressions to match as many characters as possible while still satisfying the overall pattern.\n",
        "\n",
        "<br>\n",
        "\n",
        "$*$       : $0$ or more occurences of preceding element\n",
        "\n",
        "$+$       : $0$ or more occurences of preceding element\n",
        "\n",
        "$?$       : $0$ or $1$, used when a character can be optional\n",
        "\n",
        "$\\{m\\}$   : exactly $m$ characters\n",
        "\n",
        "$\\{m,n\\}$ : range of characters (m,n)\n"
      ],
      "metadata": {
        "id": "1kg4gOiShUdx"
      }
    },
    {
      "cell_type": "code",
      "source": [
        "test_string_1 = \"no no noo nooo noooothing noo\"\n",
        "test_string_2 = \"The colour of the sky and the color of the ocean are different.\"\n",
        "test_string_3 = \"we can use either http or https to generate URLs.\"\n",
        "test_string_4 = \"aaXaaaXaaaaXaaaaaX\"\n",
        "test_string_5 = \"<div>First div</div><div>Second div</div>\""
      ],
      "metadata": {
        "id": "NkaVjiF7g9fA"
      },
      "execution_count": 50,
      "outputs": []
    },
    {
      "cell_type": "code",
      "source": [
        "test_string_1"
      ],
      "metadata": {
        "colab": {
          "base_uri": "https://localhost:8080/",
          "height": 36
        },
        "id": "66F_1bqkFILL",
        "outputId": "9e5bb12d-fd9a-43ab-ebde-ca66b3b66939"
      },
      "execution_count": 51,
      "outputs": [
        {
          "output_type": "execute_result",
          "data": {
            "text/plain": [
              "'no no noo nooo noooothing noo'"
            ],
            "application/vnd.google.colaboratory.intrinsic+json": {
              "type": "string"
            }
          },
          "metadata": {},
          "execution_count": 51
        }
      ]
    },
    {
      "cell_type": "code",
      "source": [
        "pattern = re.compile('no')\n",
        "\n",
        "matches = re.finditer(pattern, test_string_1)\n",
        "\n",
        "for match in matches:\n",
        "  print(match)"
      ],
      "metadata": {
        "colab": {
          "base_uri": "https://localhost:8080/"
        },
        "id": "xGNpTMf4Fj1g",
        "outputId": "6f4a79f6-1316-48bb-b5fe-14414af80fdd"
      },
      "execution_count": 52,
      "outputs": [
        {
          "output_type": "stream",
          "name": "stdout",
          "text": [
            "<re.Match object; span=(0, 2), match='no'>\n",
            "<re.Match object; span=(3, 5), match='no'>\n",
            "<re.Match object; span=(6, 8), match='no'>\n",
            "<re.Match object; span=(10, 12), match='no'>\n",
            "<re.Match object; span=(15, 17), match='no'>\n",
            "<re.Match object; span=(26, 28), match='no'>\n"
          ]
        }
      ]
    },
    {
      "cell_type": "markdown",
      "source": [
        "Let's explore greedy."
      ],
      "metadata": {
        "id": "lZObLzuMF5CY"
      }
    },
    {
      "cell_type": "code",
      "source": [
        "pattern = re.compile('noo*')\n",
        "\n",
        "matches = re.finditer(pattern, test_string_1)\n",
        "\n",
        "for match in matches:\n",
        "  print(match)"
      ],
      "metadata": {
        "colab": {
          "base_uri": "https://localhost:8080/"
        },
        "id": "xqaZz5hoF2b1",
        "outputId": "127643e7-606a-4a45-8676-c7b73f770567"
      },
      "execution_count": 54,
      "outputs": [
        {
          "output_type": "stream",
          "name": "stdout",
          "text": [
            "<re.Match object; span=(0, 2), match='no'>\n",
            "<re.Match object; span=(3, 5), match='no'>\n",
            "<re.Match object; span=(6, 9), match='noo'>\n",
            "<re.Match object; span=(10, 14), match='nooo'>\n",
            "<re.Match object; span=(15, 20), match='noooo'>\n",
            "<re.Match object; span=(26, 29), match='noo'>\n"
          ]
        }
      ]
    },
    {
      "cell_type": "code",
      "source": [
        "pattern = re.compile('noo+')\n",
        "\n",
        "matches = re.finditer(pattern, test_string_1)\n",
        "\n",
        "for match in matches:\n",
        "  print(match)"
      ],
      "metadata": {
        "colab": {
          "base_uri": "https://localhost:8080/"
        },
        "id": "v9ZohIibGQBR",
        "outputId": "cf8e861b-8f8b-4094-f15c-03c083afa9ae"
      },
      "execution_count": 55,
      "outputs": [
        {
          "output_type": "stream",
          "name": "stdout",
          "text": [
            "<re.Match object; span=(6, 9), match='noo'>\n",
            "<re.Match object; span=(10, 14), match='nooo'>\n",
            "<re.Match object; span=(15, 20), match='noooo'>\n",
            "<re.Match object; span=(26, 29), match='noo'>\n"
          ]
        }
      ]
    },
    {
      "cell_type": "code",
      "source": [
        "pattern = re.compile('noo?')\n",
        "\n",
        "matches = re.finditer(pattern, test_string_1)\n",
        "\n",
        "for match in matches:\n",
        "  print(match)"
      ],
      "metadata": {
        "colab": {
          "base_uri": "https://localhost:8080/"
        },
        "id": "3PdAy_3HGRFC",
        "outputId": "33622919-c24c-41af-fab3-08ab5ef9baae"
      },
      "execution_count": 56,
      "outputs": [
        {
          "output_type": "stream",
          "name": "stdout",
          "text": [
            "<re.Match object; span=(0, 2), match='no'>\n",
            "<re.Match object; span=(3, 5), match='no'>\n",
            "<re.Match object; span=(6, 9), match='noo'>\n",
            "<re.Match object; span=(10, 13), match='noo'>\n",
            "<re.Match object; span=(15, 18), match='noo'>\n",
            "<re.Match object; span=(26, 29), match='noo'>\n"
          ]
        }
      ]
    },
    {
      "cell_type": "code",
      "source": [
        "print(test_string_2, end='\\n\\n')"
      ],
      "metadata": {
        "colab": {
          "base_uri": "https://localhost:8080/"
        },
        "id": "XZKfsHYMHJR0",
        "outputId": "dff01aba-0b14-48b8-deca-bfa035bb0f49"
      },
      "execution_count": 65,
      "outputs": [
        {
          "output_type": "stream",
          "name": "stdout",
          "text": [
            "The colour of the sky and the color of the ocean are different.\n",
            "\n"
          ]
        }
      ]
    },
    {
      "cell_type": "code",
      "source": [
        "pattern = re.compile('colou?r')\n",
        "\n",
        "matches = re.finditer(pattern, test_string_2)\n",
        "\n",
        "for match in matches:\n",
        "  print(match)"
      ],
      "metadata": {
        "colab": {
          "base_uri": "https://localhost:8080/"
        },
        "id": "Cs0TjeC7HQyE",
        "outputId": "7241c0e1-680f-4f38-a25c-c8578eb0b8d4"
      },
      "execution_count": 64,
      "outputs": [
        {
          "output_type": "stream",
          "name": "stdout",
          "text": [
            "<re.Match object; span=(4, 10), match='colour'>\n",
            "<re.Match object; span=(30, 35), match='color'>\n"
          ]
        }
      ]
    },
    {
      "cell_type": "code",
      "source": [
        "print(test_string_3)"
      ],
      "metadata": {
        "colab": {
          "base_uri": "https://localhost:8080/"
        },
        "id": "3yttQCuIHW1T",
        "outputId": "4def48b4-6ff8-4d0a-d993-683959714c81"
      },
      "execution_count": 67,
      "outputs": [
        {
          "output_type": "stream",
          "name": "stdout",
          "text": [
            "we can use either http or https to generate URLs.\n"
          ]
        }
      ]
    },
    {
      "cell_type": "code",
      "source": [
        "pattern = re.compile('https?')\n",
        "\n",
        "matches = re.finditer(pattern, test_string_3)\n",
        "\n",
        "for match in matches:\n",
        "  print(match)"
      ],
      "metadata": {
        "colab": {
          "base_uri": "https://localhost:8080/"
        },
        "id": "OTCbncjqHsen",
        "outputId": "fcc31bfc-bff0-4052-f8c4-28c55931fbd0"
      },
      "execution_count": 68,
      "outputs": [
        {
          "output_type": "stream",
          "name": "stdout",
          "text": [
            "<re.Match object; span=(18, 22), match='http'>\n",
            "<re.Match object; span=(26, 31), match='https'>\n"
          ]
        }
      ]
    },
    {
      "cell_type": "code",
      "source": [
        "print(test_string_1)\n",
        "print(\"____________________________________________________________\")\n",
        "pattern = re.compile('no{2,4}')\n",
        "\n",
        "matches = re.finditer(pattern, test_string_1)\n",
        "\n",
        "for match in matches:\n",
        "  print(match)"
      ],
      "metadata": {
        "colab": {
          "base_uri": "https://localhost:8080/"
        },
        "id": "5u8CpnXVHxIh",
        "outputId": "f278d7ed-3b49-4136-a320-7973e1a9a218"
      },
      "execution_count": 75,
      "outputs": [
        {
          "output_type": "stream",
          "name": "stdout",
          "text": [
            "no no noo nooo noooothing noo\n",
            "____________________________________________________________\n",
            "<re.Match object; span=(6, 9), match='noo'>\n",
            "<re.Match object; span=(10, 14), match='nooo'>\n",
            "<re.Match object; span=(15, 20), match='noooo'>\n",
            "<re.Match object; span=(26, 29), match='noo'>\n"
          ]
        }
      ]
    },
    {
      "cell_type": "markdown",
      "source": [
        "### **Non-Greedy (Lazy) Quantifiers**\n",
        "\n",
        "Non-greedy (or lazy) quantifiers in regular expressions match as few characters as possible while still satisfying the overall pattern. They are useful when you want to minimize the amount of text captured.\n",
        "\n",
        "---\n",
        "\n",
        "- **`*?`**:  \n",
        "  Matches **0 or more** occurrences of the preceding element, but as few as possible.\n",
        "\n",
        "- **`+?`**:  \n",
        "  Matches **1 or more** occurrences of the preceding element, but as few as possible.\n",
        "\n",
        "- **`??`**:  \n",
        "  Matches **0 or 1** occurrence of the preceding element, but prefers 0.\n",
        "\n",
        "- **`{m}?`**:  \n",
        "  Matches exactly **m** occurrences of the preceding element, but as few as possible.\n",
        "\n",
        "- **`{m,n}?`**:  \n",
        "  Matches between **m and n** occurrences of the preceding element, but as few as possible.\n"
      ],
      "metadata": {
        "id": "kD8KUq-7LYcM"
      }
    },
    {
      "cell_type": "code",
      "source": [
        "print(test_string_1)\n",
        "print(\"____________________________________________________________\")\n",
        "pattern = re.compile('noo*?')\n",
        "\n",
        "matches = re.finditer(pattern, test_string_1)\n",
        "\n",
        "for match in matches:\n",
        "  print(match)"
      ],
      "metadata": {
        "colab": {
          "base_uri": "https://localhost:8080/"
        },
        "id": "QyGH9ywZJl6D",
        "outputId": "c58920c8-2e4b-456b-b831-71d2ab4db767"
      },
      "execution_count": 77,
      "outputs": [
        {
          "output_type": "stream",
          "name": "stdout",
          "text": [
            "no no noo nooo noooothing noo\n",
            "____________________________________________________________\n",
            "<re.Match object; span=(0, 2), match='no'>\n",
            "<re.Match object; span=(3, 5), match='no'>\n",
            "<re.Match object; span=(6, 8), match='no'>\n",
            "<re.Match object; span=(10, 12), match='no'>\n",
            "<re.Match object; span=(15, 17), match='no'>\n",
            "<re.Match object; span=(26, 28), match='no'>\n"
          ]
        }
      ]
    },
    {
      "cell_type": "code",
      "source": [
        "print(test_string_1)\n",
        "print(\"____________________________________________________________\")\n",
        "pattern = re.compile('noo+?')\n",
        "\n",
        "matches = re.finditer(pattern, test_string_1)\n",
        "\n",
        "for match in matches:\n",
        "  print(match)"
      ],
      "metadata": {
        "colab": {
          "base_uri": "https://localhost:8080/"
        },
        "id": "wDrK47SNNJVv",
        "outputId": "00066c2d-0795-4106-ae8e-5275edce143c"
      },
      "execution_count": 78,
      "outputs": [
        {
          "output_type": "stream",
          "name": "stdout",
          "text": [
            "no no noo nooo noooothing noo\n",
            "____________________________________________________________\n",
            "<re.Match object; span=(6, 9), match='noo'>\n",
            "<re.Match object; span=(10, 13), match='noo'>\n",
            "<re.Match object; span=(15, 18), match='noo'>\n",
            "<re.Match object; span=(26, 29), match='noo'>\n"
          ]
        }
      ]
    },
    {
      "cell_type": "code",
      "source": [
        "print(test_string_1)\n",
        "print(\"____________________________________________________________\")\n",
        "pattern = re.compile('noo?')\n",
        "\n",
        "matches = re.finditer(pattern, test_string_1)\n",
        "\n",
        "for match in matches:\n",
        "  print(match)"
      ],
      "metadata": {
        "colab": {
          "base_uri": "https://localhost:8080/"
        },
        "id": "O50ccVFcNNb9",
        "outputId": "7e41c97f-b038-45f6-f25b-d48e3db41f97"
      },
      "execution_count": 80,
      "outputs": [
        {
          "output_type": "stream",
          "name": "stdout",
          "text": [
            "no no noo nooo noooothing noo\n",
            "____________________________________________________________\n",
            "<re.Match object; span=(0, 2), match='no'>\n",
            "<re.Match object; span=(3, 5), match='no'>\n",
            "<re.Match object; span=(6, 9), match='noo'>\n",
            "<re.Match object; span=(10, 13), match='noo'>\n",
            "<re.Match object; span=(15, 18), match='noo'>\n",
            "<re.Match object; span=(26, 29), match='noo'>\n"
          ]
        }
      ]
    },
    {
      "cell_type": "code",
      "source": [
        "print(test_string_4, end='\\n\\n')\n",
        "\n",
        "print(\"____________________________________________________________\")\n",
        "pattern = re.compile(r'a{2,5}')\n",
        "\n",
        "matches = re.finditer(pattern, test_string_4)\n",
        "\n",
        "for match in matches:\n",
        "  print(match)\n",
        "\n",
        "\n",
        "print(\"____________________________________________________________\")\n",
        "pattern = re.compile(r'a{2,5}?')\n",
        "\n",
        "matches = re.finditer(pattern, test_string_4)\n",
        "\n",
        "for match in matches:\n",
        "  print(match)"
      ],
      "metadata": {
        "colab": {
          "base_uri": "https://localhost:8080/"
        },
        "id": "mYEDEDSeNSI3",
        "outputId": "9afc4bb6-5300-4278-d7a7-018962eb6328"
      },
      "execution_count": 94,
      "outputs": [
        {
          "output_type": "stream",
          "name": "stdout",
          "text": [
            "aaXaaaXaaaaXaaaaaX\n",
            "\n",
            "____________________________________________________________\n",
            "<re.Match object; span=(0, 2), match='aa'>\n",
            "<re.Match object; span=(3, 6), match='aaa'>\n",
            "<re.Match object; span=(7, 11), match='aaaa'>\n",
            "<re.Match object; span=(12, 17), match='aaaaa'>\n",
            "____________________________________________________________\n",
            "<re.Match object; span=(0, 2), match='aa'>\n",
            "<re.Match object; span=(3, 5), match='aa'>\n",
            "<re.Match object; span=(7, 9), match='aa'>\n",
            "<re.Match object; span=(9, 11), match='aa'>\n",
            "<re.Match object; span=(12, 14), match='aa'>\n",
            "<re.Match object; span=(14, 16), match='aa'>\n"
          ]
        }
      ]
    },
    {
      "cell_type": "code",
      "source": [
        "print(test_string_5, end='\\n\\n')\n",
        "\n",
        "print(\"____________________________________________________________\")\n",
        "pattern = re.compile(r'<\\w+>.*<\\w+>')\n",
        "\n",
        "matches = re.finditer(pattern, test_string_5)\n",
        "\n",
        "for match in matches:\n",
        "  print(match)\n",
        "\n"
      ],
      "metadata": {
        "colab": {
          "base_uri": "https://localhost:8080/"
        },
        "id": "GIA7PX18Oyru",
        "outputId": "32c0b649-d40a-43c7-a411-caca90b1a0d7"
      },
      "execution_count": 96,
      "outputs": [
        {
          "output_type": "stream",
          "name": "stdout",
          "text": [
            "<div>First div</div><div>Second div</div>\n",
            "\n",
            "____________________________________________________________\n",
            "<re.Match object; span=(0, 25), match='<div>First div</div><div>'>\n"
          ]
        }
      ]
    }
  ]
}