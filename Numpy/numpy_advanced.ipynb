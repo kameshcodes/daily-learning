{
  "nbformat": 4,
  "nbformat_minor": 0,
  "metadata": {
    "colab": {
      "provenance": [],
      "toc_visible": true
    },
    "kernelspec": {
      "name": "python3",
      "display_name": "Python 3"
    },
    "language_info": {
      "name": "python"
    }
  },
  "cells": [
    {
      "cell_type": "code",
      "execution_count": 140,
      "metadata": {
        "id": "QEg2Offa3X9n"
      },
      "outputs": [],
      "source": [
        "import time\n",
        "import sys\n",
        "import numpy as np"
      ]
    },
    {
      "cell_type": "markdown",
      "source": [
        "### i. Revision"
      ],
      "metadata": {
        "id": "q7eC35sFMk3o"
      }
    },
    {
      "cell_type": "markdown",
      "source": [
        "#### A. Speed and Memory Comparison"
      ],
      "metadata": {
        "id": "vAuhpU0W33FH"
      }
    },
    {
      "cell_type": "markdown",
      "source": [
        "1. Speed"
      ],
      "metadata": {
        "id": "rVJwF6La3_GD"
      }
    },
    {
      "cell_type": "code",
      "source": [
        "# Python list operations\n",
        "a = [i for i in range(10000000)] # 10 million elements array\n",
        "b = [i for i in range(10000000, 20000000)]"
      ],
      "metadata": {
        "id": "u_AgcV_R32d7"
      },
      "execution_count": 141,
      "outputs": []
    },
    {
      "cell_type": "code",
      "source": [
        "st = time.time()\n",
        "\n",
        "c = []\n",
        "for i in range(len(a)):\n",
        "  c.append(a[i]+b[i])\n",
        "print(time.time()-st, \"sec\")"
      ],
      "metadata": {
        "colab": {
          "base_uri": "https://localhost:8080/"
        },
        "id": "oYCP6zss4Uwu",
        "outputId": "dab99ded-baff-469e-8d53-b8c864de7601"
      },
      "execution_count": 142,
      "outputs": [
        {
          "output_type": "stream",
          "name": "stdout",
          "text": [
            "2.227529764175415 sec\n"
          ]
        }
      ]
    },
    {
      "cell_type": "code",
      "source": [
        "a = np.arange(10000000)\n",
        "b = np.arange(10000000, 20000000)\n",
        "\n",
        "st = time.time()\n",
        "c = a+b\n",
        "print(time.time()-st, \"sec\")"
      ],
      "metadata": {
        "colab": {
          "base_uri": "https://localhost:8080/"
        },
        "id": "DQ6THNvX4n1n",
        "outputId": "255deebf-383d-4a12-c315-bb7f07083f92"
      },
      "execution_count": 143,
      "outputs": [
        {
          "output_type": "stream",
          "name": "stdout",
          "text": [
            "0.04332685470581055 sec\n"
          ]
        }
      ]
    },
    {
      "cell_type": "code",
      "source": [
        "str(int(2.0163767337799072/0.032171010971069336)) + \"X faster\""
      ],
      "metadata": {
        "colab": {
          "base_uri": "https://localhost:8080/",
          "height": 36
        },
        "id": "BtKG0dGz5DvY",
        "outputId": "8b9b1c3e-f5d1-487a-adfb-81ef82715eed"
      },
      "execution_count": 144,
      "outputs": [
        {
          "output_type": "execute_result",
          "data": {
            "text/plain": [
              "'62X faster'"
            ],
            "application/vnd.google.colaboratory.intrinsic+json": {
              "type": "string"
            }
          },
          "metadata": {},
          "execution_count": 144
        }
      ]
    },
    {
      "cell_type": "markdown",
      "source": [
        "- NumPy is faster than Python lists because it uses contiguous memory, fixed data types, and C-based vectorized operations. Python lists are slower due to dynamic typing and referential (pointer) overhead."
      ],
      "metadata": {
        "id": "c7tNyo8w529w"
      }
    },
    {
      "cell_type": "markdown",
      "source": [
        "2. Memory\n",
        "\n",
        "The `sys.getsizeof()` function in Python is used to get the size `(in bytes)` of a Python object in memory\n"
      ],
      "metadata": {
        "id": "-D0pOnXh7dmq"
      }
    },
    {
      "cell_type": "code",
      "source": [
        "a = [i for i in range(10000000)]\n",
        "\n",
        "sys.getsizeof(a)"
      ],
      "metadata": {
        "colab": {
          "base_uri": "https://localhost:8080/"
        },
        "id": "zcj5Qst55RLz",
        "outputId": "0fee0618-c808-474f-d107-d24aa7626ba5"
      },
      "execution_count": 145,
      "outputs": [
        {
          "output_type": "execute_result",
          "data": {
            "text/plain": [
              "89095160"
            ]
          },
          "metadata": {},
          "execution_count": 145
        }
      ]
    },
    {
      "cell_type": "code",
      "source": [
        "a = np.arange(10000000) #default dtype is np.int64\n",
        "\n",
        "sys.getsizeof(a)"
      ],
      "metadata": {
        "colab": {
          "base_uri": "https://localhost:8080/"
        },
        "id": "eJBzbXp_6gkP",
        "outputId": "a364f51c-0f60-4296-f3f4-490f62d023c7"
      },
      "execution_count": 146,
      "outputs": [
        {
          "output_type": "execute_result",
          "data": {
            "text/plain": [
              "80000112"
            ]
          },
          "metadata": {},
          "execution_count": 146
        }
      ]
    },
    {
      "cell_type": "code",
      "source": [
        "b = np.arange(10000000, dtype = np.int32)  #Memory is halved when converting from int64 to int32\n",
        "\n",
        "sys.getsizeof(b)"
      ],
      "metadata": {
        "colab": {
          "base_uri": "https://localhost:8080/"
        },
        "id": "Xm9DU-5p6l8R",
        "outputId": "ad0992ee-9806-4e85-83d6-bd9083389568"
      },
      "execution_count": 147,
      "outputs": [
        {
          "output_type": "execute_result",
          "data": {
            "text/plain": [
              "40000112"
            ]
          },
          "metadata": {},
          "execution_count": 147
        }
      ]
    },
    {
      "cell_type": "code",
      "source": [
        "c = np.arange(10000000, dtype = np.int8)  #Memory is one-eighth when converting from int64 to int32\n",
        "\n",
        "sys.getsizeof(c)"
      ],
      "metadata": {
        "colab": {
          "base_uri": "https://localhost:8080/"
        },
        "id": "TlopowtW6r1F",
        "outputId": "b5405924-ee30-441d-931d-e665e9e4b484"
      },
      "execution_count": 148,
      "outputs": [
        {
          "output_type": "execute_result",
          "data": {
            "text/plain": [
              "10000112"
            ]
          },
          "metadata": {},
          "execution_count": 148
        }
      ]
    },
    {
      "cell_type": "markdown",
      "source": [
        "- Using `np.int8` with large values causes overflow due to its limited range (-128 to 127). Internally, values wrap around using modulo 256 logic.\n",
        "\n",
        "<br>\n",
        "\n",
        "\n",
        "---\n",
        "---\n",
        "\n",
        "Remarks\n",
        "\n",
        "---\n",
        "---\n",
        "- `int64` is often the native integer type, so operations may be slightly faster than with `int32`\n",
        "- Some libraries (like TensorFlow, PyTorch) may expect a specific dtype. Changing to int32 might cause:\n",
        "  - Type mismatch errors\n",
        "  - Unexpected behavior during computations\n",
        "\n",
        "\n",
        "\n",
        "<br>\n",
        "\n",
        "---\n",
        "---\n",
        "\n",
        "When to Avoid ?\n",
        "\n",
        "---\n",
        "---\n",
        "- If data might exceed the int32, int16 or int8 range.\n",
        "- If precision and overflow are critical issues\n",
        "\n",
        "\n",
        "---\n"
      ],
      "metadata": {
        "id": "s5CADzSo7tzU"
      }
    },
    {
      "cell_type": "markdown",
      "source": [
        "#### B. Indexing"
      ],
      "metadata": {
        "id": "N6e3LFFt71Aw"
      }
    },
    {
      "cell_type": "code",
      "source": [
        "a = np.arange(12).reshape(4, 3)\n",
        "\n",
        "a"
      ],
      "metadata": {
        "colab": {
          "base_uri": "https://localhost:8080/"
        },
        "id": "Jn7No_3m6wAY",
        "outputId": "f6c6a6a4-c4a9-4a2b-91c5-72dc12dc18ae"
      },
      "execution_count": 149,
      "outputs": [
        {
          "output_type": "execute_result",
          "data": {
            "text/plain": [
              "array([[ 0,  1,  2],\n",
              "       [ 3,  4,  5],\n",
              "       [ 6,  7,  8],\n",
              "       [ 9, 10, 11]])"
            ]
          },
          "metadata": {},
          "execution_count": 149
        }
      ]
    },
    {
      "cell_type": "markdown",
      "source": [
        "1. Normal Indexing\n",
        "\n",
        "---"
      ],
      "metadata": {
        "id": "msMBfsVb8M5K"
      }
    },
    {
      "cell_type": "code",
      "source": [
        "a[1,2]"
      ],
      "metadata": {
        "colab": {
          "base_uri": "https://localhost:8080/"
        },
        "id": "bVwuB0Ai8A-8",
        "outputId": "027b8970-f977-4823-b245-0fe354cd246b"
      },
      "execution_count": 150,
      "outputs": [
        {
          "output_type": "execute_result",
          "data": {
            "text/plain": [
              "np.int64(5)"
            ]
          },
          "metadata": {},
          "execution_count": 150
        }
      ]
    },
    {
      "cell_type": "code",
      "source": [
        "a[1:3, 1:3]"
      ],
      "metadata": {
        "colab": {
          "base_uri": "https://localhost:8080/"
        },
        "id": "lxTEUG5o8EAd",
        "outputId": "c6a137af-cfa3-43f0-c26f-deb34209a6ab"
      },
      "execution_count": 151,
      "outputs": [
        {
          "output_type": "execute_result",
          "data": {
            "text/plain": [
              "array([[4, 5],\n",
              "       [7, 8]])"
            ]
          },
          "metadata": {},
          "execution_count": 151
        }
      ]
    },
    {
      "cell_type": "markdown",
      "source": [
        "2. Fancy Indexing\n",
        "\n",
        "---\n",
        "\n",
        "How to fetch first, third and fourth.\n",
        "\n",
        "- When there is no pattern.\n",
        "- Give a list, to index."
      ],
      "metadata": {
        "id": "0rezU9p88RKP"
      }
    },
    {
      "cell_type": "code",
      "source": [
        "a[[0, 2, 3]]"
      ],
      "metadata": {
        "colab": {
          "base_uri": "https://localhost:8080/"
        },
        "id": "6JodU73N8JtT",
        "outputId": "04ee18ce-6681-4b57-976a-bf7377fabec4"
      },
      "execution_count": 152,
      "outputs": [
        {
          "output_type": "execute_result",
          "data": {
            "text/plain": [
              "array([[ 0,  1,  2],\n",
              "       [ 6,  7,  8],\n",
              "       [ 9, 10, 11]])"
            ]
          },
          "metadata": {},
          "execution_count": 152
        }
      ]
    },
    {
      "cell_type": "code",
      "source": [
        "b = np.arange(24).reshape(6, 4)\n",
        "b"
      ],
      "metadata": {
        "colab": {
          "base_uri": "https://localhost:8080/"
        },
        "id": "yyzKU4sJ82_D",
        "outputId": "2e672881-73d9-49af-cb0d-beab41a969a5"
      },
      "execution_count": 153,
      "outputs": [
        {
          "output_type": "execute_result",
          "data": {
            "text/plain": [
              "array([[ 0,  1,  2,  3],\n",
              "       [ 4,  5,  6,  7],\n",
              "       [ 8,  9, 10, 11],\n",
              "       [12, 13, 14, 15],\n",
              "       [16, 17, 18, 19],\n",
              "       [20, 21, 22, 23]])"
            ]
          },
          "metadata": {},
          "execution_count": 153
        }
      ]
    },
    {
      "cell_type": "code",
      "source": [
        "b[[1,4,5]]"
      ],
      "metadata": {
        "colab": {
          "base_uri": "https://localhost:8080/"
        },
        "id": "Yw4BuLxF8_u8",
        "outputId": "fe35a1d5-bd40-4013-efc9-84369216e92b"
      },
      "execution_count": 154,
      "outputs": [
        {
          "output_type": "execute_result",
          "data": {
            "text/plain": [
              "array([[ 4,  5,  6,  7],\n",
              "       [16, 17, 18, 19],\n",
              "       [20, 21, 22, 23]])"
            ]
          },
          "metadata": {},
          "execution_count": 154
        }
      ]
    },
    {
      "cell_type": "code",
      "source": [
        "b[:, [1, 2]]"
      ],
      "metadata": {
        "colab": {
          "base_uri": "https://localhost:8080/"
        },
        "id": "8ooYAlhY9H6E",
        "outputId": "35f62139-fe1e-4665-caaa-236bd63f112b"
      },
      "execution_count": 155,
      "outputs": [
        {
          "output_type": "execute_result",
          "data": {
            "text/plain": [
              "array([[ 1,  2],\n",
              "       [ 5,  6],\n",
              "       [ 9, 10],\n",
              "       [13, 14],\n",
              "       [17, 18],\n",
              "       [21, 22]])"
            ]
          },
          "metadata": {},
          "execution_count": 155
        }
      ]
    },
    {
      "cell_type": "markdown",
      "source": [
        "3. Boolean Indexing\n",
        "\n",
        "---"
      ],
      "metadata": {
        "id": "snbIq32V8TJz"
      }
    },
    {
      "cell_type": "code",
      "source": [
        "d = np.random.randint(10, 100, 24).reshape(6, 4)"
      ],
      "metadata": {
        "id": "L50ifw1y8VKl"
      },
      "execution_count": 156,
      "outputs": []
    },
    {
      "cell_type": "code",
      "source": [
        "d > 50"
      ],
      "metadata": {
        "colab": {
          "base_uri": "https://localhost:8080/"
        },
        "id": "tEdz-dtP93RG",
        "outputId": "956d8dfc-661a-4569-c772-4e5a68b1b028"
      },
      "execution_count": 157,
      "outputs": [
        {
          "output_type": "execute_result",
          "data": {
            "text/plain": [
              "array([[False, False,  True, False],\n",
              "       [False,  True,  True, False],\n",
              "       [ True, False, False, False],\n",
              "       [False, False,  True,  True],\n",
              "       [False, False,  True,  True],\n",
              "       [False, False, False,  True]])"
            ]
          },
          "metadata": {},
          "execution_count": 157
        }
      ]
    },
    {
      "cell_type": "code",
      "source": [
        "d[d > 50]"
      ],
      "metadata": {
        "colab": {
          "base_uri": "https://localhost:8080/"
        },
        "id": "9AKY-F3R-LgZ",
        "outputId": "e0b117e6-d7a7-47a7-ca52-1ca92f61abf8"
      },
      "execution_count": 158,
      "outputs": [
        {
          "output_type": "execute_result",
          "data": {
            "text/plain": [
              "array([52, 88, 52, 96, 97, 56, 58, 75, 66])"
            ]
          },
          "metadata": {},
          "execution_count": 158
        }
      ]
    },
    {
      "cell_type": "code",
      "source": [
        "d % 2 == 0"
      ],
      "metadata": {
        "colab": {
          "base_uri": "https://localhost:8080/"
        },
        "id": "_7NVLjLh-Rdi",
        "outputId": "3ccb3bb6-2f7b-499f-8d1c-af385b6620dd"
      },
      "execution_count": 159,
      "outputs": [
        {
          "output_type": "execute_result",
          "data": {
            "text/plain": [
              "array([[ True,  True,  True,  True],\n",
              "       [ True,  True,  True, False],\n",
              "       [ True, False, False, False],\n",
              "       [False,  True, False,  True],\n",
              "       [False,  True,  True, False],\n",
              "       [False,  True, False,  True]])"
            ]
          },
          "metadata": {},
          "execution_count": 159
        }
      ]
    },
    {
      "cell_type": "code",
      "source": [
        "d[d % 2 == 0]"
      ],
      "metadata": {
        "colab": {
          "base_uri": "https://localhost:8080/"
        },
        "id": "48G0yiWF-j7C",
        "outputId": "f27445fd-e5c7-4209-ebf5-9c8bedbdbd35"
      },
      "execution_count": 160,
      "outputs": [
        {
          "output_type": "execute_result",
          "data": {
            "text/plain": [
              "array([24, 44, 52, 18, 44, 88, 52, 96, 26, 56, 16, 58, 42, 66])"
            ]
          },
          "metadata": {},
          "execution_count": 160
        }
      ]
    },
    {
      "cell_type": "code",
      "source": [
        "d[(d > 50) & (d % 2 == 0)]"
      ],
      "metadata": {
        "colab": {
          "base_uri": "https://localhost:8080/"
        },
        "id": "qgsKff1V-mS2",
        "outputId": "b4aebd66-7d73-4940-c25e-b6b6d7a9f9c3"
      },
      "execution_count": 161,
      "outputs": [
        {
          "output_type": "execute_result",
          "data": {
            "text/plain": [
              "array([52, 88, 52, 96, 56, 58, 66])"
            ]
          },
          "metadata": {},
          "execution_count": 161
        }
      ]
    },
    {
      "cell_type": "code",
      "source": [
        "d[(d > 50) and (d % 2 == 0)]"
      ],
      "metadata": {
        "colab": {
          "base_uri": "https://localhost:8080/",
          "height": 141
        },
        "id": "mjtgK2y8-xNy",
        "outputId": "7b075a90-acc2-42ad-b966-e501e93d5e68"
      },
      "execution_count": 162,
      "outputs": [
        {
          "output_type": "error",
          "ename": "ValueError",
          "evalue": "The truth value of an array with more than one element is ambiguous. Use a.any() or a.all()",
          "traceback": [
            "\u001b[0;31m---------------------------------------------------------------------------\u001b[0m",
            "\u001b[0;31mValueError\u001b[0m                                Traceback (most recent call last)",
            "\u001b[0;32m/tmp/ipython-input-162-2216112814.py\u001b[0m in \u001b[0;36m<cell line: 0>\u001b[0;34m()\u001b[0m\n\u001b[0;32m----> 1\u001b[0;31m \u001b[0md\u001b[0m\u001b[0;34m[\u001b[0m\u001b[0;34m(\u001b[0m\u001b[0md\u001b[0m \u001b[0;34m>\u001b[0m \u001b[0;36m50\u001b[0m\u001b[0;34m)\u001b[0m \u001b[0;32mand\u001b[0m \u001b[0;34m(\u001b[0m\u001b[0md\u001b[0m \u001b[0;34m%\u001b[0m \u001b[0;36m2\u001b[0m \u001b[0;34m==\u001b[0m \u001b[0;36m0\u001b[0m\u001b[0;34m)\u001b[0m\u001b[0;34m]\u001b[0m\u001b[0;34m\u001b[0m\u001b[0;34m\u001b[0m\u001b[0m\n\u001b[0m",
            "\u001b[0;31mValueError\u001b[0m: The truth value of an array with more than one element is ambiguous. Use a.any() or a.all()"
          ]
        }
      ]
    },
    {
      "cell_type": "markdown",
      "source": [
        "This is because the and operator cannot be used for **element-wise** comparison of boolean arrays in NumPy. You should use the bitwise `AND` operator `&` instead"
      ],
      "metadata": {
        "id": "AKi6USAu_Oqf"
      }
    },
    {
      "cell_type": "markdown",
      "source": [
        "#### C. BroadCasting\n",
        "\n",
        "\n",
        "- Broadcasting lets NumPy work with arrays of different sizes during arithmetic operations.\n",
        "\n",
        "- It automatically expands smaller arrays to match bigger ones.\n",
        "\n",
        "- It does this without making extra copies of data."
      ],
      "metadata": {
        "id": "QPMPgN2h_c7K"
      }
    },
    {
      "cell_type": "code",
      "source": [
        "a = np.arange(6).reshape(2, 3)\n",
        "b = np.arange(6).reshape(2, 3)\n",
        "\n",
        "print(a, \"\\n\")\n",
        "print(b, \"\\n\")\n",
        "print(a+b, \"\\n\")"
      ],
      "metadata": {
        "colab": {
          "base_uri": "https://localhost:8080/"
        },
        "id": "vSphHa4g_EJ1",
        "outputId": "03ad6325-0e41-4313-bc3a-781c2b862fae"
      },
      "execution_count": 163,
      "outputs": [
        {
          "output_type": "stream",
          "name": "stdout",
          "text": [
            "[[0 1 2]\n",
            " [3 4 5]] \n",
            "\n",
            "[[0 1 2]\n",
            " [3 4 5]] \n",
            "\n",
            "[[ 0  2  4]\n",
            " [ 6  8 10]] \n",
            "\n"
          ]
        }
      ]
    },
    {
      "cell_type": "code",
      "source": [
        "c = np.arange(6).reshape(2, 3)\n",
        "d = np.arange(3).reshape(1, 3) # shape is changed\n",
        "\n",
        "print(c, \"\\n\")\n",
        "print(c, \"\\n\")\n",
        "print(c+d, \"\\n\")"
      ],
      "metadata": {
        "colab": {
          "base_uri": "https://localhost:8080/"
        },
        "id": "AN2KJQcPAID9",
        "outputId": "5abe0f6f-6b45-46c3-caa2-53dd03542ab6"
      },
      "execution_count": 164,
      "outputs": [
        {
          "output_type": "stream",
          "name": "stdout",
          "text": [
            "[[0 1 2]\n",
            " [3 4 5]] \n",
            "\n",
            "[[0 1 2]\n",
            " [3 4 5]] \n",
            "\n",
            "[[0 2 4]\n",
            " [3 5 7]] \n",
            "\n"
          ]
        }
      ]
    },
    {
      "cell_type": "markdown",
      "source": [
        "![image.png](data:image/png;base64,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)"
      ],
      "metadata": {
        "id": "uSC6RbHHA5lg"
      }
    },
    {
      "cell_type": "markdown",
      "source": [
        "$\\textbf{Broadcasting Rules}$\n",
        "\n",
        "---\n",
        "\n",
        "1. Compare shapes right to left.\n",
        "\n",
        "```\n",
        "Make Two array have same number of dimension.\n",
        "---------------------------------------------\n",
        "- If the number of dimension of two arrays are different, add new dimesion to the head of array with the smaller dimesions.\n",
        "\n",
        "(4, 3) and 3,\n",
        "\n",
        "(4, 3) and (1, 3)\n",
        "```\n",
        "\n",
        "2. Dimensions are compatible if:\n",
        "\n",
        "  - They are equal, or\n",
        "  - One of them is 1.\n",
        "\n",
        "\n",
        "3. Missing dimensions are treated as 1.\n",
        "\n",
        "4. If all dimensions are compatible, NumPy broadcasts the arrays.\n",
        "\n",
        "5. Otherwise, you get a ValueError."
      ],
      "metadata": {
        "id": "4s_j9GHVBRj9"
      }
    },
    {
      "cell_type": "markdown",
      "source": [
        "Examples\n",
        "\n",
        "---"
      ],
      "metadata": {
        "id": "Mee88QLTEFMO"
      }
    },
    {
      "cell_type": "code",
      "source": [
        "a = np.arange(12).reshape(4, 3)\n",
        "b = np.arange(3)\n",
        "\n",
        "print(a, \"\\n\")\n",
        "print(b, \"\\n\")\n",
        "print(a+b, \"\\n\")"
      ],
      "metadata": {
        "colab": {
          "base_uri": "https://localhost:8080/"
        },
        "id": "Kq9-Ww6qAX7F",
        "outputId": "bc8b6aa2-3059-4bdb-b706-fb90b6a2917f"
      },
      "execution_count": 165,
      "outputs": [
        {
          "output_type": "stream",
          "name": "stdout",
          "text": [
            "[[ 0  1  2]\n",
            " [ 3  4  5]\n",
            " [ 6  7  8]\n",
            " [ 9 10 11]] \n",
            "\n",
            "[0 1 2] \n",
            "\n",
            "[[ 0  2  4]\n",
            " [ 3  5  7]\n",
            " [ 6  8 10]\n",
            " [ 9 11 13]] \n",
            "\n"
          ]
        }
      ]
    },
    {
      "cell_type": "code",
      "source": [
        "a = np.arange(12).reshape(3, 4)\n",
        "b = np.arange(3)\n",
        "\n",
        "print(a, \"\\n\")\n",
        "print(b, \"\\n\")\n",
        "print(a+b, \"\\n\")"
      ],
      "metadata": {
        "colab": {
          "base_uri": "https://localhost:8080/",
          "height": 280
        },
        "id": "kxerifOWEwrn",
        "outputId": "6035984a-9af5-45d4-d416-b5890dfe5697"
      },
      "execution_count": 166,
      "outputs": [
        {
          "output_type": "stream",
          "name": "stdout",
          "text": [
            "[[ 0  1  2  3]\n",
            " [ 4  5  6  7]\n",
            " [ 8  9 10 11]] \n",
            "\n",
            "[0 1 2] \n",
            "\n"
          ]
        },
        {
          "output_type": "error",
          "ename": "ValueError",
          "evalue": "operands could not be broadcast together with shapes (3,4) (3,) ",
          "traceback": [
            "\u001b[0;31m---------------------------------------------------------------------------\u001b[0m",
            "\u001b[0;31mValueError\u001b[0m                                Traceback (most recent call last)",
            "\u001b[0;32m/tmp/ipython-input-166-1260926763.py\u001b[0m in \u001b[0;36m<cell line: 0>\u001b[0;34m()\u001b[0m\n\u001b[1;32m      4\u001b[0m \u001b[0mprint\u001b[0m\u001b[0;34m(\u001b[0m\u001b[0ma\u001b[0m\u001b[0;34m,\u001b[0m \u001b[0;34m\"\\n\"\u001b[0m\u001b[0;34m)\u001b[0m\u001b[0;34m\u001b[0m\u001b[0;34m\u001b[0m\u001b[0m\n\u001b[1;32m      5\u001b[0m \u001b[0mprint\u001b[0m\u001b[0;34m(\u001b[0m\u001b[0mb\u001b[0m\u001b[0;34m,\u001b[0m \u001b[0;34m\"\\n\"\u001b[0m\u001b[0;34m)\u001b[0m\u001b[0;34m\u001b[0m\u001b[0;34m\u001b[0m\u001b[0m\n\u001b[0;32m----> 6\u001b[0;31m \u001b[0mprint\u001b[0m\u001b[0;34m(\u001b[0m\u001b[0ma\u001b[0m\u001b[0;34m+\u001b[0m\u001b[0mb\u001b[0m\u001b[0;34m,\u001b[0m \u001b[0;34m\"\\n\"\u001b[0m\u001b[0;34m)\u001b[0m\u001b[0;34m\u001b[0m\u001b[0;34m\u001b[0m\u001b[0m\n\u001b[0m",
            "\u001b[0;31mValueError\u001b[0m: operands could not be broadcast together with shapes (3,4) (3,) "
          ]
        }
      ]
    },
    {
      "cell_type": "markdown",
      "source": [
        "```\n",
        "(3, 4) and (3, )\n",
        "           (1, 3)\n",
        "       ->  (3, 3)\n",
        "\n",
        "```"
      ],
      "metadata": {
        "id": "kdpys1ZEFAQ_"
      }
    },
    {
      "cell_type": "code",
      "source": [
        "a = np.arange(3).reshape(1, 3)\n",
        "b = np.arange(4).reshape(4, 1)\n",
        "\n",
        "print(a, \"\\n\")\n",
        "print(b, \"\\n\")\n",
        "print(a+b, \"\\n\")"
      ],
      "metadata": {
        "colab": {
          "base_uri": "https://localhost:8080/"
        },
        "id": "IhMJDhEdE7wz",
        "outputId": "9152c221-721d-4a81-f28a-fb9b219fc73d"
      },
      "execution_count": 167,
      "outputs": [
        {
          "output_type": "stream",
          "name": "stdout",
          "text": [
            "[[0 1 2]] \n",
            "\n",
            "[[0]\n",
            " [1]\n",
            " [2]\n",
            " [3]] \n",
            "\n",
            "[[0 1 2]\n",
            " [1 2 3]\n",
            " [2 3 4]\n",
            " [3 4 5]] \n",
            "\n"
          ]
        }
      ]
    },
    {
      "cell_type": "code",
      "source": [
        "a = np.arange(12).reshape(4, 3)\n",
        "b = np.arange(12).reshape(3, 4)\n",
        "\n",
        "print(a, \"\\n\")\n",
        "print(b, \"\\n\")\n",
        "print(a+b, \"\\n\")"
      ],
      "metadata": {
        "colab": {
          "base_uri": "https://localhost:8080/",
          "height": 332
        },
        "id": "QTN6R5HAF_SF",
        "outputId": "76ff9d10-436d-4199-841d-859710390c53"
      },
      "execution_count": 168,
      "outputs": [
        {
          "output_type": "stream",
          "name": "stdout",
          "text": [
            "[[ 0  1  2]\n",
            " [ 3  4  5]\n",
            " [ 6  7  8]\n",
            " [ 9 10 11]] \n",
            "\n",
            "[[ 0  1  2  3]\n",
            " [ 4  5  6  7]\n",
            " [ 8  9 10 11]] \n",
            "\n"
          ]
        },
        {
          "output_type": "error",
          "ename": "ValueError",
          "evalue": "operands could not be broadcast together with shapes (4,3) (3,4) ",
          "traceback": [
            "\u001b[0;31m---------------------------------------------------------------------------\u001b[0m",
            "\u001b[0;31mValueError\u001b[0m                                Traceback (most recent call last)",
            "\u001b[0;32m/tmp/ipython-input-168-1086814930.py\u001b[0m in \u001b[0;36m<cell line: 0>\u001b[0;34m()\u001b[0m\n\u001b[1;32m      4\u001b[0m \u001b[0mprint\u001b[0m\u001b[0;34m(\u001b[0m\u001b[0ma\u001b[0m\u001b[0;34m,\u001b[0m \u001b[0;34m\"\\n\"\u001b[0m\u001b[0;34m)\u001b[0m\u001b[0;34m\u001b[0m\u001b[0;34m\u001b[0m\u001b[0m\n\u001b[1;32m      5\u001b[0m \u001b[0mprint\u001b[0m\u001b[0;34m(\u001b[0m\u001b[0mb\u001b[0m\u001b[0;34m,\u001b[0m \u001b[0;34m\"\\n\"\u001b[0m\u001b[0;34m)\u001b[0m\u001b[0;34m\u001b[0m\u001b[0;34m\u001b[0m\u001b[0m\n\u001b[0;32m----> 6\u001b[0;31m \u001b[0mprint\u001b[0m\u001b[0;34m(\u001b[0m\u001b[0ma\u001b[0m\u001b[0;34m+\u001b[0m\u001b[0mb\u001b[0m\u001b[0;34m,\u001b[0m \u001b[0;34m\"\\n\"\u001b[0m\u001b[0;34m)\u001b[0m\u001b[0;34m\u001b[0m\u001b[0;34m\u001b[0m\u001b[0m\n\u001b[0m",
            "\u001b[0;31mValueError\u001b[0m: operands could not be broadcast together with shapes (4,3) (3,4) "
          ]
        }
      ]
    },
    {
      "cell_type": "code",
      "source": [
        "a = np.arange(16).reshape(4, 4)\n",
        "b = np.arange(4).reshape(2, 2)\n",
        "\n",
        "print(a, \"\\n\")\n",
        "print(b, \"\\n\")\n",
        "print(a+b, \"\\n\")"
      ],
      "metadata": {
        "colab": {
          "base_uri": "https://localhost:8080/",
          "height": 315
        },
        "id": "L28ly35VGPXd",
        "outputId": "c171d61b-25ea-42d6-cff9-98688cb34324"
      },
      "execution_count": 169,
      "outputs": [
        {
          "output_type": "stream",
          "name": "stdout",
          "text": [
            "[[ 0  1  2  3]\n",
            " [ 4  5  6  7]\n",
            " [ 8  9 10 11]\n",
            " [12 13 14 15]] \n",
            "\n",
            "[[0 1]\n",
            " [2 3]] \n",
            "\n"
          ]
        },
        {
          "output_type": "error",
          "ename": "ValueError",
          "evalue": "operands could not be broadcast together with shapes (4,4) (2,2) ",
          "traceback": [
            "\u001b[0;31m---------------------------------------------------------------------------\u001b[0m",
            "\u001b[0;31mValueError\u001b[0m                                Traceback (most recent call last)",
            "\u001b[0;32m/tmp/ipython-input-169-2611928268.py\u001b[0m in \u001b[0;36m<cell line: 0>\u001b[0;34m()\u001b[0m\n\u001b[1;32m      4\u001b[0m \u001b[0mprint\u001b[0m\u001b[0;34m(\u001b[0m\u001b[0ma\u001b[0m\u001b[0;34m,\u001b[0m \u001b[0;34m\"\\n\"\u001b[0m\u001b[0;34m)\u001b[0m\u001b[0;34m\u001b[0m\u001b[0;34m\u001b[0m\u001b[0m\n\u001b[1;32m      5\u001b[0m \u001b[0mprint\u001b[0m\u001b[0;34m(\u001b[0m\u001b[0mb\u001b[0m\u001b[0;34m,\u001b[0m \u001b[0;34m\"\\n\"\u001b[0m\u001b[0;34m)\u001b[0m\u001b[0;34m\u001b[0m\u001b[0;34m\u001b[0m\u001b[0m\n\u001b[0;32m----> 6\u001b[0;31m \u001b[0mprint\u001b[0m\u001b[0;34m(\u001b[0m\u001b[0ma\u001b[0m\u001b[0;34m+\u001b[0m\u001b[0mb\u001b[0m\u001b[0;34m,\u001b[0m \u001b[0;34m\"\\n\"\u001b[0m\u001b[0;34m)\u001b[0m\u001b[0;34m\u001b[0m\u001b[0;34m\u001b[0m\u001b[0m\n\u001b[0m",
            "\u001b[0;31mValueError\u001b[0m: operands could not be broadcast together with shapes (4,4) (2,2) "
          ]
        }
      ]
    },
    {
      "cell_type": "markdown",
      "source": [
        "## ii. Mathematical Functions\n",
        "\n",
        "\n"
      ],
      "metadata": {
        "id": "UhvmAdTgHfAS"
      }
    },
    {
      "cell_type": "markdown",
      "source": [
        "#### A. Builtin Mathematical Functions\n"
      ],
      "metadata": {
        "id": "2VGIe9bgIapW"
      }
    },
    {
      "cell_type": "code",
      "source": [
        "x = np.arange(5)"
      ],
      "metadata": {
        "id": "znMRSrvOGe3k"
      },
      "execution_count": 170,
      "outputs": []
    },
    {
      "cell_type": "markdown",
      "source": [
        "1. sum"
      ],
      "metadata": {
        "id": "JqzY2EnZOQvM"
      }
    },
    {
      "cell_type": "code",
      "source": [
        "np.sum(x)"
      ],
      "metadata": {
        "colab": {
          "base_uri": "https://localhost:8080/"
        },
        "id": "vXIVEVQ1H2HI",
        "outputId": "28d25eb9-5230-4d6e-a8ec-baea87fba579"
      },
      "execution_count": 171,
      "outputs": [
        {
          "output_type": "execute_result",
          "data": {
            "text/plain": [
              "np.int64(10)"
            ]
          },
          "metadata": {},
          "execution_count": 171
        }
      ]
    },
    {
      "cell_type": "markdown",
      "source": [
        "2. cumsum"
      ],
      "metadata": {
        "id": "213HXOcrOSXr"
      }
    },
    {
      "cell_type": "code",
      "source": [
        "np.cumsum(x)"
      ],
      "metadata": {
        "colab": {
          "base_uri": "https://localhost:8080/"
        },
        "id": "FRFx7z53H8Ed",
        "outputId": "c2170a64-cd12-4d42-c4a0-6eaa7a83ab89"
      },
      "execution_count": 172,
      "outputs": [
        {
          "output_type": "execute_result",
          "data": {
            "text/plain": [
              "array([ 0,  1,  3,  6, 10])"
            ]
          },
          "metadata": {},
          "execution_count": 172
        }
      ]
    },
    {
      "cell_type": "markdown",
      "source": [
        "3. sin"
      ],
      "metadata": {
        "id": "nJ270N20OT8n"
      }
    },
    {
      "cell_type": "code",
      "source": [
        "np.sin(x)"
      ],
      "metadata": {
        "colab": {
          "base_uri": "https://localhost:8080/"
        },
        "id": "h_HeZ0o_H-wM",
        "outputId": "056cf0e4-8a5d-44a3-9b46-0aea547f932c"
      },
      "execution_count": 173,
      "outputs": [
        {
          "output_type": "execute_result",
          "data": {
            "text/plain": [
              "array([ 0.        ,  0.84147098,  0.90929743,  0.14112001, -0.7568025 ])"
            ]
          },
          "metadata": {},
          "execution_count": 173
        }
      ]
    },
    {
      "cell_type": "markdown",
      "source": [
        "#### B. Custom Mathematical Functions"
      ],
      "metadata": {
        "id": "54YryaW0Ik0R"
      }
    },
    {
      "cell_type": "markdown",
      "source": [
        "1. Sigmoid Function"
      ],
      "metadata": {
        "id": "Fgqgeh3hIIyC"
      }
    },
    {
      "cell_type": "markdown",
      "source": [
        "![image.png](data:image/png;base64,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)"
      ],
      "metadata": {
        "id": "vC8QEMEKJajU"
      }
    },
    {
      "cell_type": "code",
      "source": [
        "def sigmoid(x):\n",
        "  return 1/(1+np.exp(-x))"
      ],
      "metadata": {
        "id": "W9fSKgJGIBEU"
      },
      "execution_count": 174,
      "outputs": []
    },
    {
      "cell_type": "code",
      "source": [
        "x = np.arange(30)\n",
        "\n",
        "print(x, \"\\n\")\n",
        "print(sigmoid(x))"
      ],
      "metadata": {
        "colab": {
          "base_uri": "https://localhost:8080/"
        },
        "id": "whaQGLe1JBGJ",
        "outputId": "d5b54412-01da-44ac-cdd3-f2c4a2a0b76d"
      },
      "execution_count": 175,
      "outputs": [
        {
          "output_type": "stream",
          "name": "stdout",
          "text": [
            "[ 0  1  2  3  4  5  6  7  8  9 10 11 12 13 14 15 16 17 18 19 20 21 22 23\n",
            " 24 25 26 27 28 29] \n",
            "\n",
            "[0.5        0.73105858 0.88079708 0.95257413 0.98201379 0.99330715\n",
            " 0.99752738 0.99908895 0.99966465 0.99987661 0.9999546  0.9999833\n",
            " 0.99999386 0.99999774 0.99999917 0.99999969 0.99999989 0.99999996\n",
            " 0.99999998 0.99999999 1.         1.         1.         1.\n",
            " 1.         1.         1.         1.         1.         1.        ]\n"
          ]
        }
      ]
    },
    {
      "cell_type": "markdown",
      "source": [
        "2. Mean Square Error\n",
        "\n",
        "![image.png](data:image/png;base64,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)"
      ],
      "metadata": {
        "id": "vAzO3GRSJcQu"
      }
    },
    {
      "cell_type": "code",
      "source": [
        "def mse(y, y_hat):\n",
        "  return np.mean(y-y_hat)**2"
      ],
      "metadata": {
        "id": "MpvCvS8QJ_mf"
      },
      "execution_count": 176,
      "outputs": []
    },
    {
      "cell_type": "code",
      "source": [
        "y = np.random.random(10)*100\n",
        "y_hat = np.random.random(10)*100\n",
        "\n",
        "print(y, \"\\n\")\n",
        "print(y_hat, \"\\n\")\n",
        "print(\"MSE: \", mse(y, y_hat))"
      ],
      "metadata": {
        "colab": {
          "base_uri": "https://localhost:8080/"
        },
        "id": "sk4AGWGKJEf2",
        "outputId": "53493584-b81d-4bc1-ff39-7c7c3fac2e4d"
      },
      "execution_count": 177,
      "outputs": [
        {
          "output_type": "stream",
          "name": "stdout",
          "text": [
            "[94.61181369 52.91014643 24.56726257 86.15422386 96.04996494 83.19649637\n",
            " 27.08616559 86.01364908 60.33219553 62.28824496] \n",
            "\n",
            "[78.87610381 45.57494939 28.13491463 54.44934362 50.69177743 93.42456603\n",
            " 75.20553913  6.74558078 96.01496564 30.35772369] \n",
            "\n",
            "MSE:  129.3558173095077\n"
          ]
        }
      ]
    },
    {
      "cell_type": "markdown",
      "source": [
        "3. Categorical Cross Entropy\n",
        "\n",
        "![image.png](data:image/png;base64,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)"
      ],
      "metadata": {
        "id": "N7C-s0ncMHm8"
      }
    },
    {
      "cell_type": "code",
      "source": [
        "def cce(y, p):\n",
        "  EPS = 1e-15\n",
        "  p = np.clip(p, EPS, 1-EPS)\n",
        "\n",
        "  return -np.sum(y * np.log(p))"
      ],
      "metadata": {
        "id": "ECK2dM0ZKzTv"
      },
      "execution_count": 178,
      "outputs": []
    },
    {
      "cell_type": "code",
      "source": [
        "y = np.random.random(10)\n",
        "p = np.random.random(10)\n",
        "\n",
        "print(y, \"\\n\")\n",
        "print(p, \"\\n\")\n",
        "print(\"CCE: \", mse(y, p))"
      ],
      "metadata": {
        "colab": {
          "base_uri": "https://localhost:8080/"
        },
        "id": "Nsfk9zdgLaqx",
        "outputId": "fc3e15e0-cc91-4208-d287-ad4430c44225"
      },
      "execution_count": 179,
      "outputs": [
        {
          "output_type": "stream",
          "name": "stdout",
          "text": [
            "[0.34954995 0.29953568 0.70744504 0.82393728 0.18422873 0.06336815\n",
            " 0.51717577 0.6034341  0.28839036 0.52160147] \n",
            "\n",
            "[0.44099197 0.06956446 0.60616998 0.97238544 0.80857647 0.65639276\n",
            " 0.98291014 0.87251085 0.27905909 0.47021525] \n",
            "\n",
            "CCE:  0.032403956119136205\n"
          ]
        }
      ]
    },
    {
      "cell_type": "markdown",
      "source": [
        "## iii. Missing Values ~ (imp)"
      ],
      "metadata": {
        "id": "wfKdsi_5MYqh"
      }
    },
    {
      "cell_type": "code",
      "source": [
        "a = np.array([1, 2, 3, np.nan, 5])\n",
        "\n",
        "a"
      ],
      "metadata": {
        "colab": {
          "base_uri": "https://localhost:8080/"
        },
        "id": "2H7TvdemLcRB",
        "outputId": "ff3e3f72-6ff9-4c53-e1ab-205e6bc7a2fd"
      },
      "execution_count": 180,
      "outputs": [
        {
          "output_type": "execute_result",
          "data": {
            "text/plain": [
              "array([ 1.,  2.,  3., nan,  5.])"
            ]
          },
          "metadata": {},
          "execution_count": 180
        }
      ]
    },
    {
      "cell_type": "code",
      "source": [
        "np.isnan(a)"
      ],
      "metadata": {
        "colab": {
          "base_uri": "https://localhost:8080/"
        },
        "id": "FVCFjDhEMxrh",
        "outputId": "d82832ca-2e79-4132-bd08-3e8eaa523703"
      },
      "execution_count": 181,
      "outputs": [
        {
          "output_type": "execute_result",
          "data": {
            "text/plain": [
              "array([False, False, False,  True, False])"
            ]
          },
          "metadata": {},
          "execution_count": 181
        }
      ]
    },
    {
      "cell_type": "code",
      "source": [
        "a[np.isnan(a)]"
      ],
      "metadata": {
        "colab": {
          "base_uri": "https://localhost:8080/"
        },
        "id": "drhdAclDNEtT",
        "outputId": "8f8d7c3d-5032-4806-aefb-739aa63feed7"
      },
      "execution_count": 182,
      "outputs": [
        {
          "output_type": "execute_result",
          "data": {
            "text/plain": [
              "array([nan])"
            ]
          },
          "metadata": {},
          "execution_count": 182
        }
      ]
    },
    {
      "cell_type": "code",
      "source": [
        "a[~np.isnan(a)]"
      ],
      "metadata": {
        "colab": {
          "base_uri": "https://localhost:8080/"
        },
        "id": "H05NFlGoNTb_",
        "outputId": "15157923-3889-4a4a-d82a-63869f410cc3"
      },
      "execution_count": 183,
      "outputs": [
        {
          "output_type": "execute_result",
          "data": {
            "text/plain": [
              "array([1., 2., 3., 5.])"
            ]
          },
          "metadata": {},
          "execution_count": 183
        }
      ]
    },
    {
      "cell_type": "markdown",
      "source": [
        "## iii. Numpy Utility Functions"
      ],
      "metadata": {
        "id": "L73j9Fm116XI"
      }
    },
    {
      "cell_type": "markdown",
      "source": [
        "#### 1. np.sort\n",
        "\n",
        "---\n",
        "\n",
        "\n",
        "**Return a sorted copy of an array.**  [Documentation](https://numpy.org/doc/stable/reference/generated/numpy.sort.html)\n",
        "\n",
        "\n",
        "\n",
        "\n",
        "```\n",
        "numpy.sort(arr, axis=1, kind=None, order=None, *, stable=None)\n",
        "```\n",
        "\n",
        "<br>\n",
        "**Features**\n",
        "\n",
        "- **Ascending Order**: Default behavior of `np.sort()`, reverse = True doesn't exist.\n",
        "- **Descending Order**: Use slicing like `np.sort(arr)[::-1]` to reverse the sorted result.\n",
        "\n",
        "- When used on multi-dimensional arrays, it sorts along a specified axis. `By default, it sorts along the last axis (axis=-1)`, which means it sorts each row independently in a 2D array.  write detail\n",
        "\n",
        "\n",
        "```\n",
        "np.sort(arr, axis=0)  # Sort by column\n",
        "np.sort(arr, axis=1)  # Sort by row\n",
        "```\n",
        "\n",
        "<br>"
      ],
      "metadata": {
        "id": "ylcYtJls3KP1"
      }
    },
    {
      "cell_type": "code",
      "source": [
        "a = np.random.randint(1, 100, 15)\n",
        "a"
      ],
      "metadata": {
        "id": "oCU8BbsTNWVH",
        "colab": {
          "base_uri": "https://localhost:8080/"
        },
        "outputId": "7f451413-522b-40cf-cb34-1fa5f04cdd55"
      },
      "execution_count": 184,
      "outputs": [
        {
          "output_type": "execute_result",
          "data": {
            "text/plain": [
              "array([33, 53, 18, 68, 23, 45, 11, 92, 75, 12, 54, 44, 76, 92, 80])"
            ]
          },
          "metadata": {},
          "execution_count": 184
        }
      ]
    },
    {
      "cell_type": "code",
      "source": [
        "np.sort(a, kind='mergesort')"
      ],
      "metadata": {
        "colab": {
          "base_uri": "https://localhost:8080/"
        },
        "id": "g9rfrnJ12P1r",
        "outputId": "6073fa6f-3510-4c52-fdbb-731c881bdef9"
      },
      "execution_count": 185,
      "outputs": [
        {
          "output_type": "execute_result",
          "data": {
            "text/plain": [
              "array([11, 12, 18, 23, 33, 44, 45, 53, 54, 68, 75, 76, 80, 92, 92])"
            ]
          },
          "metadata": {},
          "execution_count": 185
        }
      ]
    },
    {
      "cell_type": "code",
      "source": [
        "np.sort(a, kind='mergesort')[::-1] #reverse = True doesn't exist, so use slicing"
      ],
      "metadata": {
        "colab": {
          "base_uri": "https://localhost:8080/"
        },
        "id": "q_qPVwa53B8c",
        "outputId": "9aa6e7e8-2352-4a7e-c82e-e28f0b149e85"
      },
      "execution_count": 186,
      "outputs": [
        {
          "output_type": "execute_result",
          "data": {
            "text/plain": [
              "array([92, 92, 80, 76, 75, 68, 54, 53, 45, 44, 33, 23, 18, 12, 11])"
            ]
          },
          "metadata": {},
          "execution_count": 186
        }
      ]
    },
    {
      "cell_type": "markdown",
      "source": [
        "2D Array"
      ],
      "metadata": {
        "id": "WK3FHql2RcvE"
      }
    },
    {
      "cell_type": "code",
      "source": [
        "b = np.random.randint(1, 100, 24).reshape(6, 4)\n",
        "b"
      ],
      "metadata": {
        "colab": {
          "base_uri": "https://localhost:8080/"
        },
        "id": "IvHLilmK2TfF",
        "outputId": "2506d561-e791-4874-f2cf-bbe36054adbc"
      },
      "execution_count": 187,
      "outputs": [
        {
          "output_type": "execute_result",
          "data": {
            "text/plain": [
              "array([[37, 42, 22, 74],\n",
              "       [15, 39, 57, 21],\n",
              "       [70, 66, 86, 67],\n",
              "       [19, 68, 29, 49],\n",
              "       [86, 72, 25, 44],\n",
              "       [29, 71,  1, 77]])"
            ]
          },
          "metadata": {},
          "execution_count": 187
        }
      ]
    },
    {
      "cell_type": "code",
      "source": [
        "np.sort(b, axis=0) #### sort by coloumn, like it will take a col and sort it. then second, sort it and so on."
      ],
      "metadata": {
        "colab": {
          "base_uri": "https://localhost:8080/"
        },
        "id": "GfAWMqAR2j0f",
        "outputId": "991618f2-deab-4db8-de66-396218e22f49"
      },
      "execution_count": 188,
      "outputs": [
        {
          "output_type": "execute_result",
          "data": {
            "text/plain": [
              "array([[15, 39,  1, 21],\n",
              "       [19, 42, 22, 44],\n",
              "       [29, 66, 25, 49],\n",
              "       [37, 68, 29, 67],\n",
              "       [70, 71, 57, 74],\n",
              "       [86, 72, 86, 77]])"
            ]
          },
          "metadata": {},
          "execution_count": 188
        }
      ]
    },
    {
      "cell_type": "code",
      "source": [
        "np.sort(b, axis=1) ### sorted by row, like it will take a row and sort it. then second row, sort it and so on."
      ],
      "metadata": {
        "colab": {
          "base_uri": "https://localhost:8080/"
        },
        "id": "qqjOG6-b2nXW",
        "outputId": "9b6ab487-517d-40a6-d628-8f3541ae46f8"
      },
      "execution_count": 189,
      "outputs": [
        {
          "output_type": "execute_result",
          "data": {
            "text/plain": [
              "array([[22, 37, 42, 74],\n",
              "       [15, 21, 39, 57],\n",
              "       [66, 67, 70, 86],\n",
              "       [19, 29, 49, 68],\n",
              "       [25, 44, 72, 86],\n",
              "       [ 1, 29, 71, 77]])"
            ]
          },
          "metadata": {},
          "execution_count": 189
        }
      ]
    },
    {
      "cell_type": "markdown",
      "source": [
        "#### 2. np.append\n",
        "\n",
        "---\n",
        "\n",
        "<br>\n",
        "\n",
        "**Append values to the end of an array**  [Documentation](https://numpy.org/doc/stable/reference/generated/numpy.append.html)\n",
        "\n",
        "```\n",
        "numpy.append(arr, values, axis=None)\n",
        "\n",
        "```\n",
        "\n",
        "**Note 1:** These `values` are appended to a copy of `arr`. It must be of the correct shape (the same shape as arr, excluding axis)\n",
        "\n",
        "**Note 2:**   `np.append()` is inefficient in loops due to repeated array copying.  \n",
        "\n",
        "**Note 3:** If `axis` is not given, both arr and values are flattened before use.\n",
        "\n",
        "**Note 4:**\n",
        "- `axis=0` appends rows (vertical concatenation).\n",
        "- `axis=1`*italicised text* appends columns (horizontal concatenation).\n",
        "\n",
        "\n",
        "<br>"
      ],
      "metadata": {
        "id": "NJ1AX46N3QXi"
      }
    },
    {
      "cell_type": "code",
      "source": [
        "a"
      ],
      "metadata": {
        "colab": {
          "base_uri": "https://localhost:8080/"
        },
        "id": "VPsKMv4r2zsT",
        "outputId": "bab57792-0b78-4bb6-e653-6b3375e76230"
      },
      "execution_count": 190,
      "outputs": [
        {
          "output_type": "execute_result",
          "data": {
            "text/plain": [
              "array([33, 53, 18, 68, 23, 45, 11, 92, 75, 12, 54, 44, 76, 92, 80])"
            ]
          },
          "metadata": {},
          "execution_count": 190
        }
      ]
    },
    {
      "cell_type": "code",
      "source": [
        "np.append(a, 200)"
      ],
      "metadata": {
        "colab": {
          "base_uri": "https://localhost:8080/"
        },
        "id": "nbO7_goi3VmS",
        "outputId": "cd9e538c-13c9-4fee-9e06-b893d2147108"
      },
      "execution_count": 191,
      "outputs": [
        {
          "output_type": "execute_result",
          "data": {
            "text/plain": [
              "array([ 33,  53,  18,  68,  23,  45,  11,  92,  75,  12,  54,  44,  76,\n",
              "        92,  80, 200])"
            ]
          },
          "metadata": {},
          "execution_count": 191
        }
      ]
    },
    {
      "cell_type": "code",
      "source": [
        "# Note3\n",
        "arr1 = np.array([1, 2, 3])\n",
        "arr2 = np.array([[4, 5, 6], [7, 8, 9]])\n",
        "\n",
        "arr3 = np.append(arr1, arr2)\n",
        "\n",
        "print(arr1, \"\\n\")\n",
        "print(arr2, \"\\n\")\n",
        "print(arr3, \"\\n\") # since no axis is given, both arr1 and arr2 are flattened before append"
      ],
      "metadata": {
        "colab": {
          "base_uri": "https://localhost:8080/"
        },
        "id": "aOWtvSF1VhrB",
        "outputId": "5483db66-623a-4f07-8b44-374b6981de82"
      },
      "execution_count": 192,
      "outputs": [
        {
          "output_type": "stream",
          "name": "stdout",
          "text": [
            "[1 2 3] \n",
            "\n",
            "[[4 5 6]\n",
            " [7 8 9]] \n",
            "\n",
            "[1 2 3 4 5 6 7 8 9] \n",
            "\n"
          ]
        }
      ]
    },
    {
      "cell_type": "code",
      "source": [
        "# arr3 = np.append(np.expand_dims(arr1, axis=0), arr2, axis = 0) #m1\n",
        "arr3 = np.append(arr1.reshape(1, -1), arr2, axis = 0) #m2\n",
        "\n",
        "\n",
        "print(arr1, \"\\n\")\n",
        "print(arr2, \"\\n\")\n",
        "print(arr3, \"\\n\") # since no axis is given, both arr1 and arr2 are flattened before append"
      ],
      "metadata": {
        "colab": {
          "base_uri": "https://localhost:8080/"
        },
        "id": "6UniWIv0Wm8l",
        "outputId": "8eb2017c-4f56-4edf-bdd9-097fe69b3af7"
      },
      "execution_count": 193,
      "outputs": [
        {
          "output_type": "stream",
          "name": "stdout",
          "text": [
            "[1 2 3] \n",
            "\n",
            "[[4 5 6]\n",
            " [7 8 9]] \n",
            "\n",
            "[[1 2 3]\n",
            " [4 5 6]\n",
            " [7 8 9]] \n",
            "\n"
          ]
        }
      ]
    },
    {
      "cell_type": "markdown",
      "source": [
        "2D"
      ],
      "metadata": {
        "id": "PJnviRvDYHnK"
      }
    },
    {
      "cell_type": "code",
      "source": [
        "b"
      ],
      "metadata": {
        "colab": {
          "base_uri": "https://localhost:8080/"
        },
        "id": "hngRddxy3Xmy",
        "outputId": "e3671c5e-500c-47b6-82c6-7f6b28fe4e5b"
      },
      "execution_count": 194,
      "outputs": [
        {
          "output_type": "execute_result",
          "data": {
            "text/plain": [
              "array([[37, 42, 22, 74],\n",
              "       [15, 39, 57, 21],\n",
              "       [70, 66, 86, 67],\n",
              "       [19, 68, 29, 49],\n",
              "       [86, 72, 25, 44],\n",
              "       [29, 71,  1, 77]])"
            ]
          },
          "metadata": {},
          "execution_count": 194
        }
      ]
    },
    {
      "cell_type": "code",
      "source": [
        "b.shape"
      ],
      "metadata": {
        "colab": {
          "base_uri": "https://localhost:8080/"
        },
        "id": "Ca1asScLYT8-",
        "outputId": "35be2f9b-eba0-4968-ad94-01c58bd60bd5"
      },
      "execution_count": 195,
      "outputs": [
        {
          "output_type": "execute_result",
          "data": {
            "text/plain": [
              "(6, 4)"
            ]
          },
          "metadata": {},
          "execution_count": 195
        }
      ]
    },
    {
      "cell_type": "code",
      "source": [
        "np.append(b, np.ones(6).reshape(6,1), axis = 1) # practice this more"
      ],
      "metadata": {
        "colab": {
          "base_uri": "https://localhost:8080/"
        },
        "id": "GCYRALG83Y9n",
        "outputId": "a3a1b16e-53d7-4fb8-938a-bf86a42e3bd3"
      },
      "execution_count": 196,
      "outputs": [
        {
          "output_type": "execute_result",
          "data": {
            "text/plain": [
              "array([[37., 42., 22., 74.,  1.],\n",
              "       [15., 39., 57., 21.,  1.],\n",
              "       [70., 66., 86., 67.,  1.],\n",
              "       [19., 68., 29., 49.,  1.],\n",
              "       [86., 72., 25., 44.,  1.],\n",
              "       [29., 71.,  1., 77.,  1.]])"
            ]
          },
          "metadata": {},
          "execution_count": 196
        }
      ]
    },
    {
      "cell_type": "markdown",
      "source": [
        "#### 3. np.concatenate\n",
        "<br>\n",
        "\n",
        "Join a sequence of arrays along an existing axis. [Documentation](https://numpy.org/devdocs/reference/generated/numpy.concatenate.html)\n",
        "\n",
        "\n",
        "```\n",
        "np.concatenate((a1, a2, ...), axis=0, out=None, dtype=None, casting=\"same_kind\")\n",
        "```\n",
        "\n",
        "- The arrays must have the same shape, except in the dimension corresponding to axis.\n",
        "- If axis is `None`, arrays are flattened before use. `Default is 0`\n"
      ],
      "metadata": {
        "id": "euQ1cUso4MUB"
      }
    },
    {
      "cell_type": "code",
      "source": [
        "c = np.arange(6).reshape(2,3)\n",
        "d = np.arange(6, 12).reshape(2,3)\n",
        "\n",
        "print(c, \"\\n\")\n",
        "print(d, \"\\n\")"
      ],
      "metadata": {
        "colab": {
          "base_uri": "https://localhost:8080/"
        },
        "id": "1FMTDjbw3qwr",
        "outputId": "c9758102-8db4-4b97-aaa3-d015345f83b9"
      },
      "execution_count": 197,
      "outputs": [
        {
          "output_type": "stream",
          "name": "stdout",
          "text": [
            "[[0 1 2]\n",
            " [3 4 5]] \n",
            "\n",
            "[[ 6  7  8]\n",
            " [ 9 10 11]] \n",
            "\n"
          ]
        }
      ]
    },
    {
      "cell_type": "code",
      "source": [
        "np.concatenate((c,d), axis=0)"
      ],
      "metadata": {
        "colab": {
          "base_uri": "https://localhost:8080/"
        },
        "id": "1W9ZYdXf4YQ6",
        "outputId": "c88fe626-7447-4b64-8061-3ab00db0b910"
      },
      "execution_count": 198,
      "outputs": [
        {
          "output_type": "execute_result",
          "data": {
            "text/plain": [
              "array([[ 0,  1,  2],\n",
              "       [ 3,  4,  5],\n",
              "       [ 6,  7,  8],\n",
              "       [ 9, 10, 11]])"
            ]
          },
          "metadata": {},
          "execution_count": 198
        }
      ]
    },
    {
      "cell_type": "code",
      "source": [
        "np.concatenate((c,d), axis=1)"
      ],
      "metadata": {
        "colab": {
          "base_uri": "https://localhost:8080/"
        },
        "id": "quwA-OQv4ijX",
        "outputId": "e023261d-69f8-4ead-f279-f625f62be5b2"
      },
      "execution_count": 199,
      "outputs": [
        {
          "output_type": "execute_result",
          "data": {
            "text/plain": [
              "array([[ 0,  1,  2,  6,  7,  8],\n",
              "       [ 3,  4,  5,  9, 10, 11]])"
            ]
          },
          "metadata": {},
          "execution_count": 199
        }
      ]
    },
    {
      "cell_type": "code",
      "source": [
        "np.concatenate((c,d), axis=None)"
      ],
      "metadata": {
        "colab": {
          "base_uri": "https://localhost:8080/"
        },
        "id": "9NR-7RMlaKM1",
        "outputId": "ac2c8cd5-7a6f-497a-a4e0-416678013e98"
      },
      "execution_count": 200,
      "outputs": [
        {
          "output_type": "execute_result",
          "data": {
            "text/plain": [
              "array([ 0,  1,  2,  3,  4,  5,  6,  7,  8,  9, 10, 11])"
            ]
          },
          "metadata": {},
          "execution_count": 200
        }
      ]
    },
    {
      "cell_type": "markdown",
      "source": [
        "#### 4. np.unique\n",
        "\n",
        "<br>\n",
        "\n",
        "Find the unique elements of an array.\n",
        "[Documentation](https://numpy.org/doc/stable/reference/generated/numpy.unique.html)\n",
        "```\n",
        "numpy.unique(ar, return_index=False, return_inverse=False, return_counts=False, axis=None, *, equal_nan=True, sorted=True)\n",
        "```\n",
        "\n",
        "\n",
        "- Returns the sorted unique elements of an array\n",
        "-  If `axis=None`, ar will be flattened\n",
        "\n",
        "<br>"
      ],
      "metadata": {
        "id": "1STOE8MO5R8W"
      }
    },
    {
      "cell_type": "code",
      "source": [
        "e = np.array([1, 2, 2, 2, np.nan, 3, 3, np.nan, 4, 5, 5, 5])\n",
        "e"
      ],
      "metadata": {
        "colab": {
          "base_uri": "https://localhost:8080/"
        },
        "id": "HJTW7y6d4lgL",
        "outputId": "11cbfe8e-2425-44f8-dae1-877360c9042b"
      },
      "execution_count": 201,
      "outputs": [
        {
          "output_type": "execute_result",
          "data": {
            "text/plain": [
              "array([ 1.,  2.,  2.,  2., nan,  3.,  3., nan,  4.,  5.,  5.,  5.])"
            ]
          },
          "metadata": {},
          "execution_count": 201
        }
      ]
    },
    {
      "cell_type": "code",
      "source": [
        "np.unique(e)"
      ],
      "metadata": {
        "colab": {
          "base_uri": "https://localhost:8080/"
        },
        "id": "MXlI_vB1aeTP",
        "outputId": "0067937e-e6b5-43d5-ddfe-6aec61dd9735"
      },
      "execution_count": 202,
      "outputs": [
        {
          "output_type": "execute_result",
          "data": {
            "text/plain": [
              "array([ 1.,  2.,  3.,  4.,  5., nan])"
            ]
          },
          "metadata": {},
          "execution_count": 202
        }
      ]
    },
    {
      "cell_type": "code",
      "source": [
        "np.unique(e, return_index = True, return_counts=True, equal_nan=False)"
      ],
      "metadata": {
        "colab": {
          "base_uri": "https://localhost:8080/"
        },
        "id": "RX8da5FM5ciM",
        "outputId": "50f9edf5-ab44-46c9-b80f-b285dbdc392d"
      },
      "execution_count": 203,
      "outputs": [
        {
          "output_type": "execute_result",
          "data": {
            "text/plain": [
              "(array([ 1.,  2.,  3.,  4.,  5., nan, nan]),\n",
              " array([0, 1, 5, 8, 9, 4, 7]),\n",
              " array([1, 3, 2, 1, 3, 1, 1]))"
            ]
          },
          "metadata": {},
          "execution_count": 203
        }
      ]
    },
    {
      "cell_type": "code",
      "source": [
        "np.unique(e).size"
      ],
      "metadata": {
        "colab": {
          "base_uri": "https://localhost:8080/"
        },
        "id": "onG28Kzk5iDb",
        "outputId": "ad0427a2-8a37-47d5-adb3-0c320219e63d"
      },
      "execution_count": 204,
      "outputs": [
        {
          "output_type": "execute_result",
          "data": {
            "text/plain": [
              "6"
            ]
          },
          "metadata": {},
          "execution_count": 204
        }
      ]
    },
    {
      "cell_type": "markdown",
      "source": [
        "#### 5. np.expand_dims\n",
        "\n",
        "<br>\n",
        "\n",
        "- `expand_dims` adds an extra layer to the array, like turning a 1D list into a 2D list with one row or one column, depending on the axis. [Documentation](https://numpy.org/doc/stable/reference/generated/numpy.expand_dims.html)\n",
        "-  it expands the shape of an array by inserting a new axis at the specified position. This is often used to prepare arrays for broadcasting or to match expected input shapes (e.g., for neural networks or image processing).\n",
        "\n",
        "```\n",
        "numpy.expand_dims(a, axis)\n",
        "```\n",
        "\n",
        "<br>"
      ],
      "metadata": {
        "id": "3QTyvaTG5su-"
      }
    },
    {
      "cell_type": "code",
      "source": [
        "print(\"Original Shape: \", a.shape, \"\\n\")\n",
        "\n",
        "a"
      ],
      "metadata": {
        "colab": {
          "base_uri": "https://localhost:8080/"
        },
        "id": "9zDSsOl-5kkw",
        "outputId": "b0a8f51a-1c75-44aa-929f-0d2fc27bc476"
      },
      "execution_count": 205,
      "outputs": [
        {
          "output_type": "stream",
          "name": "stdout",
          "text": [
            "Original Shape:  (15,) \n",
            "\n"
          ]
        },
        {
          "output_type": "execute_result",
          "data": {
            "text/plain": [
              "array([33, 53, 18, 68, 23, 45, 11, 92, 75, 12, 54, 44, 76, 92, 80])"
            ]
          },
          "metadata": {},
          "execution_count": 205
        }
      ]
    },
    {
      "cell_type": "code",
      "source": [
        "print(\"Shape: \", np.expand_dims(a, axis=0).shape, \"\\n\")\n",
        "\n",
        "np.expand_dims(a, axis=0) #adds dimension to head"
      ],
      "metadata": {
        "colab": {
          "base_uri": "https://localhost:8080/"
        },
        "id": "Ksxd0YIz6ZgX",
        "outputId": "6c262417-5615-4e38-f395-259e09b432e9"
      },
      "execution_count": 206,
      "outputs": [
        {
          "output_type": "stream",
          "name": "stdout",
          "text": [
            "Shape:  (1, 15) \n",
            "\n"
          ]
        },
        {
          "output_type": "execute_result",
          "data": {
            "text/plain": [
              "array([[33, 53, 18, 68, 23, 45, 11, 92, 75, 12, 54, 44, 76, 92, 80]])"
            ]
          },
          "metadata": {},
          "execution_count": 206
        }
      ]
    },
    {
      "cell_type": "code",
      "source": [
        "print(\"Shape: \", np.expand_dims(a, axis=1).shape, \"\\n\")\n",
        "\n",
        "np.expand_dims(a, axis=1) #add dim to tail"
      ],
      "metadata": {
        "colab": {
          "base_uri": "https://localhost:8080/"
        },
        "id": "U4flGYdq6gFQ",
        "outputId": "67464e04-ce28-4ff5-b61f-c8e08017572e"
      },
      "execution_count": 207,
      "outputs": [
        {
          "output_type": "stream",
          "name": "stdout",
          "text": [
            "Shape:  (15, 1) \n",
            "\n"
          ]
        },
        {
          "output_type": "execute_result",
          "data": {
            "text/plain": [
              "array([[33],\n",
              "       [53],\n",
              "       [18],\n",
              "       [68],\n",
              "       [23],\n",
              "       [45],\n",
              "       [11],\n",
              "       [92],\n",
              "       [75],\n",
              "       [12],\n",
              "       [54],\n",
              "       [44],\n",
              "       [76],\n",
              "       [92],\n",
              "       [80]])"
            ]
          },
          "metadata": {},
          "execution_count": 207
        }
      ]
    },
    {
      "cell_type": "markdown",
      "source": [
        "2D"
      ],
      "metadata": {
        "id": "WuDTXF9AdCik"
      }
    },
    {
      "cell_type": "code",
      "source": [
        "b"
      ],
      "metadata": {
        "colab": {
          "base_uri": "https://localhost:8080/"
        },
        "id": "OxyhxdY-dD8z",
        "outputId": "35e6374f-8981-4069-aa37-79d07ace8182"
      },
      "execution_count": 208,
      "outputs": [
        {
          "output_type": "execute_result",
          "data": {
            "text/plain": [
              "array([[37, 42, 22, 74],\n",
              "       [15, 39, 57, 21],\n",
              "       [70, 66, 86, 67],\n",
              "       [19, 68, 29, 49],\n",
              "       [86, 72, 25, 44],\n",
              "       [29, 71,  1, 77]])"
            ]
          },
          "metadata": {},
          "execution_count": 208
        }
      ]
    },
    {
      "cell_type": "code",
      "source": [
        "np.expand_dims(b, axis=0)"
      ],
      "metadata": {
        "colab": {
          "base_uri": "https://localhost:8080/"
        },
        "id": "RDfVCYDwdE7H",
        "outputId": "eecc2674-7bc5-4d2d-d176-5659daf1e192"
      },
      "execution_count": 209,
      "outputs": [
        {
          "output_type": "execute_result",
          "data": {
            "text/plain": [
              "array([[[37, 42, 22, 74],\n",
              "        [15, 39, 57, 21],\n",
              "        [70, 66, 86, 67],\n",
              "        [19, 68, 29, 49],\n",
              "        [86, 72, 25, 44],\n",
              "        [29, 71,  1, 77]]])"
            ]
          },
          "metadata": {},
          "execution_count": 209
        }
      ]
    },
    {
      "cell_type": "code",
      "source": [
        "np.expand_dims(b, axis=1)"
      ],
      "metadata": {
        "colab": {
          "base_uri": "https://localhost:8080/"
        },
        "id": "1JegufAYdJVW",
        "outputId": "7105b884-d5e4-420d-f0b5-44a273ccbae7"
      },
      "execution_count": 210,
      "outputs": [
        {
          "output_type": "execute_result",
          "data": {
            "text/plain": [
              "array([[[37, 42, 22, 74]],\n",
              "\n",
              "       [[15, 39, 57, 21]],\n",
              "\n",
              "       [[70, 66, 86, 67]],\n",
              "\n",
              "       [[19, 68, 29, 49]],\n",
              "\n",
              "       [[86, 72, 25, 44]],\n",
              "\n",
              "       [[29, 71,  1, 77]]])"
            ]
          },
          "metadata": {},
          "execution_count": 210
        }
      ]
    },
    {
      "cell_type": "code",
      "source": [
        "np.expand_dims(b, axis=2)"
      ],
      "metadata": {
        "colab": {
          "base_uri": "https://localhost:8080/"
        },
        "id": "oX4BUFQydQZT",
        "outputId": "0d9a887a-dcd4-435d-aac2-a6cce0af22b6"
      },
      "execution_count": 211,
      "outputs": [
        {
          "output_type": "execute_result",
          "data": {
            "text/plain": [
              "array([[[37],\n",
              "        [42],\n",
              "        [22],\n",
              "        [74]],\n",
              "\n",
              "       [[15],\n",
              "        [39],\n",
              "        [57],\n",
              "        [21]],\n",
              "\n",
              "       [[70],\n",
              "        [66],\n",
              "        [86],\n",
              "        [67]],\n",
              "\n",
              "       [[19],\n",
              "        [68],\n",
              "        [29],\n",
              "        [49]],\n",
              "\n",
              "       [[86],\n",
              "        [72],\n",
              "        [25],\n",
              "        [44]],\n",
              "\n",
              "       [[29],\n",
              "        [71],\n",
              "        [ 1],\n",
              "        [77]]])"
            ]
          },
          "metadata": {},
          "execution_count": 211
        }
      ]
    },
    {
      "cell_type": "markdown",
      "source": [
        "#### 6. np.where\n",
        "\n",
        "<br>\n",
        "\n",
        "Return the index or element of pf array depending on condition. [Documentation](https://numpy.org/doc/stable/reference/generated/numpy.where.html)\n",
        "\n",
        "```\n",
        "numpy.where(condition, [x, y, ]/)\n",
        "```\n",
        "\n",
        "It returns elements chosen from two arrays `(x and y)` based on a condition array. If the condition is True at a given index, the element from x at that index is returned; otherwise, the element from y is returned.\n",
        "\n",
        "<br>\n",
        "Behavior:\n",
        "\n",
        "---\n",
        "- **With one argument (condition):** Returns the indices where the condition is True.\n",
        "\n",
        "- **With three arguments (condition, x, y):** Returns elements from x where the condition is True, and from y where the condition is False.\n",
        "\n",
        "<br>\n",
        "\n"
      ],
      "metadata": {
        "id": "GFOvClhu7Wh5"
      }
    },
    {
      "cell_type": "code",
      "source": [
        "a"
      ],
      "metadata": {
        "colab": {
          "base_uri": "https://localhost:8080/"
        },
        "id": "ca8mQxsX6vVV",
        "outputId": "25f12960-6e40-4c7f-a6de-41ab166e1902"
      },
      "execution_count": 212,
      "outputs": [
        {
          "output_type": "execute_result",
          "data": {
            "text/plain": [
              "array([33, 53, 18, 68, 23, 45, 11, 92, 75, 12, 54, 44, 76, 92, 80])"
            ]
          },
          "metadata": {},
          "execution_count": 212
        }
      ]
    },
    {
      "cell_type": "code",
      "source": [
        "np.where(a>50)"
      ],
      "metadata": {
        "colab": {
          "base_uri": "https://localhost:8080/"
        },
        "id": "1ttgoEnn8L2t",
        "outputId": "5c5799fa-862d-44d8-ce55-b3c45c0751b3"
      },
      "execution_count": 213,
      "outputs": [
        {
          "output_type": "execute_result",
          "data": {
            "text/plain": [
              "(array([ 1,  3,  7,  8, 10, 12, 13, 14]),)"
            ]
          },
          "metadata": {},
          "execution_count": 213
        }
      ]
    },
    {
      "cell_type": "markdown",
      "source": [
        "Returns the index position, since, x and y are not given."
      ],
      "metadata": {
        "id": "_fEgXQFP8PXX"
      }
    },
    {
      "cell_type": "code",
      "source": [
        "np.where(a>50, 0, a)"
      ],
      "metadata": {
        "colab": {
          "base_uri": "https://localhost:8080/"
        },
        "id": "mT-6A0qo8N8n",
        "outputId": "72e3c34c-881e-4274-e1f1-5d21bb948311"
      },
      "execution_count": 214,
      "outputs": [
        {
          "output_type": "execute_result",
          "data": {
            "text/plain": [
              "array([33,  0, 18,  0, 23, 45, 11,  0,  0, 12,  0, 44,  0,  0,  0])"
            ]
          },
          "metadata": {},
          "execution_count": 214
        }
      ]
    },
    {
      "cell_type": "markdown",
      "source": [
        "Return the element and not index array when x and y are given."
      ],
      "metadata": {
        "id": "ETVa6DgdgDZM"
      }
    },
    {
      "cell_type": "code",
      "source": [
        "np.where(a%2==0, 0, a)"
      ],
      "metadata": {
        "colab": {
          "base_uri": "https://localhost:8080/"
        },
        "id": "K6sBEVBT8VK7",
        "outputId": "7ea9a535-df21-49dc-a245-42fe6cef18eb"
      },
      "execution_count": 215,
      "outputs": [
        {
          "output_type": "execute_result",
          "data": {
            "text/plain": [
              "array([33, 53,  0,  0, 23, 45, 11,  0, 75,  0,  0,  0,  0,  0,  0])"
            ]
          },
          "metadata": {},
          "execution_count": 215
        }
      ]
    },
    {
      "cell_type": "markdown",
      "source": [
        "#### 7. np.argmax\n",
        "\n",
        "<br>\n",
        "\n",
        "- Returns the indices of the maximum values along an axis. [Documentation](https://numpy.org/devdocs/reference/generated/numpy.argmax.html)\n",
        "\n",
        "```\n",
        "np.argmax(a, axis=None, out=None, *, keepdims=<no value>)\n",
        "```\n",
        "<br>\n",
        "- When you reduce over an axis using axis=..., it usually removes that axis from the result.\n",
        "But if you set `keepdims=True`, it keeps the reduced axis with size 1, so that the output shape is compatible (broadcastable) with the original array.\n",
        "\n",
        "<br>"
      ],
      "metadata": {
        "id": "AYfhZub_8lFn"
      }
    },
    {
      "cell_type": "code",
      "source": [
        "a"
      ],
      "metadata": {
        "colab": {
          "base_uri": "https://localhost:8080/"
        },
        "id": "PCOkTGyi8baB",
        "outputId": "af18e289-0bf9-4d5a-f4f0-ffc0dddf709a"
      },
      "execution_count": 216,
      "outputs": [
        {
          "output_type": "execute_result",
          "data": {
            "text/plain": [
              "array([33, 53, 18, 68, 23, 45, 11, 92, 75, 12, 54, 44, 76, 92, 80])"
            ]
          },
          "metadata": {},
          "execution_count": 216
        }
      ]
    },
    {
      "cell_type": "code",
      "source": [
        "np.argmax(a)"
      ],
      "metadata": {
        "colab": {
          "base_uri": "https://localhost:8080/"
        },
        "id": "IXvVjMPI8u5I",
        "outputId": "275a1f9d-79ca-46bc-e877-e39af8a6da19"
      },
      "execution_count": 217,
      "outputs": [
        {
          "output_type": "execute_result",
          "data": {
            "text/plain": [
              "np.int64(7)"
            ]
          },
          "metadata": {},
          "execution_count": 217
        }
      ]
    },
    {
      "cell_type": "code",
      "source": [
        "b"
      ],
      "metadata": {
        "colab": {
          "base_uri": "https://localhost:8080/"
        },
        "id": "eBoDWVsI8wkU",
        "outputId": "24061c95-4248-4aa5-93c1-d7561a2612a3"
      },
      "execution_count": 218,
      "outputs": [
        {
          "output_type": "execute_result",
          "data": {
            "text/plain": [
              "array([[37, 42, 22, 74],\n",
              "       [15, 39, 57, 21],\n",
              "       [70, 66, 86, 67],\n",
              "       [19, 68, 29, 49],\n",
              "       [86, 72, 25, 44],\n",
              "       [29, 71,  1, 77]])"
            ]
          },
          "metadata": {},
          "execution_count": 218
        }
      ]
    },
    {
      "cell_type": "code",
      "source": [
        "np.argmax(b, axis=0) # max index of col"
      ],
      "metadata": {
        "colab": {
          "base_uri": "https://localhost:8080/"
        },
        "id": "xplzBd0A87vj",
        "outputId": "b3e10e45-6ca9-4ec7-8bd3-dab4622e7a41"
      },
      "execution_count": 219,
      "outputs": [
        {
          "output_type": "execute_result",
          "data": {
            "text/plain": [
              "array([4, 4, 2, 5])"
            ]
          },
          "metadata": {},
          "execution_count": 219
        }
      ]
    },
    {
      "cell_type": "code",
      "source": [
        "np.argmax(b, axis=1)"
      ],
      "metadata": {
        "colab": {
          "base_uri": "https://localhost:8080/"
        },
        "id": "YcoZI-zp8-Y1",
        "outputId": "374c920d-0d1e-4db4-cdbb-c0025fb1642f"
      },
      "execution_count": 220,
      "outputs": [
        {
          "output_type": "execute_result",
          "data": {
            "text/plain": [
              "array([3, 2, 2, 1, 0, 3])"
            ]
          },
          "metadata": {},
          "execution_count": 220
        }
      ]
    },
    {
      "cell_type": "markdown",
      "source": [
        "use of keepdims"
      ],
      "metadata": {
        "id": "2MQ3cP40iY1p"
      }
    },
    {
      "cell_type": "code",
      "source": [
        "b.shape"
      ],
      "metadata": {
        "colab": {
          "base_uri": "https://localhost:8080/"
        },
        "id": "CEr98d7kim3u",
        "outputId": "4f4a198f-82a1-47c1-ede0-19dfcb2ec46d"
      },
      "execution_count": 221,
      "outputs": [
        {
          "output_type": "execute_result",
          "data": {
            "text/plain": [
              "(6, 4)"
            ]
          },
          "metadata": {},
          "execution_count": 221
        }
      ]
    },
    {
      "cell_type": "code",
      "source": [
        "np.argmax(b, axis=0).shape #max along 0th dimension"
      ],
      "metadata": {
        "colab": {
          "base_uri": "https://localhost:8080/"
        },
        "id": "iQDGOGnYibvf",
        "outputId": "15c88ed1-1970-4adb-e2b6-3ade46c08315"
      },
      "execution_count": 222,
      "outputs": [
        {
          "output_type": "execute_result",
          "data": {
            "text/plain": [
              "(4,)"
            ]
          },
          "metadata": {},
          "execution_count": 222
        }
      ]
    },
    {
      "cell_type": "code",
      "source": [
        "np.argmax(b, axis=0, keepdims=True).shape # max along 0th dimension but preserve it."
      ],
      "metadata": {
        "colab": {
          "base_uri": "https://localhost:8080/"
        },
        "id": "dnkcTOfwiftW",
        "outputId": "c3507dc9-f79d-4086-e18f-510d47b3a566"
      },
      "execution_count": 223,
      "outputs": [
        {
          "output_type": "execute_result",
          "data": {
            "text/plain": [
              "(1, 4)"
            ]
          },
          "metadata": {},
          "execution_count": 223
        }
      ]
    },
    {
      "cell_type": "markdown",
      "source": [
        "#### 8. np.cumsum\n",
        "\n",
        "Return the cumulative sum of the elements along a given axis. [Documentation](https://numpy.org/doc/2.1/reference/generated/numpy.cumsum.html)\n",
        "\n",
        "```\n",
        "numpy.cumsum(a, axis=None, dtype=None, out=None)[source]\n",
        "```\n",
        "or\n",
        "\n",
        "```\n",
        "numpy.cumulative_sum(a, /, *, axis=None, dtype=None, out=None, include_initial=False)\n",
        "\n",
        "# `include_initial=True` will return array start from zero like [0, 1, 3, 6] for [1, 2, 3]\n",
        "```\n",
        "- Axis along which the cumulative sum is computed. The default (None) is to compute the cumsum over the flattened array.\n",
        "\n",
        "- `cumsum(b)[-1]` may not be equal to `sum(b)` duse to precision of dtypes."
      ],
      "metadata": {
        "id": "K7gqmE5J9IXJ"
      }
    },
    {
      "cell_type": "code",
      "source": [
        "a"
      ],
      "metadata": {
        "colab": {
          "base_uri": "https://localhost:8080/"
        },
        "id": "DkmqiFtl9FvR",
        "outputId": "bfbb5de3-dd98-4c23-e9da-724f4fb674ec"
      },
      "execution_count": 224,
      "outputs": [
        {
          "output_type": "execute_result",
          "data": {
            "text/plain": [
              "array([33, 53, 18, 68, 23, 45, 11, 92, 75, 12, 54, 44, 76, 92, 80])"
            ]
          },
          "metadata": {},
          "execution_count": 224
        }
      ]
    },
    {
      "cell_type": "code",
      "source": [
        "np.sum(a)"
      ],
      "metadata": {
        "colab": {
          "base_uri": "https://localhost:8080/"
        },
        "id": "NrFB314N9V_F",
        "outputId": "b77e13de-162d-4c45-ba33-2f4c130f2cbd"
      },
      "execution_count": 225,
      "outputs": [
        {
          "output_type": "execute_result",
          "data": {
            "text/plain": [
              "np.int64(776)"
            ]
          },
          "metadata": {},
          "execution_count": 225
        }
      ]
    },
    {
      "cell_type": "code",
      "source": [
        "np.cumsum(a)"
      ],
      "metadata": {
        "colab": {
          "base_uri": "https://localhost:8080/"
        },
        "id": "xqaJbgY79Qmd",
        "outputId": "832bce61-1dd2-4eb0-dfa7-28a06992fd53"
      },
      "execution_count": 226,
      "outputs": [
        {
          "output_type": "execute_result",
          "data": {
            "text/plain": [
              "array([ 33,  86, 104, 172, 195, 240, 251, 343, 418, 430, 484, 528, 604,\n",
              "       696, 776])"
            ]
          },
          "metadata": {},
          "execution_count": 226
        }
      ]
    },
    {
      "cell_type": "code",
      "source": [
        "b"
      ],
      "metadata": {
        "colab": {
          "base_uri": "https://localhost:8080/"
        },
        "id": "naaBqg9y9n0U",
        "outputId": "d9e18992-edb2-4417-ef77-f4ece7864543"
      },
      "execution_count": 227,
      "outputs": [
        {
          "output_type": "execute_result",
          "data": {
            "text/plain": [
              "array([[37, 42, 22, 74],\n",
              "       [15, 39, 57, 21],\n",
              "       [70, 66, 86, 67],\n",
              "       [19, 68, 29, 49],\n",
              "       [86, 72, 25, 44],\n",
              "       [29, 71,  1, 77]])"
            ]
          },
          "metadata": {},
          "execution_count": 227
        }
      ]
    },
    {
      "cell_type": "code",
      "source": [
        "np.cumsum(b, axis=0)"
      ],
      "metadata": {
        "colab": {
          "base_uri": "https://localhost:8080/"
        },
        "id": "Xp0Jkxfb9pNj",
        "outputId": "d9966fcd-bcdf-4034-dde9-2befbddc8a33"
      },
      "execution_count": 228,
      "outputs": [
        {
          "output_type": "execute_result",
          "data": {
            "text/plain": [
              "array([[ 37,  42,  22,  74],\n",
              "       [ 52,  81,  79,  95],\n",
              "       [122, 147, 165, 162],\n",
              "       [141, 215, 194, 211],\n",
              "       [227, 287, 219, 255],\n",
              "       [256, 358, 220, 332]])"
            ]
          },
          "metadata": {},
          "execution_count": 228
        }
      ]
    },
    {
      "cell_type": "code",
      "source": [
        "np.cumsum(b, axis =1)"
      ],
      "metadata": {
        "colab": {
          "base_uri": "https://localhost:8080/"
        },
        "id": "8gMM0kjN9wj9",
        "outputId": "b4f6853b-438e-4189-ea9d-dc23ba15073f"
      },
      "execution_count": 229,
      "outputs": [
        {
          "output_type": "execute_result",
          "data": {
            "text/plain": [
              "array([[ 37,  79, 101, 175],\n",
              "       [ 15,  54, 111, 132],\n",
              "       [ 70, 136, 222, 289],\n",
              "       [ 19,  87, 116, 165],\n",
              "       [ 86, 158, 183, 227],\n",
              "       [ 29, 100, 101, 178]])"
            ]
          },
          "metadata": {},
          "execution_count": 229
        }
      ]
    },
    {
      "cell_type": "code",
      "source": [
        "c = np.arange(1, 6)"
      ],
      "metadata": {
        "id": "GlH9oKYq952F"
      },
      "execution_count": 230,
      "outputs": []
    },
    {
      "cell_type": "code",
      "source": [
        "np.cumprod(c)"
      ],
      "metadata": {
        "colab": {
          "base_uri": "https://localhost:8080/"
        },
        "id": "gTvTr5BJ90Np",
        "outputId": "54d0d479-fe03-48ed-bea7-13eeb388aeb6"
      },
      "execution_count": 231,
      "outputs": [
        {
          "output_type": "execute_result",
          "data": {
            "text/plain": [
              "array([  1,   2,   6,  24, 120])"
            ]
          },
          "metadata": {},
          "execution_count": 231
        }
      ]
    },
    {
      "cell_type": "markdown",
      "source": [
        "#### 9. np.percentile\n",
        "\n",
        "![image.png](data:image/png;base64,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)"
      ],
      "metadata": {
        "id": "B6woUUaK9cDv"
      }
    },
    {
      "cell_type": "markdown",
      "source": [
        "Compute the q-th percentile of the data along the specified axis and\n",
        "Returns the q-th percentile(s) of the array elements. [Documentation](https://numpy.org/doc/2.1/reference/generated/numpy.percentile.html\n",
        "\n",
        "\n",
        ")\n",
        "\n",
        "```\n",
        "np.percentile(a, q, axis=None, out=None, overwrite_input=False, method='linear', keepdims=False, *, weights=None)\n",
        "```\n",
        "\n",
        "- **axis: {int, tuple of int, None}, optional**\n",
        "      Axis or axes along which the percentiles are computed.\n",
        "      The default is to compute the percentile(s) along a flattened version of the array\n"
      ],
      "metadata": {
        "id": "3FHQXBb7lUgL"
      }
    },
    {
      "cell_type": "code",
      "source": [
        "a"
      ],
      "metadata": {
        "colab": {
          "base_uri": "https://localhost:8080/"
        },
        "id": "3fgNRLiS9T0C",
        "outputId": "1ce1c82d-5c81-40bf-d945-b4028fc91649"
      },
      "execution_count": 232,
      "outputs": [
        {
          "output_type": "execute_result",
          "data": {
            "text/plain": [
              "array([33, 53, 18, 68, 23, 45, 11, 92, 75, 12, 54, 44, 76, 92, 80])"
            ]
          },
          "metadata": {},
          "execution_count": 232
        }
      ]
    },
    {
      "cell_type": "code",
      "source": [
        "np.percentile(a, 100)"
      ],
      "metadata": {
        "colab": {
          "base_uri": "https://localhost:8080/"
        },
        "id": "2Hr_4_y_-G3W",
        "outputId": "85a68bf7-6feb-4fc7-d251-e816861873c8"
      },
      "execution_count": 233,
      "outputs": [
        {
          "output_type": "execute_result",
          "data": {
            "text/plain": [
              "np.float64(92.0)"
            ]
          },
          "metadata": {},
          "execution_count": 233
        }
      ]
    },
    {
      "cell_type": "code",
      "source": [
        "np.percentile(a, 0)"
      ],
      "metadata": {
        "colab": {
          "base_uri": "https://localhost:8080/"
        },
        "id": "h89rRRTp-K6F",
        "outputId": "c4c65808-6d69-45c9-9731-3e841b854051"
      },
      "execution_count": 234,
      "outputs": [
        {
          "output_type": "execute_result",
          "data": {
            "text/plain": [
              "np.float64(11.0)"
            ]
          },
          "metadata": {},
          "execution_count": 234
        }
      ]
    },
    {
      "cell_type": "code",
      "source": [
        "np.percentile(a, 50)"
      ],
      "metadata": {
        "colab": {
          "base_uri": "https://localhost:8080/"
        },
        "id": "-WTFKyHa-NrV",
        "outputId": "2903563d-6bb5-45a0-d16e-b25100161653"
      },
      "execution_count": 235,
      "outputs": [
        {
          "output_type": "execute_result",
          "data": {
            "text/plain": [
              "np.float64(53.0)"
            ]
          },
          "metadata": {},
          "execution_count": 235
        }
      ]
    },
    {
      "cell_type": "code",
      "source": [
        "np.median(a)"
      ],
      "metadata": {
        "colab": {
          "base_uri": "https://localhost:8080/"
        },
        "id": "WzvB1X4I-Oui",
        "outputId": "b009209c-e6d7-40be-cf40-fe0ca7dbb8dc"
      },
      "execution_count": 236,
      "outputs": [
        {
          "output_type": "execute_result",
          "data": {
            "text/plain": [
              "np.float64(53.0)"
            ]
          },
          "metadata": {},
          "execution_count": 236
        }
      ]
    },
    {
      "cell_type": "markdown",
      "source": [
        "10. np.histogram"
      ],
      "metadata": {
        "id": "jFT6QGXA-pjT"
      }
    },
    {
      "cell_type": "code",
      "source": [
        "a"
      ],
      "metadata": {
        "colab": {
          "base_uri": "https://localhost:8080/"
        },
        "id": "U3SXTvAj-R5K",
        "outputId": "8cbc2a3b-120e-4156-b2a9-1a17f745afe2"
      },
      "execution_count": 237,
      "outputs": [
        {
          "output_type": "execute_result",
          "data": {
            "text/plain": [
              "array([33, 53, 18, 68, 23, 45, 11, 92, 75, 12, 54, 44, 76, 92, 80])"
            ]
          },
          "metadata": {},
          "execution_count": 237
        }
      ]
    },
    {
      "cell_type": "code",
      "source": [
        "np.histogram(a, bins=[0, 10, 20, 30, 40, 50, 60, 70, 80])"
      ],
      "metadata": {
        "colab": {
          "base_uri": "https://localhost:8080/"
        },
        "id": "8_-ezHTL-tTA",
        "outputId": "ce49987e-d45e-41a1-eff3-c797ae05f1cc"
      },
      "execution_count": 238,
      "outputs": [
        {
          "output_type": "execute_result",
          "data": {
            "text/plain": [
              "(array([0, 3, 1, 1, 2, 2, 1, 3]), array([ 0, 10, 20, 30, 40, 50, 60, 70, 80]))"
            ]
          },
          "metadata": {},
          "execution_count": 238
        }
      ]
    },
    {
      "cell_type": "markdown",
      "source": [
        "#### 11. np.corrcoef\n",
        "\n",
        "<br>\n",
        "\n",
        "Return Pearson product-moment correlation coefficients [Documentation](https://numpy.org/doc/stable/reference/generated/numpy.corrcoef.html)\n",
        "\n",
        "\n",
        "```\n",
        "np.corrcoef(x, y=None, rowvar=True, *, dtype=None)\n",
        "\n",
        "```\n",
        "\n",
        "Due to floating point rounding the resulting array may not be Hermitian, the diagonal elements may not be 1, and the elements may not satisfy the inequality abs(a) <= 1\n",
        "\n",
        "<br>"
      ],
      "metadata": {
        "id": "Rea5R_tb-7y3"
      }
    },
    {
      "cell_type": "code",
      "source": [
        "a = np.random.random(10)\n",
        "\n",
        "a"
      ],
      "metadata": {
        "colab": {
          "base_uri": "https://localhost:8080/"
        },
        "id": "n8ZADYaV-0Nw",
        "outputId": "a54a2852-9dfa-4199-fb30-70f6ca2818e3"
      },
      "execution_count": 239,
      "outputs": [
        {
          "output_type": "execute_result",
          "data": {
            "text/plain": [
              "array([0.96790925, 0.69615952, 0.20624843, 0.53707145, 0.36259484,\n",
              "       0.87686213, 0.83318628, 0.42958668, 0.32446373, 0.67720783])"
            ]
          },
          "metadata": {},
          "execution_count": 239
        }
      ]
    },
    {
      "cell_type": "code",
      "source": [
        "b = np.random.randint(0, 10, 10)\n",
        "\n",
        "b"
      ],
      "metadata": {
        "colab": {
          "base_uri": "https://localhost:8080/"
        },
        "id": "THKly08v_DBp",
        "outputId": "649d312a-7dd2-435c-90ca-4614add13f77"
      },
      "execution_count": 240,
      "outputs": [
        {
          "output_type": "execute_result",
          "data": {
            "text/plain": [
              "array([3, 7, 9, 1, 3, 4, 3, 0, 4, 4])"
            ]
          },
          "metadata": {},
          "execution_count": 240
        }
      ]
    },
    {
      "cell_type": "code",
      "source": [
        "np.corrcoef(a, b)"
      ],
      "metadata": {
        "colab": {
          "base_uri": "https://localhost:8080/"
        },
        "id": "x4nrtBXc_JIj",
        "outputId": "eab1c1b1-df1e-4c34-8ec8-11d186e283a9"
      },
      "execution_count": 241,
      "outputs": [
        {
          "output_type": "execute_result",
          "data": {
            "text/plain": [
              "array([[ 1.        , -0.19576589],\n",
              "       [-0.19576589,  1.        ]])"
            ]
          },
          "metadata": {},
          "execution_count": 241
        }
      ]
    },
    {
      "cell_type": "code",
      "source": [
        "data = np.array([[1, 2, 3, 4, 5],     # variable 1\n",
        "                 [5, 4, 3, 2, 1]])    # variable 2\n",
        "\n",
        "np.corrcoef(data, rowvar=True)"
      ],
      "metadata": {
        "colab": {
          "base_uri": "https://localhost:8080/"
        },
        "id": "7d4ybwjXn6ib",
        "outputId": "389f7e2a-66c8-48d2-f3c0-e6e46c5e14b5"
      },
      "execution_count": 242,
      "outputs": [
        {
          "output_type": "execute_result",
          "data": {
            "text/plain": [
              "array([[ 1., -1.],\n",
              "       [-1.,  1.]])"
            ]
          },
          "metadata": {},
          "execution_count": 242
        }
      ]
    },
    {
      "cell_type": "markdown",
      "source": [
        "12. np.isin"
      ],
      "metadata": {
        "id": "7377RFTL_PyN"
      }
    },
    {
      "cell_type": "code",
      "source": [
        "a = np.random.randint(0, 100, 20)\n",
        "\n",
        "a"
      ],
      "metadata": {
        "colab": {
          "base_uri": "https://localhost:8080/"
        },
        "id": "WDGS7N2b_NRK",
        "outputId": "0a3f8f7e-4348-441f-91d5-3a0495ad2c9d"
      },
      "execution_count": 243,
      "outputs": [
        {
          "output_type": "execute_result",
          "data": {
            "text/plain": [
              "array([56, 86, 74, 19,  6, 92, 65, 13,  2, 54, 44, 69, 16, 54, 35,  0, 91,\n",
              "       53, 43,  4])"
            ]
          },
          "metadata": {},
          "execution_count": 243
        }
      ]
    },
    {
      "cell_type": "code",
      "source": [
        "item = [10, 20, 30, 40, 50, 60, 70, 80, 90]\n",
        "\n",
        "np.isin(a, item)"
      ],
      "metadata": {
        "colab": {
          "base_uri": "https://localhost:8080/"
        },
        "id": "Ir_DB2Ii_yas",
        "outputId": "1baf542d-9880-4576-95e5-b0786e0ac951"
      },
      "execution_count": 244,
      "outputs": [
        {
          "output_type": "execute_result",
          "data": {
            "text/plain": [
              "array([False, False, False, False, False, False, False, False, False,\n",
              "       False, False, False, False, False, False, False, False, False,\n",
              "       False, False])"
            ]
          },
          "metadata": {},
          "execution_count": 244
        }
      ]
    },
    {
      "cell_type": "code",
      "source": [
        "a[np.isin(a, item)]"
      ],
      "metadata": {
        "colab": {
          "base_uri": "https://localhost:8080/"
        },
        "id": "4McGYDb3AEun",
        "outputId": "d7cbc961-03fb-481b-9754-87ab63d00558"
      },
      "execution_count": 245,
      "outputs": [
        {
          "output_type": "execute_result",
          "data": {
            "text/plain": [
              "array([], dtype=int64)"
            ]
          },
          "metadata": {},
          "execution_count": 245
        }
      ]
    },
    {
      "cell_type": "markdown",
      "source": [
        "13. np.flip"
      ],
      "metadata": {
        "id": "qWasLmWKAI6U"
      }
    },
    {
      "cell_type": "code",
      "source": [
        "a"
      ],
      "metadata": {
        "colab": {
          "base_uri": "https://localhost:8080/"
        },
        "id": "xuupyn6TAG6X",
        "outputId": "8f155596-6066-4809-eff5-0510480086ef"
      },
      "execution_count": 246,
      "outputs": [
        {
          "output_type": "execute_result",
          "data": {
            "text/plain": [
              "array([56, 86, 74, 19,  6, 92, 65, 13,  2, 54, 44, 69, 16, 54, 35,  0, 91,\n",
              "       53, 43,  4])"
            ]
          },
          "metadata": {},
          "execution_count": 246
        }
      ]
    },
    {
      "cell_type": "code",
      "source": [
        "np.flip(a)"
      ],
      "metadata": {
        "colab": {
          "base_uri": "https://localhost:8080/"
        },
        "id": "Z-zKhzZyALzC",
        "outputId": "6aa699aa-af70-4676-80af-7d813c6c0a3b"
      },
      "execution_count": 247,
      "outputs": [
        {
          "output_type": "execute_result",
          "data": {
            "text/plain": [
              "array([ 4, 43, 53, 91,  0, 35, 54, 16, 69, 44, 54,  2, 13, 65, 92,  6, 19,\n",
              "       74, 86, 56])"
            ]
          },
          "metadata": {},
          "execution_count": 247
        }
      ]
    },
    {
      "cell_type": "code",
      "source": [
        "b = np.arange(24).reshape(6, 4)\n",
        "b"
      ],
      "metadata": {
        "colab": {
          "base_uri": "https://localhost:8080/"
        },
        "id": "tQ6dFPXvANTO",
        "outputId": "5786ac6d-b3fd-4d8c-e7ad-4d888fb0c2ac"
      },
      "execution_count": 248,
      "outputs": [
        {
          "output_type": "execute_result",
          "data": {
            "text/plain": [
              "array([[ 0,  1,  2,  3],\n",
              "       [ 4,  5,  6,  7],\n",
              "       [ 8,  9, 10, 11],\n",
              "       [12, 13, 14, 15],\n",
              "       [16, 17, 18, 19],\n",
              "       [20, 21, 22, 23]])"
            ]
          },
          "metadata": {},
          "execution_count": 248
        }
      ]
    },
    {
      "cell_type": "code",
      "source": [
        "np.flip(b)"
      ],
      "metadata": {
        "colab": {
          "base_uri": "https://localhost:8080/"
        },
        "id": "GQYpN9hSAO1k",
        "outputId": "1a95dc6e-fcab-43b9-b5de-9254d7146a62"
      },
      "execution_count": 249,
      "outputs": [
        {
          "output_type": "execute_result",
          "data": {
            "text/plain": [
              "array([[23, 22, 21, 20],\n",
              "       [19, 18, 17, 16],\n",
              "       [15, 14, 13, 12],\n",
              "       [11, 10,  9,  8],\n",
              "       [ 7,  6,  5,  4],\n",
              "       [ 3,  2,  1,  0]])"
            ]
          },
          "metadata": {},
          "execution_count": 249
        }
      ]
    },
    {
      "cell_type": "code",
      "source": [
        "np.flip(b, axis=1)"
      ],
      "metadata": {
        "colab": {
          "base_uri": "https://localhost:8080/"
        },
        "id": "Mtfc1w_DAXh-",
        "outputId": "6e1082e6-4631-4dea-e221-f4cf9d42f9c0"
      },
      "execution_count": 250,
      "outputs": [
        {
          "output_type": "execute_result",
          "data": {
            "text/plain": [
              "array([[ 3,  2,  1,  0],\n",
              "       [ 7,  6,  5,  4],\n",
              "       [11, 10,  9,  8],\n",
              "       [15, 14, 13, 12],\n",
              "       [19, 18, 17, 16],\n",
              "       [23, 22, 21, 20]])"
            ]
          },
          "metadata": {},
          "execution_count": 250
        }
      ]
    },
    {
      "cell_type": "code",
      "source": [
        "np.flip(b, axis=0)"
      ],
      "metadata": {
        "colab": {
          "base_uri": "https://localhost:8080/"
        },
        "id": "nQlCEibeAb9L",
        "outputId": "ae03c0a5-cbaf-428b-98bc-6fdc45572a1b"
      },
      "execution_count": 251,
      "outputs": [
        {
          "output_type": "execute_result",
          "data": {
            "text/plain": [
              "array([[20, 21, 22, 23],\n",
              "       [16, 17, 18, 19],\n",
              "       [12, 13, 14, 15],\n",
              "       [ 8,  9, 10, 11],\n",
              "       [ 4,  5,  6,  7],\n",
              "       [ 0,  1,  2,  3]])"
            ]
          },
          "metadata": {},
          "execution_count": 251
        }
      ]
    },
    {
      "cell_type": "markdown",
      "source": [
        "#### 14. np.put\n",
        "\n",
        "<br>\n",
        "\n",
        "Replaces specified elements of an array with given values. [Documentation](https://numpy.org/devdocs/reference/generated/numpy.put.html)\n",
        "\n",
        "The indexing works on the flattened target array. put is roughly equivalent to:\n",
        "\n",
        "$$\\textbf{arr.flat[ind] = v}$$\n",
        "\n",
        "\n",
        "\n",
        "\n",
        "```\n",
        "np.put(arr, ind, value, mode='raise')\n",
        "```\n",
        "<br>\n",
        "\n",
        "### `mode`:= (`'raise'`, `'wrap'`, `'clip'`)\n",
        "\n",
        "```\n",
        "np.put(a, [1, 5], [100, 200], mode='wrap')\n",
        "```\n",
        "\n",
        "<br>\n",
        "\n",
        "| Mode     | Description                                               | Allows Negative Indices | Example Behavior           |\n",
        "|----------|-----------------------------------------------------------|--------------------------|----------------------------|\n",
        "| `'raise'` | Default mode. Raises `IndexError` on out-of-bounds access. |  Yes                   | `a[5]` →  Error           |\n",
        "| `'wrap'`  | Wraps around using modular indexing (like a circular list). |  Yes                   | `a[5]` → `a[5 % len(a)]`   |\n",
        "| `'clip'`  | Clips indices to the nearest valid range (0 to len-1).    |  No                    | `a[5]` → `a[len(a) - 1]`   |\n",
        "\n",
        "\n",
        "<br>\n",
        "<br>"
      ],
      "metadata": {
        "id": "qVr1rX3mAoCe"
      }
    },
    {
      "cell_type": "code",
      "source": [
        "a"
      ],
      "metadata": {
        "colab": {
          "base_uri": "https://localhost:8080/"
        },
        "id": "Mo-WfVZYAeKe",
        "outputId": "24d32a75-236e-4141-8bfd-61248384cdf5"
      },
      "execution_count": 252,
      "outputs": [
        {
          "output_type": "execute_result",
          "data": {
            "text/plain": [
              "array([56, 86, 74, 19,  6, 92, 65, 13,  2, 54, 44, 69, 16, 54, 35,  0, 91,\n",
              "       53, 43,  4])"
            ]
          },
          "metadata": {},
          "execution_count": 252
        }
      ]
    },
    {
      "cell_type": "code",
      "source": [
        "index = [0, 1]\n",
        "value = [100, 200]\n",
        "\n",
        "np.put(a, index, value) #permanent changes to array doesn't create a copy\n",
        "a"
      ],
      "metadata": {
        "colab": {
          "base_uri": "https://localhost:8080/"
        },
        "id": "2A_ZM36QAsIV",
        "outputId": "2db0b420-0131-40f6-cbef-ac40dff24eb7"
      },
      "execution_count": 253,
      "outputs": [
        {
          "output_type": "execute_result",
          "data": {
            "text/plain": [
              "array([100, 200,  74,  19,   6,  92,  65,  13,   2,  54,  44,  69,  16,\n",
              "        54,  35,   0,  91,  53,  43,   4])"
            ]
          },
          "metadata": {},
          "execution_count": 253
        }
      ]
    },
    {
      "cell_type": "markdown",
      "source": [
        "#### 15. np.delete\n",
        "\n",
        "\n",
        "Return a new array with sub-arrays along an axis deleted. For a one dimensional array, this returns those entries not returned by arr[obj]. [Documentation](https://numpy.org/doc/stable/reference/generated/numpy.delete.html)\n",
        "\n",
        "```\n",
        "numpy.delete(arr, obj, axis=None)\n",
        "```\n",
        "\n",
        "`obj` := Indicate indices of sub-arrays to remove along the specified axis.\n",
        "\n",
        "\n"
      ],
      "metadata": {
        "id": "lbxGlhPBA6cW"
      }
    },
    {
      "cell_type": "code",
      "source": [
        "a"
      ],
      "metadata": {
        "colab": {
          "base_uri": "https://localhost:8080/"
        },
        "id": "S-WWw8EpAz2G",
        "outputId": "4c55a32b-0fc9-42a6-8e29-0c7e35a060a6"
      },
      "execution_count": 254,
      "outputs": [
        {
          "output_type": "execute_result",
          "data": {
            "text/plain": [
              "array([100, 200,  74,  19,   6,  92,  65,  13,   2,  54,  44,  69,  16,\n",
              "        54,  35,   0,  91,  53,  43,   4])"
            ]
          },
          "metadata": {},
          "execution_count": 254
        }
      ]
    },
    {
      "cell_type": "code",
      "source": [
        "np.delete(a, 0) # Create a copy and then delete"
      ],
      "metadata": {
        "colab": {
          "base_uri": "https://localhost:8080/"
        },
        "id": "KrCmM99VBCHW",
        "outputId": "5b64ef16-fa37-41f2-ce87-90c1a82a1487"
      },
      "execution_count": 255,
      "outputs": [
        {
          "output_type": "execute_result",
          "data": {
            "text/plain": [
              "array([200,  74,  19,   6,  92,  65,  13,   2,  54,  44,  69,  16,  54,\n",
              "        35,   0,  91,  53,  43,   4])"
            ]
          },
          "metadata": {},
          "execution_count": 255
        }
      ]
    },
    {
      "cell_type": "code",
      "source": [
        "arr = np.array([[1,2,3,4], [5,6,7,8], [9,10,11,12]])\n",
        "arr"
      ],
      "metadata": {
        "colab": {
          "base_uri": "https://localhost:8080/"
        },
        "id": "OTPq2-ttrCQ7",
        "outputId": "1f4d23ce-8858-4238-9216-83befc5b67c8"
      },
      "execution_count": 256,
      "outputs": [
        {
          "output_type": "execute_result",
          "data": {
            "text/plain": [
              "array([[ 1,  2,  3,  4],\n",
              "       [ 5,  6,  7,  8],\n",
              "       [ 9, 10, 11, 12]])"
            ]
          },
          "metadata": {},
          "execution_count": 256
        }
      ]
    },
    {
      "cell_type": "code",
      "source": [
        "arr.shape"
      ],
      "metadata": {
        "colab": {
          "base_uri": "https://localhost:8080/"
        },
        "id": "7meUIIpCrvQc",
        "outputId": "83db6d48-de13-449b-b7cd-c9694472ad77"
      },
      "execution_count": 257,
      "outputs": [
        {
          "output_type": "execute_result",
          "data": {
            "text/plain": [
              "(3, 4)"
            ]
          },
          "metadata": {},
          "execution_count": 257
        }
      ]
    },
    {
      "cell_type": "code",
      "source": [
        "np.delete(arr, 1, axis = 0)"
      ],
      "metadata": {
        "colab": {
          "base_uri": "https://localhost:8080/"
        },
        "id": "GvlasqLDrH1L",
        "outputId": "04b78327-449b-4493-8d75-e0e51b82ac66"
      },
      "execution_count": 258,
      "outputs": [
        {
          "output_type": "execute_result",
          "data": {
            "text/plain": [
              "array([[ 1,  2,  3,  4],\n",
              "       [ 9, 10, 11, 12]])"
            ]
          },
          "metadata": {},
          "execution_count": 258
        }
      ]
    },
    {
      "cell_type": "code",
      "source": [
        "np.delete(arr, 2, axis = 1)"
      ],
      "metadata": {
        "colab": {
          "base_uri": "https://localhost:8080/"
        },
        "id": "fF9jL7-uroBm",
        "outputId": "dbffbe33-69b2-4c90-fae6-28c54afc5b6f"
      },
      "execution_count": 259,
      "outputs": [
        {
          "output_type": "execute_result",
          "data": {
            "text/plain": [
              "array([[ 1,  2,  4],\n",
              "       [ 5,  6,  8],\n",
              "       [ 9, 10, 12]])"
            ]
          },
          "metadata": {},
          "execution_count": 259
        }
      ]
    },
    {
      "cell_type": "markdown",
      "source": [
        "#### 16. Set Function"
      ],
      "metadata": {
        "id": "8BRRLYJQBR5E"
      }
    },
    {
      "cell_type": "code",
      "source": [
        "f = np.array([1, 2, 3, 4, 5])\n",
        "g = np.array([4, 5, 6, 7, 8])\n",
        "\n",
        "print(f)\n",
        "print(g)"
      ],
      "metadata": {
        "colab": {
          "base_uri": "https://localhost:8080/"
        },
        "id": "lPQmGc7TBDma",
        "outputId": "99003b38-e11b-46fc-b55c-3239062bfaf9"
      },
      "execution_count": 260,
      "outputs": [
        {
          "output_type": "stream",
          "name": "stdout",
          "text": [
            "[1 2 3 4 5]\n",
            "[4 5 6 7 8]\n"
          ]
        }
      ]
    },
    {
      "cell_type": "markdown",
      "source": [
        "a. np.union1d"
      ],
      "metadata": {
        "id": "nHjWDn_tBimX"
      }
    },
    {
      "cell_type": "code",
      "source": [
        "np.union1d(f, g)"
      ],
      "metadata": {
        "colab": {
          "base_uri": "https://localhost:8080/"
        },
        "id": "nVrDzgQgBh_Y",
        "outputId": "c607685c-5799-4f60-8892-5a2e4ae5e1f9"
      },
      "execution_count": 261,
      "outputs": [
        {
          "output_type": "execute_result",
          "data": {
            "text/plain": [
              "array([1, 2, 3, 4, 5, 6, 7, 8])"
            ]
          },
          "metadata": {},
          "execution_count": 261
        }
      ]
    },
    {
      "cell_type": "markdown",
      "source": [
        "b. np.intersect1d"
      ],
      "metadata": {
        "id": "KyQwVHCjBpxp"
      }
    },
    {
      "cell_type": "code",
      "source": [
        "np.intersect1d(f, g)"
      ],
      "metadata": {
        "colab": {
          "base_uri": "https://localhost:8080/"
        },
        "id": "JLwWn6fDBofg",
        "outputId": "61d7fec8-24ab-4c2b-acb1-77a3b5d51b29"
      },
      "execution_count": 262,
      "outputs": [
        {
          "output_type": "execute_result",
          "data": {
            "text/plain": [
              "array([4, 5])"
            ]
          },
          "metadata": {},
          "execution_count": 262
        }
      ]
    },
    {
      "cell_type": "markdown",
      "source": [
        "c. np.setdiff1d"
      ],
      "metadata": {
        "id": "1fA8_KzRBwKI"
      }
    },
    {
      "cell_type": "code",
      "source": [
        "np.setdiff1d(f, g)"
      ],
      "metadata": {
        "colab": {
          "base_uri": "https://localhost:8080/"
        },
        "id": "h-kPsbNNBvCU",
        "outputId": "640f7e31-965b-4d7b-bb99-3368d8ca53e9"
      },
      "execution_count": 263,
      "outputs": [
        {
          "output_type": "execute_result",
          "data": {
            "text/plain": [
              "array([1, 2, 3])"
            ]
          },
          "metadata": {},
          "execution_count": 263
        }
      ]
    },
    {
      "cell_type": "code",
      "source": [
        "np.setdiff1d(g, f)"
      ],
      "metadata": {
        "colab": {
          "base_uri": "https://localhost:8080/"
        },
        "id": "i0I8cNK4B5Vn",
        "outputId": "fa535d94-5c14-49a1-c2a8-c5e73084a8cc"
      },
      "execution_count": 264,
      "outputs": [
        {
          "output_type": "execute_result",
          "data": {
            "text/plain": [
              "array([6, 7, 8])"
            ]
          },
          "metadata": {},
          "execution_count": 264
        }
      ]
    },
    {
      "cell_type": "markdown",
      "source": [
        "d. np.setxor1d"
      ],
      "metadata": {
        "id": "VH96JeJpCAUD"
      }
    },
    {
      "cell_type": "code",
      "source": [
        "np.setxor1d(f, g)"
      ],
      "metadata": {
        "colab": {
          "base_uri": "https://localhost:8080/"
        },
        "id": "Ak-t0BPfB_S1",
        "outputId": "84f96783-d769-4a4e-a7e0-eace8a0d5f83"
      },
      "execution_count": 265,
      "outputs": [
        {
          "output_type": "execute_result",
          "data": {
            "text/plain": [
              "array([1, 2, 3, 6, 7, 8])"
            ]
          },
          "metadata": {},
          "execution_count": 265
        }
      ]
    },
    {
      "cell_type": "markdown",
      "source": [
        "np.in1d"
      ],
      "metadata": {
        "id": "4hWteN7JCKnE"
      }
    },
    {
      "cell_type": "code",
      "source": [
        "np.in1d(f, 1)"
      ],
      "metadata": {
        "colab": {
          "base_uri": "https://localhost:8080/"
        },
        "id": "GIxprZYkCGcA",
        "outputId": "a3a71c27-2235-4d87-8d37-29a30ef091af"
      },
      "execution_count": 266,
      "outputs": [
        {
          "output_type": "stream",
          "name": "stderr",
          "text": [
            "/tmp/ipython-input-266-1080518474.py:1: DeprecationWarning: `in1d` is deprecated. Use `np.isin` instead.\n",
            "  np.in1d(f, 1)\n"
          ]
        },
        {
          "output_type": "execute_result",
          "data": {
            "text/plain": [
              "array([ True, False, False, False, False])"
            ]
          },
          "metadata": {},
          "execution_count": 266
        }
      ]
    },
    {
      "cell_type": "code",
      "source": [
        "np.in1d(f, 10)"
      ],
      "metadata": {
        "colab": {
          "base_uri": "https://localhost:8080/"
        },
        "id": "UEuucpzzCQK0",
        "outputId": "61057f54-7264-43cf-e338-e1f5410b2bc6"
      },
      "execution_count": 267,
      "outputs": [
        {
          "output_type": "stream",
          "name": "stderr",
          "text": [
            "/tmp/ipython-input-267-4240572035.py:1: DeprecationWarning: `in1d` is deprecated. Use `np.isin` instead.\n",
            "  np.in1d(f, 10)\n"
          ]
        },
        {
          "output_type": "execute_result",
          "data": {
            "text/plain": [
              "array([False, False, False, False, False])"
            ]
          },
          "metadata": {},
          "execution_count": 267
        }
      ]
    },
    {
      "cell_type": "code",
      "source": [
        "np.isin(f, 1)"
      ],
      "metadata": {
        "colab": {
          "base_uri": "https://localhost:8080/"
        },
        "id": "XWElNuWCCVTA",
        "outputId": "9e93ad42-5517-4674-e282-d91a20d21cb2"
      },
      "execution_count": 268,
      "outputs": [
        {
          "output_type": "execute_result",
          "data": {
            "text/plain": [
              "array([ True, False, False, False, False])"
            ]
          },
          "metadata": {},
          "execution_count": 268
        }
      ]
    },
    {
      "cell_type": "markdown",
      "source": [
        "#### 17. np.clip\n",
        "\n",
        "Clip (limit) the values in an array. [Documentation](https://numpy.org/devdocs/reference/generated/numpy.clip.html)\n",
        "\n",
        "Given an interval, values outside the interval are clipped to the interval edges.\n",
        "\n",
        "```\n",
        "numpy.clip(a, a_min=<no value>, a_max=<no value>, out=None, *, min=<no value>, max=<no value>)\n",
        "```\n",
        "\n",
        "***a_min, a_max*** : *array_like or None*\n",
        "- Minimum and maximum value limit. If None, clipping is not performed on the corresponding edge. If both a_min and a_max are None, the elements of the returned array stay the same\n",
        "\n",
        "***min, max*** : *array_like or None*\n",
        "\n",
        "- Array API compatible alternatives for a_min and a_max arguments. Either a_min and a_max or min and max can be passed at the same time\n",
        "\n",
        "<br>\n",
        "\n",
        "**Note:** When a_min is greater than a_max, clip returns an array in which all values are equal to a_max\n",
        "\n",
        "<br>"
      ],
      "metadata": {
        "id": "kMMgeeoqCcL2"
      }
    },
    {
      "cell_type": "code",
      "source": [
        "a"
      ],
      "metadata": {
        "colab": {
          "base_uri": "https://localhost:8080/"
        },
        "id": "MvIkec4tCXEM",
        "outputId": "4331a12d-014c-42e3-8b63-ed017b5fa694"
      },
      "execution_count": 269,
      "outputs": [
        {
          "output_type": "execute_result",
          "data": {
            "text/plain": [
              "array([100, 200,  74,  19,   6,  92,  65,  13,   2,  54,  44,  69,  16,\n",
              "        54,  35,   0,  91,  53,  43,   4])"
            ]
          },
          "metadata": {},
          "execution_count": 269
        }
      ]
    },
    {
      "cell_type": "code",
      "source": [
        "np.clip(a, a_min=25, a_max=75)"
      ],
      "metadata": {
        "colab": {
          "base_uri": "https://localhost:8080/"
        },
        "id": "OKxQFXkrCg18",
        "outputId": "b92c6a30-2457-4099-8b30-220629691a69"
      },
      "execution_count": 270,
      "outputs": [
        {
          "output_type": "execute_result",
          "data": {
            "text/plain": [
              "array([75, 75, 74, 25, 25, 75, 65, 25, 25, 54, 44, 69, 25, 54, 35, 25, 75,\n",
              "       53, 43, 25])"
            ]
          },
          "metadata": {},
          "execution_count": 270
        }
      ]
    }
  ]
}