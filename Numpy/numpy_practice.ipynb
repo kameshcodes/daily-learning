{
  "cells": [
    {
      "cell_type": "markdown",
      "metadata": {
        "id": "C5jFqgG8xQ1p"
      },
      "source": [
        "$$\\textbf{Day 1}$$\n",
        "\n",
        "---\n",
        "---"
      ]
    },
    {
      "cell_type": "code",
      "execution_count": 1,
      "metadata": {
        "id": "13uxbfxtQcc7"
      },
      "outputs": [],
      "source": [
        "import numpy as np"
      ]
    },
    {
      "cell_type": "markdown",
      "metadata": {
        "id": "AZF6G7zNRlCU"
      },
      "source": [
        "### Create Basic Arrays"
      ]
    },
    {
      "cell_type": "markdown",
      "metadata": {
        "id": "OGWiRHGHQaNA"
      },
      "source": [
        "1. Create a 1D NumPy array of 10 zeros."
      ]
    },
    {
      "cell_type": "code",
      "execution_count": null,
      "metadata": {
        "colab": {
          "base_uri": "https://localhost:8080/"
        },
        "id": "b0kkTQQkQZKw",
        "outputId": "9c8b7e03-70f3-433e-d9ff-2b2d2ba29550"
      },
      "outputs": [
        {
          "data": {
            "text/plain": [
              "array([0., 0., 0., 0., 0., 0., 0., 0., 0., 0.])"
            ]
          },
          "execution_count": 11,
          "metadata": {},
          "output_type": "execute_result"
        }
      ],
      "source": [
        "np.zeros((10))"
      ]
    },
    {
      "cell_type": "code",
      "execution_count": null,
      "metadata": {
        "colab": {
          "base_uri": "https://localhost:8080/"
        },
        "id": "4IteSw99Qgp2",
        "outputId": "72ff51fb-e2a8-4cbe-f6f0-b40180536fe7"
      },
      "outputs": [
        {
          "data": {
            "text/plain": [
              "array([[0., 0., 0., 0., 0.],\n",
              "       [0., 0., 0., 0., 0.]])"
            ]
          },
          "execution_count": 5,
          "metadata": {},
          "output_type": "execute_result"
        }
      ],
      "source": [
        "np.zeros((2,5)) # put tuple inside it"
      ]
    },
    {
      "cell_type": "markdown",
      "metadata": {
        "id": "3XmcPheCQ7hU"
      },
      "source": [
        "2. Create an array of 10 fives"
      ]
    },
    {
      "cell_type": "code",
      "execution_count": null,
      "metadata": {
        "colab": {
          "base_uri": "https://localhost:8080/"
        },
        "id": "ezKLftLdQmg6",
        "outputId": "a8a1f317-9aa0-4714-f636-e05a5c8428a4"
      },
      "outputs": [
        {
          "data": {
            "text/plain": [
              "array([5, 5, 5, 5, 5, 5, 5, 5, 5, 5])"
            ]
          },
          "execution_count": 18,
          "metadata": {},
          "output_type": "execute_result"
        }
      ],
      "source": [
        "np.ones(shape=(10), dtype=int)*5"
      ]
    },
    {
      "cell_type": "code",
      "execution_count": null,
      "metadata": {
        "colab": {
          "base_uri": "https://localhost:8080/"
        },
        "id": "eXAqRVHVeGUw",
        "outputId": "09b4f198-13a5-4c2b-da1f-2c27a2cf1143"
      },
      "outputs": [
        {
          "data": {
            "text/plain": [
              "array([5, 5, 5, 5, 5, 5, 5, 5, 5, 5])"
            ]
          },
          "execution_count": 115,
          "metadata": {},
          "output_type": "execute_result"
        }
      ],
      "source": [
        "np.full((10), 5)"
      ]
    },
    {
      "cell_type": "markdown",
      "metadata": {
        "id": "VL9SKPm-RJB9"
      },
      "source": [
        "3. Create a 1D array of integers from 10 to 50"
      ]
    },
    {
      "cell_type": "code",
      "execution_count": null,
      "metadata": {
        "colab": {
          "base_uri": "https://localhost:8080/"
        },
        "id": "-Bmv0PO3Q_sh",
        "outputId": "6ccd2afa-d016-4afb-f75d-0b6b8e05c9e1"
      },
      "outputs": [
        {
          "data": {
            "text/plain": [
              "array([10, 11, 12, 13, 14, 15, 16, 17, 18, 19, 20, 21, 22, 23, 24, 25, 26,\n",
              "       27, 28, 29, 30, 31, 32, 33, 34, 35, 36, 37, 38, 39, 40, 41, 42, 43,\n",
              "       44, 45, 46, 47, 48, 49, 50])"
            ]
          },
          "execution_count": 16,
          "metadata": {},
          "output_type": "execute_result"
        }
      ],
      "source": [
        "np.arange(start=10, stop=51, dtype=int, device = 'cpu')"
      ]
    },
    {
      "cell_type": "markdown",
      "metadata": {
        "id": "RpUbP2beRmtC"
      },
      "source": [
        "### Array Properties"
      ]
    },
    {
      "cell_type": "markdown",
      "metadata": {
        "id": "d_XtzJqmRs7U"
      },
      "source": [
        "4. Create a 3×3 array of random integers between 1 and 10."
      ]
    },
    {
      "cell_type": "code",
      "execution_count": null,
      "metadata": {
        "colab": {
          "base_uri": "https://localhost:8080/"
        },
        "id": "sLGmmIePRsdL",
        "outputId": "0eee3320-c89f-4ef3-94b0-74c108ad25d7"
      },
      "outputs": [
        {
          "data": {
            "text/plain": [
              "array([[9.47707174, 2.88534895, 3.31737704],\n",
              "       [0.08426638, 5.25223678, 0.5827369 ],\n",
              "       [2.51429348, 7.011908  , 7.04900207]])"
            ]
          },
          "execution_count": 26,
          "metadata": {},
          "output_type": "execute_result"
        }
      ],
      "source": [
        "np.random.random(size=(3,3))*10"
      ]
    },
    {
      "cell_type": "markdown",
      "metadata": {
        "id": "7Vv8OkGnR_BR"
      },
      "source": [
        "This can be less than one as well. Let's try something else."
      ]
    },
    {
      "cell_type": "code",
      "execution_count": null,
      "metadata": {
        "colab": {
          "base_uri": "https://localhost:8080/"
        },
        "id": "XWMfuyyLRX5Y",
        "outputId": "5c71c942-e22c-4c39-c063-6a5413d820d7"
      },
      "outputs": [
        {
          "data": {
            "text/plain": [
              "array([[1, 2, 3],\n",
              "       [4, 5, 6],\n",
              "       [7, 8, 9]])"
            ]
          },
          "execution_count": 34,
          "metadata": {},
          "output_type": "execute_result"
        }
      ],
      "source": [
        "np.arange(1,10).reshape(3,3)"
      ]
    },
    {
      "cell_type": "markdown",
      "metadata": {
        "id": "q-IB0OJDSUfS"
      },
      "source": [
        "Not random."
      ]
    },
    {
      "cell_type": "code",
      "execution_count": null,
      "metadata": {
        "colab": {
          "base_uri": "https://localhost:8080/"
        },
        "id": "ivFbbm93SQ74",
        "outputId": "10f15892-fb29-4267-a90f-9322e787bf20"
      },
      "outputs": [
        {
          "data": {
            "text/plain": [
              "array([[5.9826283 , 2.75650014, 2.26468861],\n",
              "       [1.31295921, 7.3824902 , 9.81033485],\n",
              "       [1.66865601, 8.27303223, 9.6417458 ]])"
            ]
          },
          "execution_count": 35,
          "metadata": {},
          "output_type": "execute_result"
        }
      ],
      "source": [
        "np.random.uniform(1, 10, (3,3))"
      ]
    },
    {
      "cell_type": "markdown",
      "metadata": {
        "id": "tZ0ZQQSWS7MF"
      },
      "source": [
        "5. Print its shape, size, number of dimensions, and data type."
      ]
    },
    {
      "cell_type": "code",
      "execution_count": null,
      "metadata": {
        "colab": {
          "base_uri": "https://localhost:8080/"
        },
        "id": "PFzRl337SeVW",
        "outputId": "0071410a-7245-4345-909b-df977dac1720"
      },
      "outputs": [
        {
          "data": {
            "text/plain": [
              "(3, 3)"
            ]
          },
          "execution_count": 37,
          "metadata": {},
          "output_type": "execute_result"
        }
      ],
      "source": [
        "a = np.random.uniform(1, 10, (3,3))\n",
        "a.shape"
      ]
    },
    {
      "cell_type": "code",
      "execution_count": null,
      "metadata": {
        "colab": {
          "base_uri": "https://localhost:8080/"
        },
        "id": "RsXygqTVS36z",
        "outputId": "fea3515f-918a-4773-8189-e5745e79ef6a"
      },
      "outputs": [
        {
          "data": {
            "text/plain": [
              "9"
            ]
          },
          "execution_count": 38,
          "metadata": {},
          "output_type": "execute_result"
        }
      ],
      "source": [
        "a.size"
      ]
    },
    {
      "cell_type": "code",
      "execution_count": null,
      "metadata": {
        "colab": {
          "base_uri": "https://localhost:8080/"
        },
        "id": "KjVy5FJkTBK_",
        "outputId": "2ef6cb19-d11a-4b2b-dbe5-0a8c32d50eac"
      },
      "outputs": [
        {
          "data": {
            "text/plain": [
              "2"
            ]
          },
          "execution_count": 39,
          "metadata": {},
          "output_type": "execute_result"
        }
      ],
      "source": [
        "a.ndim"
      ]
    },
    {
      "cell_type": "code",
      "execution_count": null,
      "metadata": {
        "colab": {
          "base_uri": "https://localhost:8080/"
        },
        "id": "LB8KPrcDTCrE",
        "outputId": "f5c50054-84c1-45c0-fe31-b029d520665c"
      },
      "outputs": [
        {
          "data": {
            "text/plain": [
              "dtype('float64')"
            ]
          },
          "execution_count": 40,
          "metadata": {},
          "output_type": "execute_result"
        }
      ],
      "source": [
        "a.dtype"
      ]
    },
    {
      "cell_type": "code",
      "execution_count": null,
      "metadata": {
        "colab": {
          "base_uri": "https://localhost:8080/"
        },
        "id": "WffzR4-XTEKl",
        "outputId": "09822078-fc58-4b01-ffc0-6b8d47565d24"
      },
      "outputs": [
        {
          "data": {
            "text/plain": [
              "array([1.91530435, 3.67255281, 8.83155749, 7.90251324, 1.48335617,\n",
              "       9.55944709, 5.36692331, 2.25734379, 7.63001007])"
            ]
          },
          "execution_count": 41,
          "metadata": {},
          "output_type": "execute_result"
        }
      ],
      "source": [
        "a.ravel()"
      ]
    },
    {
      "cell_type": "markdown",
      "metadata": {
        "id": "c4lON6w9Tekg"
      },
      "source": [
        "# Reshape and Indexing"
      ]
    },
    {
      "cell_type": "markdown",
      "metadata": {
        "id": "zJFsiKE1Thbw"
      },
      "source": [
        "6. Reshape a 1D array of 25 elements into a 5×5 matrix.\n",
        "\n"
      ]
    },
    {
      "cell_type": "code",
      "execution_count": null,
      "metadata": {
        "colab": {
          "base_uri": "https://localhost:8080/"
        },
        "id": "JtupcIF-TGZp",
        "outputId": "1c106432-3eae-42f1-8b49-6de2bfc3957c"
      },
      "outputs": [
        {
          "data": {
            "text/plain": [
              "array([[0.8673698 , 0.42001303, 0.8857146 , 0.35954082, 0.40694807],\n",
              "       [0.77054625, 0.15249678, 0.66212568, 0.66989244, 0.9587944 ],\n",
              "       [0.89819065, 0.78833591, 0.96059348, 0.33447257, 0.42597176],\n",
              "       [0.91507869, 0.47439715, 0.4737502 , 0.55710872, 0.17330271],\n",
              "       [0.07767138, 0.89970487, 0.61155724, 0.52470293, 0.49446355]])"
            ]
          },
          "execution_count": 48,
          "metadata": {},
          "output_type": "execute_result"
        }
      ],
      "source": [
        "np.random.random(25).reshape((5,5))"
      ]
    },
    {
      "cell_type": "markdown",
      "metadata": {
        "id": "hh9YYKL9T6XX"
      },
      "source": [
        "7. Extract the 2nd row.\n",
        "\n",
        "\n",
        "\n"
      ]
    },
    {
      "cell_type": "code",
      "execution_count": null,
      "metadata": {
        "colab": {
          "base_uri": "https://localhost:8080/"
        },
        "id": "NkkDVfmqTNSk",
        "outputId": "8b98dd8f-942d-46cb-fa6a-d44aa13ba884"
      },
      "outputs": [
        {
          "data": {
            "text/plain": [
              "array([[0.56145061, 0.02211646, 0.24853587, 0.61223716, 0.06407304],\n",
              "       [0.24675824, 0.6422091 , 0.96495898, 0.06160861, 0.73347973],\n",
              "       [0.90437584, 0.42356512, 0.97737584, 0.13348148, 0.45351745],\n",
              "       [0.56861258, 0.93292308, 0.70804849, 0.88580585, 0.73356387],\n",
              "       [0.1620257 , 0.66778998, 0.17949926, 0.8436474 , 0.69547389]])"
            ]
          },
          "execution_count": 49,
          "metadata": {},
          "output_type": "execute_result"
        }
      ],
      "source": [
        "b = np.random.random(25).reshape((5,5))\n",
        "b"
      ]
    },
    {
      "cell_type": "code",
      "execution_count": null,
      "metadata": {
        "colab": {
          "base_uri": "https://localhost:8080/"
        },
        "id": "TxieQEFQUI9c",
        "outputId": "2715d685-5717-45ad-b2f6-4f7434299209"
      },
      "outputs": [
        {
          "data": {
            "text/plain": [
              "array([0.24675824, 0.6422091 , 0.96495898, 0.06160861, 0.73347973])"
            ]
          },
          "execution_count": 51,
          "metadata": {},
          "output_type": "execute_result"
        }
      ],
      "source": [
        "b[1]"
      ]
    },
    {
      "cell_type": "markdown",
      "metadata": {
        "id": "0g-LNpaQT9UC"
      },
      "source": [
        "8. Extract the last column."
      ]
    },
    {
      "cell_type": "code",
      "execution_count": null,
      "metadata": {
        "colab": {
          "base_uri": "https://localhost:8080/"
        },
        "id": "3MVFu5LET-nQ",
        "outputId": "0a7e9653-464e-4ca8-c743-879d5c6be5ad"
      },
      "outputs": [
        {
          "data": {
            "text/plain": [
              "array([0.06407304, 0.73347973, 0.45351745, 0.73356387, 0.69547389])"
            ]
          },
          "execution_count": 62,
          "metadata": {},
          "output_type": "execute_result"
        }
      ],
      "source": [
        "b[:, -1]"
      ]
    },
    {
      "cell_type": "markdown",
      "metadata": {
        "id": "v_4CiyKsUAbf"
      },
      "source": [
        "9. Reverse the rows."
      ]
    },
    {
      "cell_type": "code",
      "execution_count": null,
      "metadata": {
        "colab": {
          "base_uri": "https://localhost:8080/"
        },
        "id": "iDta4skvUB6-",
        "outputId": "ca250192-d96f-4654-a8e4-22536c6db94a"
      },
      "outputs": [
        {
          "data": {
            "text/plain": [
              "array([[0.1620257 , 0.66778998, 0.17949926, 0.8436474 , 0.69547389],\n",
              "       [0.56861258, 0.93292308, 0.70804849, 0.88580585, 0.73356387],\n",
              "       [0.90437584, 0.42356512, 0.97737584, 0.13348148, 0.45351745],\n",
              "       [0.24675824, 0.6422091 , 0.96495898, 0.06160861, 0.73347973],\n",
              "       [0.56145061, 0.02211646, 0.24853587, 0.61223716, 0.06407304]])"
            ]
          },
          "execution_count": 59,
          "metadata": {},
          "output_type": "execute_result"
        }
      ],
      "source": [
        "b[::-1]"
      ]
    },
    {
      "cell_type": "markdown",
      "metadata": {
        "id": "H2WvUnCaWLm2"
      },
      "source": [
        "10. Given a 5×5 matrix of values from 1 to 25, extract a 3×3 sub-matrix from the center.\n",
        "\n"
      ]
    },
    {
      "cell_type": "code",
      "execution_count": null,
      "metadata": {
        "colab": {
          "base_uri": "https://localhost:8080/"
        },
        "id": "DMjXwCepWC32",
        "outputId": "adde6616-6942-44a4-8f86-a15d7b15244c"
      },
      "outputs": [
        {
          "data": {
            "text/plain": [
              "array([[ 0,  1,  2,  3,  4],\n",
              "       [ 5,  6,  7,  8,  9],\n",
              "       [10, 11, 12, 13, 14],\n",
              "       [15, 16, 17, 18, 19],\n",
              "       [20, 21, 22, 23, 24]])"
            ]
          },
          "execution_count": 64,
          "metadata": {},
          "output_type": "execute_result"
        }
      ],
      "source": [
        "np.arange(25).reshape(5,5)"
      ]
    },
    {
      "cell_type": "code",
      "execution_count": null,
      "metadata": {
        "colab": {
          "base_uri": "https://localhost:8080/"
        },
        "id": "YD8YIV1VWFEV",
        "outputId": "68b7258f-c1d9-479a-c57c-d1b845633c06"
      },
      "outputs": [
        {
          "data": {
            "text/plain": [
              "array([[ 6,  7,  8],\n",
              "       [11, 12, 13],\n",
              "       [16, 17, 18]])"
            ]
          },
          "execution_count": 65,
          "metadata": {},
          "output_type": "execute_result"
        }
      ],
      "source": [
        "np.arange(25).reshape(5,5)[1:4, 1:4]"
      ]
    },
    {
      "cell_type": "markdown",
      "metadata": {
        "id": "M-Nlyk5MWX95"
      },
      "source": [
        "11. From a random array of integers between 0 and 100, filter all values > 50."
      ]
    },
    {
      "cell_type": "code",
      "execution_count": null,
      "metadata": {
        "colab": {
          "base_uri": "https://localhost:8080/"
        },
        "id": "OzLEjj6xWSWy",
        "outputId": "51ce0b60-4032-4c4e-f8a1-642ef7f4558f"
      },
      "outputs": [
        {
          "data": {
            "text/plain": [
              "array([[ 9, 87, 17, 26, 41],\n",
              "       [81, 87, 38, 78,  6],\n",
              "       [ 2, 77,  2, 65, 66],\n",
              "       [49,  6, 64, 49, 73],\n",
              "       [13, 76, 43, 68, 23]])"
            ]
          },
          "execution_count": 72,
          "metadata": {},
          "output_type": "execute_result"
        }
      ],
      "source": [
        "c = np.random.randint(1,100, (5,5))\n",
        "c"
      ]
    },
    {
      "cell_type": "code",
      "execution_count": null,
      "metadata": {
        "colab": {
          "base_uri": "https://localhost:8080/"
        },
        "id": "q-_tYFNuWe1Z",
        "outputId": "b2c728d5-6994-406a-af93-88d480237c5d"
      },
      "outputs": [
        {
          "data": {
            "text/plain": [
              "array([87, 81, 87, 78, 77, 65, 66, 64, 73, 76, 68])"
            ]
          },
          "execution_count": 73,
          "metadata": {},
          "output_type": "execute_result"
        }
      ],
      "source": [
        "c[c>50]"
      ]
    },
    {
      "cell_type": "markdown",
      "metadata": {
        "id": "_3rVYmzuW1Vc"
      },
      "source": [
        "12. Create a 3x3 matrix with all values 1, then add a vector [1, 2, 3] to each row."
      ]
    },
    {
      "cell_type": "code",
      "execution_count": null,
      "metadata": {
        "colab": {
          "base_uri": "https://localhost:8080/"
        },
        "id": "ZEv5jV_sWlxN",
        "outputId": "db69e71f-5616-466f-c009-42b6f95b86e3"
      },
      "outputs": [
        {
          "data": {
            "text/plain": [
              "array([[1., 1., 1.],\n",
              "       [1., 1., 1.],\n",
              "       [1., 1., 1.]])"
            ]
          },
          "execution_count": 79,
          "metadata": {},
          "output_type": "execute_result"
        }
      ],
      "source": [
        "np.ones((3,3))"
      ]
    },
    {
      "cell_type": "code",
      "execution_count": null,
      "metadata": {
        "colab": {
          "base_uri": "https://localhost:8080/"
        },
        "id": "-sAvGZ3vW7rh",
        "outputId": "144dbc21-f811-4c04-e324-7fac9fa4debe"
      },
      "outputs": [
        {
          "data": {
            "text/plain": [
              "array([[2., 3., 4.],\n",
              "       [2., 3., 4.],\n",
              "       [2., 3., 4.]])"
            ]
          },
          "execution_count": 80,
          "metadata": {},
          "output_type": "execute_result"
        }
      ],
      "source": [
        "np.ones((3,3)) + np.array([1,2,3])"
      ]
    },
    {
      "cell_type": "code",
      "execution_count": null,
      "metadata": {
        "colab": {
          "base_uri": "https://localhost:8080/"
        },
        "id": "LfCi1XWyXTXv",
        "outputId": "502cf031-f670-4467-810e-98609af21789"
      },
      "outputs": [
        {
          "data": {
            "text/plain": [
              "array([[2., 2., 2.],\n",
              "       [3., 3., 3.],\n",
              "       [4., 4., 4.]])"
            ]
          },
          "execution_count": 87,
          "metadata": {},
          "output_type": "execute_result"
        }
      ],
      "source": [
        "np.ones((3,3)) + np.array([1,2,3]).reshape(3, 1)"
      ]
    },
    {
      "cell_type": "code",
      "execution_count": null,
      "metadata": {
        "colab": {
          "base_uri": "https://localhost:8080/"
        },
        "id": "pDsepQEsXU0e",
        "outputId": "89493ab0-3bf1-4744-8d96-5619eba77eb8"
      },
      "outputs": [
        {
          "data": {
            "text/plain": [
              "array([1, 2, 3])"
            ]
          },
          "execution_count": 88,
          "metadata": {},
          "output_type": "execute_result"
        }
      ],
      "source": [
        "np.array([1,2,3])"
      ]
    },
    {
      "cell_type": "code",
      "execution_count": null,
      "metadata": {
        "colab": {
          "base_uri": "https://localhost:8080/"
        },
        "id": "FvMQ6oO6XuZG",
        "outputId": "278b91c8-abdf-45c8-8221-0f0521d87fef"
      },
      "outputs": [
        {
          "data": {
            "text/plain": [
              "array([[1],\n",
              "       [2],\n",
              "       [3]])"
            ]
          },
          "execution_count": 89,
          "metadata": {},
          "output_type": "execute_result"
        }
      ],
      "source": [
        "np.array([1,2,3]).reshape(3, 1)"
      ]
    },
    {
      "cell_type": "markdown",
      "metadata": {
        "id": "XsiAvF7sX2se"
      },
      "source": [
        "13. Create two random 3×3 matrices and perform:\n",
        "\n",
        "- Element-wise addition\n",
        "\n",
        "- Matrix multiplication\n",
        "\n",
        "- Element-wise division\n"
      ]
    },
    {
      "cell_type": "code",
      "execution_count": null,
      "metadata": {
        "id": "5FjK8cgdXyDp"
      },
      "outputs": [],
      "source": [
        "a = np.random.randint(1, 10, (3,3))\n",
        "b = np.random.randint(1, 10, (3,3))"
      ]
    },
    {
      "cell_type": "code",
      "execution_count": null,
      "metadata": {
        "colab": {
          "base_uri": "https://localhost:8080/"
        },
        "id": "KokepM5wYILE",
        "outputId": "e2388813-b183-4bc3-a42a-eb4a7c37a13f"
      },
      "outputs": [
        {
          "data": {
            "text/plain": [
              "array([[4, 6, 5],\n",
              "       [1, 8, 9],\n",
              "       [4, 1, 1]])"
            ]
          },
          "execution_count": 93,
          "metadata": {},
          "output_type": "execute_result"
        }
      ],
      "source": [
        "a"
      ]
    },
    {
      "cell_type": "code",
      "execution_count": null,
      "metadata": {
        "colab": {
          "base_uri": "https://localhost:8080/"
        },
        "id": "EDuU4ZDkYXPI",
        "outputId": "8d8a84b0-d406-47d4-dda5-ac5af8fe852b"
      },
      "outputs": [
        {
          "data": {
            "text/plain": [
              "array([[9, 8, 7],\n",
              "       [6, 6, 8],\n",
              "       [2, 3, 8]])"
            ]
          },
          "execution_count": 94,
          "metadata": {},
          "output_type": "execute_result"
        }
      ],
      "source": [
        "b"
      ]
    },
    {
      "cell_type": "code",
      "execution_count": null,
      "metadata": {
        "colab": {
          "base_uri": "https://localhost:8080/"
        },
        "id": "P9el91-EYZnv",
        "outputId": "1a3a70e8-343c-46ef-9283-69a9c49c5f85"
      },
      "outputs": [
        {
          "data": {
            "text/plain": [
              "array([[13, 14, 12],\n",
              "       [ 7, 14, 17],\n",
              "       [ 6,  4,  9]])"
            ]
          },
          "execution_count": 95,
          "metadata": {},
          "output_type": "execute_result"
        }
      ],
      "source": [
        "a+b"
      ]
    },
    {
      "cell_type": "code",
      "execution_count": null,
      "metadata": {
        "colab": {
          "base_uri": "https://localhost:8080/"
        },
        "id": "vzLSJbCgYagY",
        "outputId": "f43a5cc6-7cdb-4109-ff1d-d948d8ea2bac"
      },
      "outputs": [
        {
          "data": {
            "text/plain": [
              "array([[36, 48, 35],\n",
              "       [ 6, 48, 72],\n",
              "       [ 8,  3,  8]])"
            ]
          },
          "execution_count": 96,
          "metadata": {},
          "output_type": "execute_result"
        }
      ],
      "source": [
        "a*b"
      ]
    },
    {
      "cell_type": "code",
      "execution_count": null,
      "metadata": {
        "colab": {
          "base_uri": "https://localhost:8080/"
        },
        "id": "_yQj2nI5YcyZ",
        "outputId": "75364ffa-d168-40c0-ae88-d67efad35b0b"
      },
      "outputs": [
        {
          "data": {
            "text/plain": [
              "array([[2.25      , 1.33333333, 1.4       ],\n",
              "       [6.        , 0.75      , 0.88888889],\n",
              "       [0.5       , 3.        , 8.        ]])"
            ]
          },
          "execution_count": 98,
          "metadata": {},
          "output_type": "execute_result"
        }
      ],
      "source": [
        "b/a"
      ]
    },
    {
      "cell_type": "code",
      "execution_count": null,
      "metadata": {
        "colab": {
          "base_uri": "https://localhost:8080/"
        },
        "id": "yKN_UPjJYdx9",
        "outputId": "371e9fdb-1822-4e89-fb37-c0dd6a5b4500"
      },
      "outputs": [
        {
          "data": {
            "text/plain": [
              "array([[0.44444444, 0.75      , 0.71428571],\n",
              "       [0.16666667, 1.33333333, 1.125     ],\n",
              "       [2.        , 0.33333333, 0.125     ]])"
            ]
          },
          "execution_count": 99,
          "metadata": {},
          "output_type": "execute_result"
        }
      ],
      "source": [
        "a/b"
      ]
    },
    {
      "cell_type": "markdown",
      "metadata": {
        "id": "i5ThatRFYxaK"
      },
      "source": [
        "14. Given a 5×4 matrix of random values, calculate:\n",
        "\n",
        "- Mean of each column\n",
        "\n",
        "- Standard deviation of each row\n",
        "\n",
        "- Find the index of the max element"
      ]
    },
    {
      "cell_type": "code",
      "execution_count": null,
      "metadata": {
        "colab": {
          "base_uri": "https://localhost:8080/"
        },
        "id": "VHCM9jPzYt1y",
        "outputId": "fa8fa06d-48a8-4eac-80ca-75e66046c568"
      },
      "outputs": [
        {
          "data": {
            "text/plain": [
              "array([[2, 3, 6, 8],\n",
              "       [8, 3, 6, 8],\n",
              "       [2, 7, 9, 5],\n",
              "       [7, 9, 9, 7],\n",
              "       [8, 2, 4, 9]])"
            ]
          },
          "execution_count": 108,
          "metadata": {},
          "output_type": "execute_result"
        }
      ],
      "source": [
        "d = np.random.randint(1,10, (5,4))\n",
        "d"
      ]
    },
    {
      "cell_type": "code",
      "execution_count": null,
      "metadata": {
        "colab": {
          "base_uri": "https://localhost:8080/"
        },
        "id": "9dj-Qv-aZFYi",
        "outputId": "ae23504d-e366-4bc6-8d4f-578665c0e382"
      },
      "outputs": [
        {
          "data": {
            "text/plain": [
              "array([5.4, 4.8, 6.8, 7.4])"
            ]
          },
          "execution_count": 110,
          "metadata": {},
          "output_type": "execute_result"
        }
      ],
      "source": [
        "d.mean(axis=0) # axis = 0 -> sum across cols"
      ]
    },
    {
      "cell_type": "code",
      "execution_count": null,
      "metadata": {
        "colab": {
          "base_uri": "https://localhost:8080/"
        },
        "id": "zDUt_ZgpaJud",
        "outputId": "9470e324-197c-4959-8434-fb71401db95f"
      },
      "outputs": [
        {
          "data": {
            "text/plain": [
              "array([4.75, 6.25, 5.75, 8.  , 5.75])"
            ]
          },
          "execution_count": 111,
          "metadata": {},
          "output_type": "execute_result"
        }
      ],
      "source": [
        "d.mean(axis=1) # axis = 1 -> sum across rows"
      ]
    },
    {
      "cell_type": "code",
      "execution_count": null,
      "metadata": {
        "colab": {
          "base_uri": "https://localhost:8080/"
        },
        "id": "6kF1hJ7wcRTV",
        "outputId": "29508d4d-3c21-480e-8c33-0b56528f22ca"
      },
      "outputs": [
        {
          "data": {
            "text/plain": [
              "array([2.384848  , 2.04633819, 2.58602011, 1.        , 2.86138079])"
            ]
          },
          "execution_count": 112,
          "metadata": {},
          "output_type": "execute_result"
        }
      ],
      "source": [
        "d.std(axis=1)"
      ]
    },
    {
      "cell_type": "code",
      "execution_count": null,
      "metadata": {
        "colab": {
          "base_uri": "https://localhost:8080/"
        },
        "id": "RAuZz2h-cYFl",
        "outputId": "74b2f06a-ce9b-455c-f2a6-ae275269986d"
      },
      "outputs": [
        {
          "data": {
            "text/plain": [
              "np.int64(9)"
            ]
          },
          "execution_count": 113,
          "metadata": {},
          "output_type": "execute_result"
        }
      ],
      "source": [
        "np.max(d)"
      ]
    },
    {
      "cell_type": "code",
      "execution_count": null,
      "metadata": {
        "colab": {
          "base_uri": "https://localhost:8080/"
        },
        "id": "TJ4MJRHgceY1",
        "outputId": "04023704-ae6f-411c-9fd9-32eb6b7b84c9"
      },
      "outputs": [
        {
          "data": {
            "text/plain": [
              "np.int64(10)"
            ]
          },
          "execution_count": 114,
          "metadata": {},
          "output_type": "execute_result"
        }
      ],
      "source": [
        "np.argmax(d)"
      ]
    },
    {
      "cell_type": "markdown",
      "metadata": {},
      "source": [
        "$$\\textbf{Day 2}$$\n",
        "\n",
        "---"
      ]
    },
    {
      "cell_type": "code",
      "execution_count": 1,
      "metadata": {},
      "outputs": [],
      "source": [
        "import numpy as np"
      ]
    },
    {
      "cell_type": "markdown",
      "metadata": {},
      "source": [
        "1. Create an array of shape (3, 4) filled with integers from 0 to 11 using a single line of NumPy code. Then, flatten it using a method that does not create a copy"
      ]
    },
    {
      "cell_type": "code",
      "execution_count": 2,
      "metadata": {},
      "outputs": [],
      "source": [
        "a = np.random.randint(1, 12, (3, 4))"
      ]
    },
    {
      "cell_type": "code",
      "execution_count": null,
      "metadata": {},
      "outputs": [],
      "source": []
    }
  ],
  "metadata": {
    "colab": {
      "provenance": []
    },
    "kernelspec": {
      "display_name": "daily-learning (3.13.4)",
      "language": "python",
      "name": "python3"
    },
    "language_info": {
      "codemirror_mode": {
        "name": "ipython",
        "version": 3
      },
      "file_extension": ".py",
      "mimetype": "text/x-python",
      "name": "python",
      "nbconvert_exporter": "python",
      "pygments_lexer": "ipython3",
      "version": "3.13.4"
    }
  },
  "nbformat": 4,
  "nbformat_minor": 0
}
