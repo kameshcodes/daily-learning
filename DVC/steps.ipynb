{
 "cells": [
  {
   "cell_type": "markdown",
   "metadata": {},
   "source": [
    "# 1. CookieCutter"
   ]
  },
  {
   "cell_type": "markdown",
   "metadata": {},
   "source": [
    "### Installation \n",
    "\n",
    "**CMD** : `pip install cookiecutter`\n",
    "\n",
    "\n",
    "### Getting Templete\n",
    "\n",
    "**CMD** : `cookiecutter -c v1 https://github.com/drivendata/cookiecutter-data-science`\n",
    "\n",
    "and follow the steps."
   ]
  },
  {
   "cell_type": "markdown",
   "metadata": {},
   "source": [
    "# 2. DVC\n",
    "DVC is a tool for data science that takes advantage of existing software engineering toolset. It helps machine learning teams manage large datasets, make projects reproducible, and collaborate better."
   ]
  },
  {
   "cell_type": "markdown",
   "metadata": {},
   "source": [
    "### Installation \n",
    "\n",
    "**CMD** : `pip install dvc dvc_gdrive`\n",
    "\n",
    "You need to install **dvc_gdrive** along with **dvc** otherwise dvc will give error while pushing data to gdrive"
   ]
  },
  {
   "cell_type": "markdown",
   "metadata": {},
   "source": [
    "### Working Basics\n",
    "\n",
    "**Step 1:** Clone the repo or init a repo with `git init`. You can Initalialize DVC only when git is tracking the repo.\n",
    "\n",
    "**Step 2:** `dvc init` to initalize dvc in the local repo !\n",
    "\n",
    "**Step 3:** A few internal files are created that should be added to Git:\n",
    "\n",
    "`git commit -m \"Initialized DVC\"`\n",
    "\n",
    "dvc is ready !\n",
    "\n",
    "**Step 4::** Connect dvc to gdrive:\n",
    "\n",
    "        dvc remote add -d <remote_name> gdrive://1o6M0jKYYjxHp2CU_CttCHr9Ea5Whm9HD\n",
    "\n",
    "**Step 5:** To track the data file. `dvc add <folder_name> or <file_name>`. This will start tracking the data and create a `<folder_name>.dvc` file. You can track the changes in the data file with help changes in **data.dvc** file with help of git. \n",
    "\n",
    "**Step 6:** Add `<folder_name>.dvc` to the git.\n",
    "\n",
    "            git add <folder_name>.dvc\n",
    "\n",
    "and then commit\n",
    " \n",
    "            git commit -m \"data is being tracked\"\n",
    "\n",
    "and the push it to remote\n",
    "\n",
    "            dvc push\n",
    "\n",
    "**Step 7:** Revert to prev verison of data\n",
    "\n",
    "get the SHA ID of commit of data from \n",
    "        git log --oneline <filename>\n",
    "\n",
    "Then\n",
    "        git checkout <SHA_ID> <file_name.dvc>\n",
    "        dvc checkout \n",
    "and you are having data in that state.\n",
    "\n",
    "\n",
    "**Step 8:** Commit changes \n"
   ]
  },
  {
   "cell_type": "markdown",
   "metadata": {},
   "source": []
  }
 ],
 "metadata": {
  "kernelspec": {
   "display_name": "dl",
   "language": "python",
   "name": "python3"
  },
  "language_info": {
   "name": "python",
   "version": "3.9.12"
  }
 },
 "nbformat": 4,
 "nbformat_minor": 2
}
