{
 "cells": [
  {
   "cell_type": "markdown",
   "metadata": {},
   "source": [
    "# CookieCutter"
   ]
  },
  {
   "cell_type": "markdown",
   "metadata": {},
   "source": [
    "### Installation \n",
    "\n",
    "**CMD** : `pip install cookiecutter`\n",
    "\n",
    "\n",
    "### Getting Templete\n",
    "\n",
    "**CMD** : `cookiecutter -c v1 https://github.com/drivendata/cookiecutter-data-science`\n",
    "\n",
    "and follow the steps."
   ]
  },
  {
   "cell_type": "markdown",
   "metadata": {},
   "source": []
  }
 ],
 "metadata": {
  "language_info": {
   "name": "python"
  }
 },
 "nbformat": 4,
 "nbformat_minor": 2
}
